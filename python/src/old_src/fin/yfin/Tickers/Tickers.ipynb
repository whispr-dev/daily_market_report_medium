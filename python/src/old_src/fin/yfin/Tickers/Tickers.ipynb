{
 "cells": [
  {
   "cell_type": "code",
   "execution_count": 3,
   "id": "initial_id",
   "metadata": {
    "collapsed": true,
    "ExecuteTime": {
     "end_time": "2024-02-25T05:05:51.303770Z",
     "start_time": "2024-02-25T05:05:51.292712Z"
    }
   },
   "outputs": [],
   "source": [
    "import yfinance as yf\n",
    "import warnings\n",
    "warnings.filterwarnings(\"ignore\")\n"
   ]
  },
  {
   "cell_type": "code",
   "outputs": [
    {
     "name": "stdout",
     "output_type": "stream",
     "text": [
      "The current bid price for AAPL is 182.32\n",
      "The current bid price for TSLA is 191.09\n",
      "The current bid price for NVDA is 786.5\n",
      "The current bid price for AMD is 175.85\n",
      "The current bid price for AMZN is 175.17\n",
      "Could not get bid price for FB\n",
      "The current bid price for MSFT is 409.42\n",
      "The current bid price for GOOGL is 143.79\n"
     ]
    }
   ],
   "source": [
    "tickers = yf.Tickers(\"AAPL TSLA NVDA AMD AMZN FB MSFT GOOGL\")\n",
    "\n",
    "for ticker in tickers.symbols:\n",
    "    try:\n",
    "        print(f'The current bid price for {tickers.tickers[ticker].ticker} is {tickers.tickers[ticker].info[\"bid\"]}')\n",
    "    except KeyError:\n",
    "        print(f'Could not get bid price for {ticker}')\n"
   ],
   "metadata": {
    "collapsed": false,
    "ExecuteTime": {
     "end_time": "2024-02-25T05:06:25.980246Z",
     "start_time": "2024-02-25T05:06:24.917654Z"
    }
   },
   "id": "cffc48f543146e99",
   "execution_count": 7
  },
  {
   "cell_type": "code",
   "outputs": [
    {
     "data": {
      "text/plain": "                                 Open        High         Low       Close  \\\nDate                                                                        \n2024-01-24 00:00:00-05:00  195.170947  196.129730  194.092321  194.252121   \n2024-01-25 00:00:00-05:00  194.971211  196.019876  192.863900  193.922546   \n2024-01-26 00:00:00-05:00  194.022423  194.511788  191.695390  192.174774   \n2024-01-29 00:00:00-05:00  191.765299  191.955059  189.338403  191.485657   \n2024-01-30 00:00:00-05:00  190.696667  191.555572  187.231088  187.800354   \n2024-01-31 00:00:00-05:00  186.801628  186.861565  184.115069  184.164993   \n2024-02-01 00:00:00-05:00  183.755534  186.711754  183.585753  186.621872   \n2024-02-02 00:00:00-05:00  179.630787  187.091269  179.021564  185.613159   \n2024-02-05 00:00:00-05:00  187.910213  189.008818  185.603160  187.440811   \n2024-02-06 00:00:00-05:00  186.621869  189.068743  186.531987  189.058762   \n2024-02-07 00:00:00-05:00  190.397053  190.806534  188.369641  189.168625   \n2024-02-08 00:00:00-05:00  189.148646  189.298448  187.111252  188.080017   \n2024-02-09 00:00:00-05:00  188.649994  189.990005  188.000000  188.850006   \n2024-02-12 00:00:00-05:00  188.419998  188.669998  186.789993  187.149994   \n2024-02-13 00:00:00-05:00  185.770004  186.210007  183.509995  185.039993   \n2024-02-14 00:00:00-05:00  185.320007  185.529999  182.440002  184.149994   \n2024-02-15 00:00:00-05:00  183.550003  184.490005  181.350006  183.860001   \n2024-02-16 00:00:00-05:00  183.419998  184.850006  181.669998  182.309998   \n2024-02-20 00:00:00-05:00  181.789993  182.429993  180.000000  181.559998   \n2024-02-21 00:00:00-05:00  181.940002  182.889999  180.660004  182.320007   \n2024-02-22 00:00:00-05:00  183.479996  184.960007  182.460007  184.369995   \n2024-02-23 00:00:00-05:00  185.009995  185.039993  182.229996  182.520004   \n\n                              Volume  Dividends  Stock Splits  \nDate                                                           \n2024-01-24 00:00:00-05:00   53631300       0.00           0.0  \n2024-01-25 00:00:00-05:00   54822100       0.00           0.0  \n2024-01-26 00:00:00-05:00   44594000       0.00           0.0  \n2024-01-29 00:00:00-05:00   47145600       0.00           0.0  \n2024-01-30 00:00:00-05:00   55859400       0.00           0.0  \n2024-01-31 00:00:00-05:00   55467800       0.00           0.0  \n2024-02-01 00:00:00-05:00   64885400       0.00           0.0  \n2024-02-02 00:00:00-05:00  102518000       0.00           0.0  \n2024-02-05 00:00:00-05:00   69668800       0.00           0.0  \n2024-02-06 00:00:00-05:00   43490800       0.00           0.0  \n2024-02-07 00:00:00-05:00   53439000       0.00           0.0  \n2024-02-08 00:00:00-05:00   40962000       0.00           0.0  \n2024-02-09 00:00:00-05:00   45155200       0.24           0.0  \n2024-02-12 00:00:00-05:00   41781900       0.00           0.0  \n2024-02-13 00:00:00-05:00   56529500       0.00           0.0  \n2024-02-14 00:00:00-05:00   54630500       0.00           0.0  \n2024-02-15 00:00:00-05:00   65434500       0.00           0.0  \n2024-02-16 00:00:00-05:00   49701400       0.00           0.0  \n2024-02-20 00:00:00-05:00   53665600       0.00           0.0  \n2024-02-21 00:00:00-05:00   41529700       0.00           0.0  \n2024-02-22 00:00:00-05:00   52292200       0.00           0.0  \n2024-02-23 00:00:00-05:00   45074500       0.00           0.0  ",
      "text/html": "<div>\n<style scoped>\n    .dataframe tbody tr th:only-of-type {\n        vertical-align: middle;\n    }\n\n    .dataframe tbody tr th {\n        vertical-align: top;\n    }\n\n    .dataframe thead th {\n        text-align: right;\n    }\n</style>\n<table border=\"1\" class=\"dataframe\">\n  <thead>\n    <tr style=\"text-align: right;\">\n      <th></th>\n      <th>Open</th>\n      <th>High</th>\n      <th>Low</th>\n      <th>Close</th>\n      <th>Volume</th>\n      <th>Dividends</th>\n      <th>Stock Splits</th>\n    </tr>\n    <tr>\n      <th>Date</th>\n      <th></th>\n      <th></th>\n      <th></th>\n      <th></th>\n      <th></th>\n      <th></th>\n      <th></th>\n    </tr>\n  </thead>\n  <tbody>\n    <tr>\n      <th>2024-01-24 00:00:00-05:00</th>\n      <td>195.170947</td>\n      <td>196.129730</td>\n      <td>194.092321</td>\n      <td>194.252121</td>\n      <td>53631300</td>\n      <td>0.00</td>\n      <td>0.0</td>\n    </tr>\n    <tr>\n      <th>2024-01-25 00:00:00-05:00</th>\n      <td>194.971211</td>\n      <td>196.019876</td>\n      <td>192.863900</td>\n      <td>193.922546</td>\n      <td>54822100</td>\n      <td>0.00</td>\n      <td>0.0</td>\n    </tr>\n    <tr>\n      <th>2024-01-26 00:00:00-05:00</th>\n      <td>194.022423</td>\n      <td>194.511788</td>\n      <td>191.695390</td>\n      <td>192.174774</td>\n      <td>44594000</td>\n      <td>0.00</td>\n      <td>0.0</td>\n    </tr>\n    <tr>\n      <th>2024-01-29 00:00:00-05:00</th>\n      <td>191.765299</td>\n      <td>191.955059</td>\n      <td>189.338403</td>\n      <td>191.485657</td>\n      <td>47145600</td>\n      <td>0.00</td>\n      <td>0.0</td>\n    </tr>\n    <tr>\n      <th>2024-01-30 00:00:00-05:00</th>\n      <td>190.696667</td>\n      <td>191.555572</td>\n      <td>187.231088</td>\n      <td>187.800354</td>\n      <td>55859400</td>\n      <td>0.00</td>\n      <td>0.0</td>\n    </tr>\n    <tr>\n      <th>2024-01-31 00:00:00-05:00</th>\n      <td>186.801628</td>\n      <td>186.861565</td>\n      <td>184.115069</td>\n      <td>184.164993</td>\n      <td>55467800</td>\n      <td>0.00</td>\n      <td>0.0</td>\n    </tr>\n    <tr>\n      <th>2024-02-01 00:00:00-05:00</th>\n      <td>183.755534</td>\n      <td>186.711754</td>\n      <td>183.585753</td>\n      <td>186.621872</td>\n      <td>64885400</td>\n      <td>0.00</td>\n      <td>0.0</td>\n    </tr>\n    <tr>\n      <th>2024-02-02 00:00:00-05:00</th>\n      <td>179.630787</td>\n      <td>187.091269</td>\n      <td>179.021564</td>\n      <td>185.613159</td>\n      <td>102518000</td>\n      <td>0.00</td>\n      <td>0.0</td>\n    </tr>\n    <tr>\n      <th>2024-02-05 00:00:00-05:00</th>\n      <td>187.910213</td>\n      <td>189.008818</td>\n      <td>185.603160</td>\n      <td>187.440811</td>\n      <td>69668800</td>\n      <td>0.00</td>\n      <td>0.0</td>\n    </tr>\n    <tr>\n      <th>2024-02-06 00:00:00-05:00</th>\n      <td>186.621869</td>\n      <td>189.068743</td>\n      <td>186.531987</td>\n      <td>189.058762</td>\n      <td>43490800</td>\n      <td>0.00</td>\n      <td>0.0</td>\n    </tr>\n    <tr>\n      <th>2024-02-07 00:00:00-05:00</th>\n      <td>190.397053</td>\n      <td>190.806534</td>\n      <td>188.369641</td>\n      <td>189.168625</td>\n      <td>53439000</td>\n      <td>0.00</td>\n      <td>0.0</td>\n    </tr>\n    <tr>\n      <th>2024-02-08 00:00:00-05:00</th>\n      <td>189.148646</td>\n      <td>189.298448</td>\n      <td>187.111252</td>\n      <td>188.080017</td>\n      <td>40962000</td>\n      <td>0.00</td>\n      <td>0.0</td>\n    </tr>\n    <tr>\n      <th>2024-02-09 00:00:00-05:00</th>\n      <td>188.649994</td>\n      <td>189.990005</td>\n      <td>188.000000</td>\n      <td>188.850006</td>\n      <td>45155200</td>\n      <td>0.24</td>\n      <td>0.0</td>\n    </tr>\n    <tr>\n      <th>2024-02-12 00:00:00-05:00</th>\n      <td>188.419998</td>\n      <td>188.669998</td>\n      <td>186.789993</td>\n      <td>187.149994</td>\n      <td>41781900</td>\n      <td>0.00</td>\n      <td>0.0</td>\n    </tr>\n    <tr>\n      <th>2024-02-13 00:00:00-05:00</th>\n      <td>185.770004</td>\n      <td>186.210007</td>\n      <td>183.509995</td>\n      <td>185.039993</td>\n      <td>56529500</td>\n      <td>0.00</td>\n      <td>0.0</td>\n    </tr>\n    <tr>\n      <th>2024-02-14 00:00:00-05:00</th>\n      <td>185.320007</td>\n      <td>185.529999</td>\n      <td>182.440002</td>\n      <td>184.149994</td>\n      <td>54630500</td>\n      <td>0.00</td>\n      <td>0.0</td>\n    </tr>\n    <tr>\n      <th>2024-02-15 00:00:00-05:00</th>\n      <td>183.550003</td>\n      <td>184.490005</td>\n      <td>181.350006</td>\n      <td>183.860001</td>\n      <td>65434500</td>\n      <td>0.00</td>\n      <td>0.0</td>\n    </tr>\n    <tr>\n      <th>2024-02-16 00:00:00-05:00</th>\n      <td>183.419998</td>\n      <td>184.850006</td>\n      <td>181.669998</td>\n      <td>182.309998</td>\n      <td>49701400</td>\n      <td>0.00</td>\n      <td>0.0</td>\n    </tr>\n    <tr>\n      <th>2024-02-20 00:00:00-05:00</th>\n      <td>181.789993</td>\n      <td>182.429993</td>\n      <td>180.000000</td>\n      <td>181.559998</td>\n      <td>53665600</td>\n      <td>0.00</td>\n      <td>0.0</td>\n    </tr>\n    <tr>\n      <th>2024-02-21 00:00:00-05:00</th>\n      <td>181.940002</td>\n      <td>182.889999</td>\n      <td>180.660004</td>\n      <td>182.320007</td>\n      <td>41529700</td>\n      <td>0.00</td>\n      <td>0.0</td>\n    </tr>\n    <tr>\n      <th>2024-02-22 00:00:00-05:00</th>\n      <td>183.479996</td>\n      <td>184.960007</td>\n      <td>182.460007</td>\n      <td>184.369995</td>\n      <td>52292200</td>\n      <td>0.00</td>\n      <td>0.0</td>\n    </tr>\n    <tr>\n      <th>2024-02-23 00:00:00-05:00</th>\n      <td>185.009995</td>\n      <td>185.039993</td>\n      <td>182.229996</td>\n      <td>182.520004</td>\n      <td>45074500</td>\n      <td>0.00</td>\n      <td>0.0</td>\n    </tr>\n  </tbody>\n</table>\n</div>"
     },
     "execution_count": 6,
     "metadata": {},
     "output_type": "execute_result"
    }
   ],
   "source": [
    "tickers_str = \"AAPL TSLA NVDA AMD AMZN FB MSFT GOOGL\"\n",
    "tickers = yf.Tickers(tickers_str)\n",
    "tickers.tickers['AAPL'].history('1mo')\n"
   ],
   "metadata": {
    "collapsed": false,
    "ExecuteTime": {
     "end_time": "2024-02-25T05:06:00.408988Z",
     "start_time": "2024-02-25T05:05:59.224560Z"
    }
   },
   "id": "9a5ede334357d431",
   "execution_count": 6
  },
  {
   "cell_type": "code",
   "outputs": [
    {
     "name": "stdout",
     "output_type": "stream",
     "text": [
      "tickers is of type <class 'yfinance.tickers.Tickers'>\n",
      "tickers.tickers is of type <class 'dict'>\n"
     ]
    }
   ],
   "source": [
    "tickers_str = \"AAPL TSLA NVDA AMD AMZN FB MSFT GOOGL\"\n",
    "tickers = yf.Tickers(tickers_str)\n",
    "print(f'tickers is of type {type(tickers)}')\n",
    "print(f'tickers.tickers is of type {type(tickers.tickers)}')\n"
   ],
   "metadata": {
    "collapsed": false,
    "ExecuteTime": {
     "end_time": "2024-02-25T05:05:56.776505Z",
     "start_time": "2024-02-25T05:05:56.757679Z"
    }
   },
   "id": "f82c4e48b6fd4ad6",
   "execution_count": 5
  }
 ],
 "metadata": {
  "kernelspec": {
   "display_name": "Python 3",
   "language": "python",
   "name": "python3"
  },
  "language_info": {
   "codemirror_mode": {
    "name": "ipython",
    "version": 2
   },
   "file_extension": ".py",
   "mimetype": "text/x-python",
   "name": "python",
   "nbconvert_exporter": "python",
   "pygments_lexer": "ipython2",
   "version": "2.7.6"
  }
 },
 "nbformat": 4,
 "nbformat_minor": 5
}
