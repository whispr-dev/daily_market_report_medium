{
 "cells": [
  {
   "cell_type": "code",
   "execution_count": null,
   "id": "initial_id",
   "metadata": {
    "collapsed": true
   },
   "outputs": [],
   "source": [
    "import yfinance as yf\n",
    "import warnings\n",
    "warnings.filterwarnings(\"ignore\")\n",
    "ticker = yf.Ticker(\"^GSPC\")"
   ]
  },
  {
   "cell_type": "code",
   "outputs": [
    {
     "data": {
      "text/plain": "                                  Open         High          Low        Close  \\\nDate                                                                            \n2014-02-24 00:00:00-05:00  1836.780029  1858.709961  1836.780029  1847.609985   \n2014-02-25 00:00:00-05:00  1847.660034  1852.910034  1840.189941  1845.119995   \n2014-02-26 00:00:00-05:00  1845.790039  1852.650024  1840.660034  1845.160034   \n2014-02-27 00:00:00-05:00  1844.900024  1854.530029  1841.130005  1854.290039   \n2014-02-28 00:00:00-05:00  1855.119995  1867.920044  1847.670044  1859.449951   \n\n                               Volume  Dividends  Stock Splits  \nDate                                                            \n2014-02-24 00:00:00-05:00  4014530000        0.0           0.0  \n2014-02-25 00:00:00-05:00  3515560000        0.0           0.0  \n2014-02-26 00:00:00-05:00  3716730000        0.0           0.0  \n2014-02-27 00:00:00-05:00  3547460000        0.0           0.0  \n2014-02-28 00:00:00-05:00  3917450000        0.0           0.0  ",
      "text/html": "<div>\n<style scoped>\n    .dataframe tbody tr th:only-of-type {\n        vertical-align: middle;\n    }\n\n    .dataframe tbody tr th {\n        vertical-align: top;\n    }\n\n    .dataframe thead th {\n        text-align: right;\n    }\n</style>\n<table border=\"1\" class=\"dataframe\">\n  <thead>\n    <tr style=\"text-align: right;\">\n      <th></th>\n      <th>Open</th>\n      <th>High</th>\n      <th>Low</th>\n      <th>Close</th>\n      <th>Volume</th>\n      <th>Dividends</th>\n      <th>Stock Splits</th>\n    </tr>\n    <tr>\n      <th>Date</th>\n      <th></th>\n      <th></th>\n      <th></th>\n      <th></th>\n      <th></th>\n      <th></th>\n      <th></th>\n    </tr>\n  </thead>\n  <tbody>\n    <tr>\n      <th>2014-02-24 00:00:00-05:00</th>\n      <td>1836.780029</td>\n      <td>1858.709961</td>\n      <td>1836.780029</td>\n      <td>1847.609985</td>\n      <td>4014530000</td>\n      <td>0.0</td>\n      <td>0.0</td>\n    </tr>\n    <tr>\n      <th>2014-02-25 00:00:00-05:00</th>\n      <td>1847.660034</td>\n      <td>1852.910034</td>\n      <td>1840.189941</td>\n      <td>1845.119995</td>\n      <td>3515560000</td>\n      <td>0.0</td>\n      <td>0.0</td>\n    </tr>\n    <tr>\n      <th>2014-02-26 00:00:00-05:00</th>\n      <td>1845.790039</td>\n      <td>1852.650024</td>\n      <td>1840.660034</td>\n      <td>1845.160034</td>\n      <td>3716730000</td>\n      <td>0.0</td>\n      <td>0.0</td>\n    </tr>\n    <tr>\n      <th>2014-02-27 00:00:00-05:00</th>\n      <td>1844.900024</td>\n      <td>1854.530029</td>\n      <td>1841.130005</td>\n      <td>1854.290039</td>\n      <td>3547460000</td>\n      <td>0.0</td>\n      <td>0.0</td>\n    </tr>\n    <tr>\n      <th>2014-02-28 00:00:00-05:00</th>\n      <td>1855.119995</td>\n      <td>1867.920044</td>\n      <td>1847.670044</td>\n      <td>1859.449951</td>\n      <td>3917450000</td>\n      <td>0.0</td>\n      <td>0.0</td>\n    </tr>\n  </tbody>\n</table>\n</div>"
     },
     "execution_count": 2,
     "metadata": {},
     "output_type": "execute_result"
    }
   ],
   "source": [
    "history = ticker.history(period=\"10y\")\n",
    "history.head()"
   ],
   "metadata": {
    "collapsed": false,
    "ExecuteTime": {
     "end_time": "2024-02-24T03:47:11.839744Z",
     "start_time": "2024-02-24T03:47:10.840582Z"
    }
   },
   "id": "cb18bf9f16551f4a",
   "execution_count": 2
  },
  {
   "cell_type": "code",
   "outputs": [
    {
     "name": "stdout",
     "output_type": "stream",
     "text": [
      "Got a dataframe from date 2014-02-24 00:00:00-05:00 to 2024-02-23 00:00:00-05:00\n"
     ]
    },
    {
     "data": {
      "text/plain": "                                  Open         High          Low        Close  \\\nDate                                                                            \n2014-02-24 00:00:00-05:00  1836.780029  1858.709961  1836.780029  1847.609985   \n2014-02-25 00:00:00-05:00  1847.660034  1852.910034  1840.189941  1845.119995   \n2014-02-26 00:00:00-05:00  1845.790039  1852.650024  1840.660034  1845.160034   \n2014-02-27 00:00:00-05:00  1844.900024  1854.530029  1841.130005  1854.290039   \n2014-02-28 00:00:00-05:00  1855.119995  1867.920044  1847.670044  1859.449951   \n\n                               Volume  Dividends  Stock Splits  \nDate                                                            \n2014-02-24 00:00:00-05:00  4014530000        0.0           0.0  \n2014-02-25 00:00:00-05:00  3515560000        0.0           0.0  \n2014-02-26 00:00:00-05:00  3716730000        0.0           0.0  \n2014-02-27 00:00:00-05:00  3547460000        0.0           0.0  \n2014-02-28 00:00:00-05:00  3917450000        0.0           0.0  ",
      "text/html": "<div>\n<style scoped>\n    .dataframe tbody tr th:only-of-type {\n        vertical-align: middle;\n    }\n\n    .dataframe tbody tr th {\n        vertical-align: top;\n    }\n\n    .dataframe thead th {\n        text-align: right;\n    }\n</style>\n<table border=\"1\" class=\"dataframe\">\n  <thead>\n    <tr style=\"text-align: right;\">\n      <th></th>\n      <th>Open</th>\n      <th>High</th>\n      <th>Low</th>\n      <th>Close</th>\n      <th>Volume</th>\n      <th>Dividends</th>\n      <th>Stock Splits</th>\n    </tr>\n    <tr>\n      <th>Date</th>\n      <th></th>\n      <th></th>\n      <th></th>\n      <th></th>\n      <th></th>\n      <th></th>\n      <th></th>\n    </tr>\n  </thead>\n  <tbody>\n    <tr>\n      <th>2014-02-24 00:00:00-05:00</th>\n      <td>1836.780029</td>\n      <td>1858.709961</td>\n      <td>1836.780029</td>\n      <td>1847.609985</td>\n      <td>4014530000</td>\n      <td>0.0</td>\n      <td>0.0</td>\n    </tr>\n    <tr>\n      <th>2014-02-25 00:00:00-05:00</th>\n      <td>1847.660034</td>\n      <td>1852.910034</td>\n      <td>1840.189941</td>\n      <td>1845.119995</td>\n      <td>3515560000</td>\n      <td>0.0</td>\n      <td>0.0</td>\n    </tr>\n    <tr>\n      <th>2014-02-26 00:00:00-05:00</th>\n      <td>1845.790039</td>\n      <td>1852.650024</td>\n      <td>1840.660034</td>\n      <td>1845.160034</td>\n      <td>3716730000</td>\n      <td>0.0</td>\n      <td>0.0</td>\n    </tr>\n    <tr>\n      <th>2014-02-27 00:00:00-05:00</th>\n      <td>1844.900024</td>\n      <td>1854.530029</td>\n      <td>1841.130005</td>\n      <td>1854.290039</td>\n      <td>3547460000</td>\n      <td>0.0</td>\n      <td>0.0</td>\n    </tr>\n    <tr>\n      <th>2014-02-28 00:00:00-05:00</th>\n      <td>1855.119995</td>\n      <td>1867.920044</td>\n      <td>1847.670044</td>\n      <td>1859.449951</td>\n      <td>3917450000</td>\n      <td>0.0</td>\n      <td>0.0</td>\n    </tr>\n  </tbody>\n</table>\n</div>"
     },
     "execution_count": 3,
     "metadata": {},
     "output_type": "execute_result"
    }
   ],
   "source": [
    "history = ticker.history(period=\"10y\")\n",
    "print(f'Got a dataframe from date {history.index[0]} to {history.index[-1]}')\n",
    "history.head()"
   ],
   "metadata": {
    "collapsed": false,
    "ExecuteTime": {
     "end_time": "2024-02-24T03:47:12.092364Z",
     "start_time": "2024-02-24T03:47:11.840774Z"
    }
   },
   "id": "503421e9c477f2cf",
   "execution_count": 3
  },
  {
   "cell_type": "code",
   "outputs": [
    {
     "name": "stdout",
     "output_type": "stream",
     "text": [
      "Got a dataframe from date 2024-02-20 09:30:00-05:00 to 2024-02-23 15:59:00-05:00\n"
     ]
    },
    {
     "data": {
      "text/plain": "                                  Open         High          Low        Close  \\\nDatetime                                                                        \n2024-02-20 09:30:00-05:00  4989.319824  4989.319824  4985.430176  4988.850098   \n2024-02-20 09:31:00-05:00  4988.950195  4991.279785  4988.950195  4990.240234   \n2024-02-20 09:32:00-05:00  4990.410156  4993.129883  4989.759766  4992.089844   \n2024-02-20 09:33:00-05:00  4992.259766  4993.689941  4991.229980  4993.669922   \n2024-02-20 09:34:00-05:00  4993.709961  4993.709961  4990.250000  4991.220215   \n\n                             Volume  Dividends  Stock Splits  \nDatetime                                                      \n2024-02-20 09:30:00-05:00         0        0.0           0.0  \n2024-02-20 09:31:00-05:00  12048745        0.0           0.0  \n2024-02-20 09:32:00-05:00  11107433        0.0           0.0  \n2024-02-20 09:33:00-05:00  11049426        0.0           0.0  \n2024-02-20 09:34:00-05:00   9287010        0.0           0.0  ",
      "text/html": "<div>\n<style scoped>\n    .dataframe tbody tr th:only-of-type {\n        vertical-align: middle;\n    }\n\n    .dataframe tbody tr th {\n        vertical-align: top;\n    }\n\n    .dataframe thead th {\n        text-align: right;\n    }\n</style>\n<table border=\"1\" class=\"dataframe\">\n  <thead>\n    <tr style=\"text-align: right;\">\n      <th></th>\n      <th>Open</th>\n      <th>High</th>\n      <th>Low</th>\n      <th>Close</th>\n      <th>Volume</th>\n      <th>Dividends</th>\n      <th>Stock Splits</th>\n    </tr>\n    <tr>\n      <th>Datetime</th>\n      <th></th>\n      <th></th>\n      <th></th>\n      <th></th>\n      <th></th>\n      <th></th>\n      <th></th>\n    </tr>\n  </thead>\n  <tbody>\n    <tr>\n      <th>2024-02-20 09:30:00-05:00</th>\n      <td>4989.319824</td>\n      <td>4989.319824</td>\n      <td>4985.430176</td>\n      <td>4988.850098</td>\n      <td>0</td>\n      <td>0.0</td>\n      <td>0.0</td>\n    </tr>\n    <tr>\n      <th>2024-02-20 09:31:00-05:00</th>\n      <td>4988.950195</td>\n      <td>4991.279785</td>\n      <td>4988.950195</td>\n      <td>4990.240234</td>\n      <td>12048745</td>\n      <td>0.0</td>\n      <td>0.0</td>\n    </tr>\n    <tr>\n      <th>2024-02-20 09:32:00-05:00</th>\n      <td>4990.410156</td>\n      <td>4993.129883</td>\n      <td>4989.759766</td>\n      <td>4992.089844</td>\n      <td>11107433</td>\n      <td>0.0</td>\n      <td>0.0</td>\n    </tr>\n    <tr>\n      <th>2024-02-20 09:33:00-05:00</th>\n      <td>4992.259766</td>\n      <td>4993.689941</td>\n      <td>4991.229980</td>\n      <td>4993.669922</td>\n      <td>11049426</td>\n      <td>0.0</td>\n      <td>0.0</td>\n    </tr>\n    <tr>\n      <th>2024-02-20 09:34:00-05:00</th>\n      <td>4993.709961</td>\n      <td>4993.709961</td>\n      <td>4990.250000</td>\n      <td>4991.220215</td>\n      <td>9287010</td>\n      <td>0.0</td>\n      <td>0.0</td>\n    </tr>\n  </tbody>\n</table>\n</div>"
     },
     "execution_count": 4,
     "metadata": {},
     "output_type": "execute_result"
    }
   ],
   "source": [
    "history = ticker.history(period=\"1wk\", interval=\"1m\")\n",
    "print(f'Got a dataframe from date {history.index[0]} to {history.index[-1]}')\n",
    "history.head()"
   ],
   "metadata": {
    "collapsed": false,
    "ExecuteTime": {
     "end_time": "2024-02-24T03:47:12.325274Z",
     "start_time": "2024-02-24T03:47:12.073531Z"
    }
   },
   "id": "d42b91931b10245c",
   "execution_count": 4
  },
  {
   "cell_type": "code",
   "outputs": [
    {
     "name": "stdout",
     "output_type": "stream",
     "text": [
      "Got a dataframe from date 2020-01-02 00:00:00-05:00 to 2024-02-23 00:00:00-05:00\n"
     ]
    },
    {
     "data": {
      "text/plain": "                                  Open         High          Low        Close  \\\nDate                                                                            \n2020-01-02 00:00:00-05:00  3244.669922  3258.139893  3235.530029  3257.850098   \n2020-01-03 00:00:00-05:00  3226.360107  3246.149902  3222.340088  3234.850098   \n2020-01-06 00:00:00-05:00  3217.550049  3246.840088  3214.639893  3246.280029   \n2020-01-07 00:00:00-05:00  3241.860107  3244.909912  3232.429932  3237.179932   \n2020-01-08 00:00:00-05:00  3238.590088  3267.070068  3236.669922  3253.050049   \n\n                               Volume  Dividends  Stock Splits  \nDate                                                            \n2020-01-02 00:00:00-05:00  3459930000        0.0           0.0  \n2020-01-03 00:00:00-05:00  3484700000        0.0           0.0  \n2020-01-06 00:00:00-05:00  3702460000        0.0           0.0  \n2020-01-07 00:00:00-05:00  3435910000        0.0           0.0  \n2020-01-08 00:00:00-05:00  3726840000        0.0           0.0  ",
      "text/html": "<div>\n<style scoped>\n    .dataframe tbody tr th:only-of-type {\n        vertical-align: middle;\n    }\n\n    .dataframe tbody tr th {\n        vertical-align: top;\n    }\n\n    .dataframe thead th {\n        text-align: right;\n    }\n</style>\n<table border=\"1\" class=\"dataframe\">\n  <thead>\n    <tr style=\"text-align: right;\">\n      <th></th>\n      <th>Open</th>\n      <th>High</th>\n      <th>Low</th>\n      <th>Close</th>\n      <th>Volume</th>\n      <th>Dividends</th>\n      <th>Stock Splits</th>\n    </tr>\n    <tr>\n      <th>Date</th>\n      <th></th>\n      <th></th>\n      <th></th>\n      <th></th>\n      <th></th>\n      <th></th>\n      <th></th>\n    </tr>\n  </thead>\n  <tbody>\n    <tr>\n      <th>2020-01-02 00:00:00-05:00</th>\n      <td>3244.669922</td>\n      <td>3258.139893</td>\n      <td>3235.530029</td>\n      <td>3257.850098</td>\n      <td>3459930000</td>\n      <td>0.0</td>\n      <td>0.0</td>\n    </tr>\n    <tr>\n      <th>2020-01-03 00:00:00-05:00</th>\n      <td>3226.360107</td>\n      <td>3246.149902</td>\n      <td>3222.340088</td>\n      <td>3234.850098</td>\n      <td>3484700000</td>\n      <td>0.0</td>\n      <td>0.0</td>\n    </tr>\n    <tr>\n      <th>2020-01-06 00:00:00-05:00</th>\n      <td>3217.550049</td>\n      <td>3246.840088</td>\n      <td>3214.639893</td>\n      <td>3246.280029</td>\n      <td>3702460000</td>\n      <td>0.0</td>\n      <td>0.0</td>\n    </tr>\n    <tr>\n      <th>2020-01-07 00:00:00-05:00</th>\n      <td>3241.860107</td>\n      <td>3244.909912</td>\n      <td>3232.429932</td>\n      <td>3237.179932</td>\n      <td>3435910000</td>\n      <td>0.0</td>\n      <td>0.0</td>\n    </tr>\n    <tr>\n      <th>2020-01-08 00:00:00-05:00</th>\n      <td>3238.590088</td>\n      <td>3267.070068</td>\n      <td>3236.669922</td>\n      <td>3253.050049</td>\n      <td>3726840000</td>\n      <td>0.0</td>\n      <td>0.0</td>\n    </tr>\n  </tbody>\n</table>\n</div>"
     },
     "execution_count": 5,
     "metadata": {},
     "output_type": "execute_result"
    }
   ],
   "source": [
    "#period is overridden by start\n",
    "history = ticker.history(period=\"1y\", start=\"2020-01-01\", interval=\"1d\")\n",
    "print(f'Got a dataframe from date {history.index[0]} to {history.index[-1]}')\n",
    "history.head()"
   ],
   "metadata": {
    "collapsed": false,
    "ExecuteTime": {
     "end_time": "2024-02-24T03:47:12.616555Z",
     "start_time": "2024-02-24T03:47:12.294187Z"
    }
   },
   "id": "e0adc603d9e7068a",
   "execution_count": 5
  },
  {
   "cell_type": "code",
   "outputs": [
    {
     "name": "stderr",
     "output_type": "stream",
     "text": [
      "^GSPC: No price data found, symbol may be delisted (period=1y)\n"
     ]
    },
    {
     "ename": "IndexError",
     "evalue": "index 0 is out of bounds for axis 0 with size 0",
     "output_type": "error",
     "traceback": [
      "\u001B[0;31m---------------------------------------------------------------------------\u001B[0m",
      "\u001B[0;31mIndexError\u001B[0m                                Traceback (most recent call last)",
      "Cell \u001B[0;32mIn[6], line 3\u001B[0m\n\u001B[1;32m      1\u001B[0m \u001B[38;5;66;03m# error when passes from\u001B[39;00m\n\u001B[1;32m      2\u001B[0m history \u001B[38;5;241m=\u001B[39m ticker\u001B[38;5;241m.\u001B[39mhistory(period\u001B[38;5;241m=\u001B[39m\u001B[38;5;124m\"\u001B[39m\u001B[38;5;124m1y\u001B[39m\u001B[38;5;124m\"\u001B[39m, end\u001B[38;5;241m=\u001B[39m\u001B[38;5;124m\"\u001B[39m\u001B[38;5;124m2020-01-01\u001B[39m\u001B[38;5;124m\"\u001B[39m, interval\u001B[38;5;241m=\u001B[39m\u001B[38;5;124m\"\u001B[39m\u001B[38;5;124m1d\u001B[39m\u001B[38;5;124m\"\u001B[39m)\n\u001B[0;32m----> 3\u001B[0m \u001B[38;5;28mprint\u001B[39m(\u001B[38;5;124mf\u001B[39m\u001B[38;5;124m'\u001B[39m\u001B[38;5;124mGot a dataframe from date \u001B[39m\u001B[38;5;132;01m{\u001B[39;00mhistory\u001B[38;5;241m.\u001B[39mindex[\u001B[38;5;241m0\u001B[39m]\u001B[38;5;132;01m}\u001B[39;00m\u001B[38;5;124m to \u001B[39m\u001B[38;5;132;01m{\u001B[39;00mhistory\u001B[38;5;241m.\u001B[39mindex[\u001B[38;5;241m-\u001B[39m\u001B[38;5;241m1\u001B[39m]\u001B[38;5;132;01m}\u001B[39;00m\u001B[38;5;124m'\u001B[39m)\n\u001B[1;32m      4\u001B[0m history\u001B[38;5;241m.\u001B[39mhead()\n",
      "File \u001B[0;32m~/PycharmProjects/yfinance_guide_and_sample_code/venv/lib/python3.9/site-packages/pandas/core/indexes/base.py:5389\u001B[0m, in \u001B[0;36mIndex.__getitem__\u001B[0;34m(self, key)\u001B[0m\n\u001B[1;32m   5386\u001B[0m \u001B[38;5;28;01mif\u001B[39;00m is_integer(key) \u001B[38;5;129;01mor\u001B[39;00m is_float(key):\n\u001B[1;32m   5387\u001B[0m     \u001B[38;5;66;03m# GH#44051 exclude bool, which would return a 2d ndarray\u001B[39;00m\n\u001B[1;32m   5388\u001B[0m     key \u001B[38;5;241m=\u001B[39m com\u001B[38;5;241m.\u001B[39mcast_scalar_indexer(key)\n\u001B[0;32m-> 5389\u001B[0m     \u001B[38;5;28;01mreturn\u001B[39;00m \u001B[43mgetitem\u001B[49m\u001B[43m(\u001B[49m\u001B[43mkey\u001B[49m\u001B[43m)\u001B[49m\n\u001B[1;32m   5391\u001B[0m \u001B[38;5;28;01mif\u001B[39;00m \u001B[38;5;28misinstance\u001B[39m(key, \u001B[38;5;28mslice\u001B[39m):\n\u001B[1;32m   5392\u001B[0m     \u001B[38;5;66;03m# This case is separated from the conditional above to avoid\u001B[39;00m\n\u001B[1;32m   5393\u001B[0m     \u001B[38;5;66;03m# pessimization com.is_bool_indexer and ndim checks.\u001B[39;00m\n\u001B[1;32m   5394\u001B[0m     \u001B[38;5;28;01mreturn\u001B[39;00m \u001B[38;5;28mself\u001B[39m\u001B[38;5;241m.\u001B[39m_getitem_slice(key)\n",
      "\u001B[0;31mIndexError\u001B[0m: index 0 is out of bounds for axis 0 with size 0"
     ]
    }
   ],
   "source": [
    "# error when passes from\n",
    "history = ticker.history(period=\"1y\", end=\"2020-01-01\", interval=\"1d\")\n",
    "print(f'Got a dataframe from date {history.index[0]} to {history.index[-1]}')\n",
    "history.head()"
   ],
   "metadata": {
    "collapsed": false,
    "ExecuteTime": {
     "end_time": "2024-02-24T03:47:14.081624Z",
     "start_time": "2024-02-24T03:47:12.490293Z"
    }
   },
   "id": "92f3ff2db43fc264",
   "execution_count": 6
  },
  {
   "cell_type": "code",
   "outputs": [
    {
     "data": {
      "text/plain": "{'currency': 'USD',\n 'symbol': '^GSPC',\n 'exchangeName': 'SNP',\n 'instrumentType': 'INDEX',\n 'firstTradeDate': -1325583000,\n 'regularMarketTime': 1708726472,\n 'hasPrePostMarketData': False,\n 'gmtoffset': -18000,\n 'timezone': 'EST',\n 'exchangeTimezoneName': 'America/New_York',\n 'regularMarketPrice': 5088.8,\n 'chartPreviousClose': 4012.32,\n 'priceHint': 2,\n 'currentTradingPeriod': {'pre': {'timezone': 'EST',\n   'start': 1708678800,\n   'end': 1708698600,\n   'gmtoffset': -18000},\n  'regular': {'timezone': 'EST',\n   'start': 1708698600,\n   'end': 1708722000,\n   'gmtoffset': -18000},\n  'post': {'timezone': 'EST',\n   'start': 1708722000,\n   'end': 1708736400,\n   'gmtoffset': -18000}},\n 'dataGranularity': '1d',\n 'range': '1y',\n 'validRanges': ['1d',\n  '5d',\n  '1mo',\n  '3mo',\n  '6mo',\n  '1y',\n  '2y',\n  '5y',\n  '10y',\n  'ytd',\n  'max']}"
     },
     "execution_count": 7,
     "metadata": {},
     "output_type": "execute_result"
    }
   ],
   "source": [
    "ticker.history_metadata"
   ],
   "metadata": {
    "collapsed": false,
    "ExecuteTime": {
     "end_time": "2024-02-24T03:49:32.457401Z",
     "start_time": "2024-02-24T03:49:32.429089Z"
    }
   },
   "id": "ccd0299d4457883c",
   "execution_count": 7
  }
 ],
 "metadata": {
  "kernelspec": {
   "display_name": "Python 3",
   "language": "python",
   "name": "python3"
  },
  "language_info": {
   "codemirror_mode": {
    "name": "ipython",
    "version": 2
   },
   "file_extension": ".py",
   "mimetype": "text/x-python",
   "name": "python",
   "nbconvert_exporter": "python",
   "pygments_lexer": "ipython2",
   "version": "2.7.6"
  }
 },
 "nbformat": 4,
 "nbformat_minor": 5
}
