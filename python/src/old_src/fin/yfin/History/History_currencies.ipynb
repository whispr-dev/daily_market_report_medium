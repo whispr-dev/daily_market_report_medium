{
 "cells": [
  {
   "cell_type": "code",
   "execution_count": 9,
   "id": "initial_id",
   "metadata": {
    "collapsed": true,
    "ExecuteTime": {
     "end_time": "2024-02-25T05:06:35.050186Z",
     "start_time": "2024-02-25T05:06:35.004424Z"
    }
   },
   "outputs": [],
   "source": [
    "import yfinance as yf\n",
    "import warnings\n",
    "warnings.filterwarnings(\"ignore\")\n",
    "ticker = yf.Ticker(\"EURUSD=X\")"
   ]
  },
  {
   "cell_type": "code",
   "outputs": [
    {
     "data": {
      "text/plain": "                               Open     High       Low     Close  Volume  \\\nDate                                                                       \n2014-02-24 00:00:00+00:00  1.374004  1.37690  1.371011  1.373796       0   \n2014-02-25 00:00:00+00:00  1.373513  1.37650  1.371870  1.373608       0   \n2014-02-26 00:00:00+00:00  1.374646  1.37580  1.366579  1.374608       0   \n2014-02-27 00:00:00+00:00  1.368195  1.36960  1.364498  1.368195       0   \n2014-02-28 00:00:00+00:00  1.370746  1.38234  1.369529  1.370746       0   \n\n                           Dividends  Stock Splits  \nDate                                                \n2014-02-24 00:00:00+00:00        0.0           0.0  \n2014-02-25 00:00:00+00:00        0.0           0.0  \n2014-02-26 00:00:00+00:00        0.0           0.0  \n2014-02-27 00:00:00+00:00        0.0           0.0  \n2014-02-28 00:00:00+00:00        0.0           0.0  ",
      "text/html": "<div>\n<style scoped>\n    .dataframe tbody tr th:only-of-type {\n        vertical-align: middle;\n    }\n\n    .dataframe tbody tr th {\n        vertical-align: top;\n    }\n\n    .dataframe thead th {\n        text-align: right;\n    }\n</style>\n<table border=\"1\" class=\"dataframe\">\n  <thead>\n    <tr style=\"text-align: right;\">\n      <th></th>\n      <th>Open</th>\n      <th>High</th>\n      <th>Low</th>\n      <th>Close</th>\n      <th>Volume</th>\n      <th>Dividends</th>\n      <th>Stock Splits</th>\n    </tr>\n    <tr>\n      <th>Date</th>\n      <th></th>\n      <th></th>\n      <th></th>\n      <th></th>\n      <th></th>\n      <th></th>\n      <th></th>\n    </tr>\n  </thead>\n  <tbody>\n    <tr>\n      <th>2014-02-24 00:00:00+00:00</th>\n      <td>1.374004</td>\n      <td>1.37690</td>\n      <td>1.371011</td>\n      <td>1.373796</td>\n      <td>0</td>\n      <td>0.0</td>\n      <td>0.0</td>\n    </tr>\n    <tr>\n      <th>2014-02-25 00:00:00+00:00</th>\n      <td>1.373513</td>\n      <td>1.37650</td>\n      <td>1.371870</td>\n      <td>1.373608</td>\n      <td>0</td>\n      <td>0.0</td>\n      <td>0.0</td>\n    </tr>\n    <tr>\n      <th>2014-02-26 00:00:00+00:00</th>\n      <td>1.374646</td>\n      <td>1.37580</td>\n      <td>1.366579</td>\n      <td>1.374608</td>\n      <td>0</td>\n      <td>0.0</td>\n      <td>0.0</td>\n    </tr>\n    <tr>\n      <th>2014-02-27 00:00:00+00:00</th>\n      <td>1.368195</td>\n      <td>1.36960</td>\n      <td>1.364498</td>\n      <td>1.368195</td>\n      <td>0</td>\n      <td>0.0</td>\n      <td>0.0</td>\n    </tr>\n    <tr>\n      <th>2014-02-28 00:00:00+00:00</th>\n      <td>1.370746</td>\n      <td>1.38234</td>\n      <td>1.369529</td>\n      <td>1.370746</td>\n      <td>0</td>\n      <td>0.0</td>\n      <td>0.0</td>\n    </tr>\n  </tbody>\n</table>\n</div>"
     },
     "execution_count": 10,
     "metadata": {},
     "output_type": "execute_result"
    }
   ],
   "source": [
    "history = ticker.history(period=\"10y\")\n",
    "history.head()"
   ],
   "metadata": {
    "collapsed": false,
    "ExecuteTime": {
     "end_time": "2024-02-25T05:06:35.660705Z",
     "start_time": "2024-02-25T05:06:35.023664Z"
    }
   },
   "id": "cb18bf9f16551f4a",
   "execution_count": 10
  },
  {
   "cell_type": "code",
   "outputs": [
    {
     "name": "stdout",
     "output_type": "stream",
     "text": [
      "Got a dataframe from date 2014-02-24 00:00:00+00:00 to 2024-02-23 00:00:00+00:00\n"
     ]
    },
    {
     "data": {
      "text/plain": "                               Open     High       Low     Close  Volume  \\\nDate                                                                       \n2014-02-24 00:00:00+00:00  1.374004  1.37690  1.371011  1.373796       0   \n2014-02-25 00:00:00+00:00  1.373513  1.37650  1.371870  1.373608       0   \n2014-02-26 00:00:00+00:00  1.374646  1.37580  1.366579  1.374608       0   \n2014-02-27 00:00:00+00:00  1.368195  1.36960  1.364498  1.368195       0   \n2014-02-28 00:00:00+00:00  1.370746  1.38234  1.369529  1.370746       0   \n\n                           Dividends  Stock Splits  \nDate                                                \n2014-02-24 00:00:00+00:00        0.0           0.0  \n2014-02-25 00:00:00+00:00        0.0           0.0  \n2014-02-26 00:00:00+00:00        0.0           0.0  \n2014-02-27 00:00:00+00:00        0.0           0.0  \n2014-02-28 00:00:00+00:00        0.0           0.0  ",
      "text/html": "<div>\n<style scoped>\n    .dataframe tbody tr th:only-of-type {\n        vertical-align: middle;\n    }\n\n    .dataframe tbody tr th {\n        vertical-align: top;\n    }\n\n    .dataframe thead th {\n        text-align: right;\n    }\n</style>\n<table border=\"1\" class=\"dataframe\">\n  <thead>\n    <tr style=\"text-align: right;\">\n      <th></th>\n      <th>Open</th>\n      <th>High</th>\n      <th>Low</th>\n      <th>Close</th>\n      <th>Volume</th>\n      <th>Dividends</th>\n      <th>Stock Splits</th>\n    </tr>\n    <tr>\n      <th>Date</th>\n      <th></th>\n      <th></th>\n      <th></th>\n      <th></th>\n      <th></th>\n      <th></th>\n      <th></th>\n    </tr>\n  </thead>\n  <tbody>\n    <tr>\n      <th>2014-02-24 00:00:00+00:00</th>\n      <td>1.374004</td>\n      <td>1.37690</td>\n      <td>1.371011</td>\n      <td>1.373796</td>\n      <td>0</td>\n      <td>0.0</td>\n      <td>0.0</td>\n    </tr>\n    <tr>\n      <th>2014-02-25 00:00:00+00:00</th>\n      <td>1.373513</td>\n      <td>1.37650</td>\n      <td>1.371870</td>\n      <td>1.373608</td>\n      <td>0</td>\n      <td>0.0</td>\n      <td>0.0</td>\n    </tr>\n    <tr>\n      <th>2014-02-26 00:00:00+00:00</th>\n      <td>1.374646</td>\n      <td>1.37580</td>\n      <td>1.366579</td>\n      <td>1.374608</td>\n      <td>0</td>\n      <td>0.0</td>\n      <td>0.0</td>\n    </tr>\n    <tr>\n      <th>2014-02-27 00:00:00+00:00</th>\n      <td>1.368195</td>\n      <td>1.36960</td>\n      <td>1.364498</td>\n      <td>1.368195</td>\n      <td>0</td>\n      <td>0.0</td>\n      <td>0.0</td>\n    </tr>\n    <tr>\n      <th>2014-02-28 00:00:00+00:00</th>\n      <td>1.370746</td>\n      <td>1.38234</td>\n      <td>1.369529</td>\n      <td>1.370746</td>\n      <td>0</td>\n      <td>0.0</td>\n      <td>0.0</td>\n    </tr>\n  </tbody>\n</table>\n</div>"
     },
     "execution_count": 11,
     "metadata": {},
     "output_type": "execute_result"
    }
   ],
   "source": [
    "history = ticker.history(period=\"10y\")\n",
    "print(f'Got a dataframe from date {history.index[0]} to {history.index[-1]}')\n",
    "history.head()"
   ],
   "metadata": {
    "collapsed": false,
    "ExecuteTime": {
     "end_time": "2024-02-25T05:06:35.829319Z",
     "start_time": "2024-02-25T05:06:35.568992Z"
    }
   },
   "id": "503421e9c477f2cf",
   "execution_count": 11
  },
  {
   "cell_type": "code",
   "outputs": [
    {
     "name": "stdout",
     "output_type": "stream",
     "text": [
      "Got a dataframe from date 2024-02-19 00:00:00+00:00 to 2024-02-23 22:29:00+00:00\n"
     ]
    },
    {
     "data": {
      "text/plain": "                               Open      High       Low     Close  Volume  \\\nDatetime                                                                    \n2024-02-19 00:00:00+00:00  1.078749  1.078749  1.078749  1.078749       0   \n2024-02-19 00:01:00+00:00  1.078749  1.078749  1.078749  1.078749       0   \n2024-02-19 00:02:00+00:00  1.078749  1.078749  1.078749  1.078749       0   \n2024-02-19 00:03:00+00:00  1.078865  1.078865  1.078865  1.078865       0   \n2024-02-19 00:04:00+00:00  1.078865  1.078865  1.078865  1.078865       0   \n\n                           Dividends  Stock Splits  \nDatetime                                            \n2024-02-19 00:00:00+00:00        0.0           0.0  \n2024-02-19 00:01:00+00:00        0.0           0.0  \n2024-02-19 00:02:00+00:00        0.0           0.0  \n2024-02-19 00:03:00+00:00        0.0           0.0  \n2024-02-19 00:04:00+00:00        0.0           0.0  ",
      "text/html": "<div>\n<style scoped>\n    .dataframe tbody tr th:only-of-type {\n        vertical-align: middle;\n    }\n\n    .dataframe tbody tr th {\n        vertical-align: top;\n    }\n\n    .dataframe thead th {\n        text-align: right;\n    }\n</style>\n<table border=\"1\" class=\"dataframe\">\n  <thead>\n    <tr style=\"text-align: right;\">\n      <th></th>\n      <th>Open</th>\n      <th>High</th>\n      <th>Low</th>\n      <th>Close</th>\n      <th>Volume</th>\n      <th>Dividends</th>\n      <th>Stock Splits</th>\n    </tr>\n    <tr>\n      <th>Datetime</th>\n      <th></th>\n      <th></th>\n      <th></th>\n      <th></th>\n      <th></th>\n      <th></th>\n      <th></th>\n    </tr>\n  </thead>\n  <tbody>\n    <tr>\n      <th>2024-02-19 00:00:00+00:00</th>\n      <td>1.078749</td>\n      <td>1.078749</td>\n      <td>1.078749</td>\n      <td>1.078749</td>\n      <td>0</td>\n      <td>0.0</td>\n      <td>0.0</td>\n    </tr>\n    <tr>\n      <th>2024-02-19 00:01:00+00:00</th>\n      <td>1.078749</td>\n      <td>1.078749</td>\n      <td>1.078749</td>\n      <td>1.078749</td>\n      <td>0</td>\n      <td>0.0</td>\n      <td>0.0</td>\n    </tr>\n    <tr>\n      <th>2024-02-19 00:02:00+00:00</th>\n      <td>1.078749</td>\n      <td>1.078749</td>\n      <td>1.078749</td>\n      <td>1.078749</td>\n      <td>0</td>\n      <td>0.0</td>\n      <td>0.0</td>\n    </tr>\n    <tr>\n      <th>2024-02-19 00:03:00+00:00</th>\n      <td>1.078865</td>\n      <td>1.078865</td>\n      <td>1.078865</td>\n      <td>1.078865</td>\n      <td>0</td>\n      <td>0.0</td>\n      <td>0.0</td>\n    </tr>\n    <tr>\n      <th>2024-02-19 00:04:00+00:00</th>\n      <td>1.078865</td>\n      <td>1.078865</td>\n      <td>1.078865</td>\n      <td>1.078865</td>\n      <td>0</td>\n      <td>0.0</td>\n      <td>0.0</td>\n    </tr>\n  </tbody>\n</table>\n</div>"
     },
     "execution_count": 12,
     "metadata": {},
     "output_type": "execute_result"
    }
   ],
   "source": [
    "history = ticker.history(period=\"1wk\", interval=\"1m\")\n",
    "print(f'Got a dataframe from date {history.index[0]} to {history.index[-1]}')\n",
    "history.head()"
   ],
   "metadata": {
    "collapsed": false,
    "ExecuteTime": {
     "end_time": "2024-02-25T05:06:36.050659Z",
     "start_time": "2024-02-25T05:06:35.699813Z"
    }
   },
   "id": "d42b91931b10245c",
   "execution_count": 12
  },
  {
   "cell_type": "code",
   "outputs": [
    {
     "name": "stdout",
     "output_type": "stream",
     "text": [
      "Got a dataframe from date 2020-01-01 00:00:00+00:00 to 2024-02-23 00:00:00+00:00\n"
     ]
    },
    {
     "data": {
      "text/plain": "                               Open      High       Low     Close  Volume  \\\nDate                                                                        \n2020-01-01 00:00:00+00:00  1.122083  1.122838  1.115947  1.122083       0   \n2020-01-02 00:00:00+00:00  1.121894  1.122712  1.116682  1.122083       0   \n2020-01-03 00:00:00+00:00  1.117081  1.118068  1.112570  1.117144       0   \n2020-01-06 00:00:00+00:00  1.116246  1.120825  1.115810  1.116196       0   \n2020-01-07 00:00:00+00:00  1.119583  1.119946  1.113487  1.119799       0   \n\n                           Dividends  Stock Splits  \nDate                                                \n2020-01-01 00:00:00+00:00        0.0           0.0  \n2020-01-02 00:00:00+00:00        0.0           0.0  \n2020-01-03 00:00:00+00:00        0.0           0.0  \n2020-01-06 00:00:00+00:00        0.0           0.0  \n2020-01-07 00:00:00+00:00        0.0           0.0  ",
      "text/html": "<div>\n<style scoped>\n    .dataframe tbody tr th:only-of-type {\n        vertical-align: middle;\n    }\n\n    .dataframe tbody tr th {\n        vertical-align: top;\n    }\n\n    .dataframe thead th {\n        text-align: right;\n    }\n</style>\n<table border=\"1\" class=\"dataframe\">\n  <thead>\n    <tr style=\"text-align: right;\">\n      <th></th>\n      <th>Open</th>\n      <th>High</th>\n      <th>Low</th>\n      <th>Close</th>\n      <th>Volume</th>\n      <th>Dividends</th>\n      <th>Stock Splits</th>\n    </tr>\n    <tr>\n      <th>Date</th>\n      <th></th>\n      <th></th>\n      <th></th>\n      <th></th>\n      <th></th>\n      <th></th>\n      <th></th>\n    </tr>\n  </thead>\n  <tbody>\n    <tr>\n      <th>2020-01-01 00:00:00+00:00</th>\n      <td>1.122083</td>\n      <td>1.122838</td>\n      <td>1.115947</td>\n      <td>1.122083</td>\n      <td>0</td>\n      <td>0.0</td>\n      <td>0.0</td>\n    </tr>\n    <tr>\n      <th>2020-01-02 00:00:00+00:00</th>\n      <td>1.121894</td>\n      <td>1.122712</td>\n      <td>1.116682</td>\n      <td>1.122083</td>\n      <td>0</td>\n      <td>0.0</td>\n      <td>0.0</td>\n    </tr>\n    <tr>\n      <th>2020-01-03 00:00:00+00:00</th>\n      <td>1.117081</td>\n      <td>1.118068</td>\n      <td>1.112570</td>\n      <td>1.117144</td>\n      <td>0</td>\n      <td>0.0</td>\n      <td>0.0</td>\n    </tr>\n    <tr>\n      <th>2020-01-06 00:00:00+00:00</th>\n      <td>1.116246</td>\n      <td>1.120825</td>\n      <td>1.115810</td>\n      <td>1.116196</td>\n      <td>0</td>\n      <td>0.0</td>\n      <td>0.0</td>\n    </tr>\n    <tr>\n      <th>2020-01-07 00:00:00+00:00</th>\n      <td>1.119583</td>\n      <td>1.119946</td>\n      <td>1.113487</td>\n      <td>1.119799</td>\n      <td>0</td>\n      <td>0.0</td>\n      <td>0.0</td>\n    </tr>\n  </tbody>\n</table>\n</div>"
     },
     "execution_count": 13,
     "metadata": {},
     "output_type": "execute_result"
    }
   ],
   "source": [
    "#period is overridden by start\n",
    "history = ticker.history(period=\"1y\", start=\"2020-01-01\", interval=\"1d\")\n",
    "print(f'Got a dataframe from date {history.index[0]} to {history.index[-1]}')\n",
    "history.head()"
   ],
   "metadata": {
    "collapsed": false,
    "ExecuteTime": {
     "end_time": "2024-02-25T05:06:36.301809Z",
     "start_time": "2024-02-25T05:06:35.961584Z"
    }
   },
   "id": "e0adc603d9e7068a",
   "execution_count": 13
  },
  {
   "cell_type": "code",
   "outputs": [
    {
     "name": "stderr",
     "output_type": "stream",
     "text": [
      "EURUSD=X: No price data found, symbol may be delisted (period=1y)\n"
     ]
    },
    {
     "ename": "IndexError",
     "evalue": "index 0 is out of bounds for axis 0 with size 0",
     "output_type": "error",
     "traceback": [
      "\u001B[0;31m---------------------------------------------------------------------------\u001B[0m",
      "\u001B[0;31mIndexError\u001B[0m                                Traceback (most recent call last)",
      "Cell \u001B[0;32mIn[14], line 3\u001B[0m\n\u001B[1;32m      1\u001B[0m \u001B[38;5;66;03m# error when passes from\u001B[39;00m\n\u001B[1;32m      2\u001B[0m history \u001B[38;5;241m=\u001B[39m ticker\u001B[38;5;241m.\u001B[39mhistory(period\u001B[38;5;241m=\u001B[39m\u001B[38;5;124m\"\u001B[39m\u001B[38;5;124m1y\u001B[39m\u001B[38;5;124m\"\u001B[39m, end\u001B[38;5;241m=\u001B[39m\u001B[38;5;124m\"\u001B[39m\u001B[38;5;124m2020-01-01\u001B[39m\u001B[38;5;124m\"\u001B[39m, interval\u001B[38;5;241m=\u001B[39m\u001B[38;5;124m\"\u001B[39m\u001B[38;5;124m1d\u001B[39m\u001B[38;5;124m\"\u001B[39m)\n\u001B[0;32m----> 3\u001B[0m \u001B[38;5;28mprint\u001B[39m(\u001B[38;5;124mf\u001B[39m\u001B[38;5;124m'\u001B[39m\u001B[38;5;124mGot a dataframe from date \u001B[39m\u001B[38;5;132;01m{\u001B[39;00mhistory\u001B[38;5;241m.\u001B[39mindex[\u001B[38;5;241m0\u001B[39m]\u001B[38;5;132;01m}\u001B[39;00m\u001B[38;5;124m to \u001B[39m\u001B[38;5;132;01m{\u001B[39;00mhistory\u001B[38;5;241m.\u001B[39mindex[\u001B[38;5;241m-\u001B[39m\u001B[38;5;241m1\u001B[39m]\u001B[38;5;132;01m}\u001B[39;00m\u001B[38;5;124m'\u001B[39m)\n\u001B[1;32m      4\u001B[0m history\u001B[38;5;241m.\u001B[39mhead()\n",
      "File \u001B[0;32m~/PycharmProjects/yfinance_guide_and_sample_code/venv/lib/python3.9/site-packages/pandas/core/indexes/base.py:5389\u001B[0m, in \u001B[0;36mIndex.__getitem__\u001B[0;34m(self, key)\u001B[0m\n\u001B[1;32m   5386\u001B[0m \u001B[38;5;28;01mif\u001B[39;00m is_integer(key) \u001B[38;5;129;01mor\u001B[39;00m is_float(key):\n\u001B[1;32m   5387\u001B[0m     \u001B[38;5;66;03m# GH#44051 exclude bool, which would return a 2d ndarray\u001B[39;00m\n\u001B[1;32m   5388\u001B[0m     key \u001B[38;5;241m=\u001B[39m com\u001B[38;5;241m.\u001B[39mcast_scalar_indexer(key)\n\u001B[0;32m-> 5389\u001B[0m     \u001B[38;5;28;01mreturn\u001B[39;00m \u001B[43mgetitem\u001B[49m\u001B[43m(\u001B[49m\u001B[43mkey\u001B[49m\u001B[43m)\u001B[49m\n\u001B[1;32m   5391\u001B[0m \u001B[38;5;28;01mif\u001B[39;00m \u001B[38;5;28misinstance\u001B[39m(key, \u001B[38;5;28mslice\u001B[39m):\n\u001B[1;32m   5392\u001B[0m     \u001B[38;5;66;03m# This case is separated from the conditional above to avoid\u001B[39;00m\n\u001B[1;32m   5393\u001B[0m     \u001B[38;5;66;03m# pessimization com.is_bool_indexer and ndim checks.\u001B[39;00m\n\u001B[1;32m   5394\u001B[0m     \u001B[38;5;28;01mreturn\u001B[39;00m \u001B[38;5;28mself\u001B[39m\u001B[38;5;241m.\u001B[39m_getitem_slice(key)\n",
      "\u001B[0;31mIndexError\u001B[0m: index 0 is out of bounds for axis 0 with size 0"
     ]
    }
   ],
   "source": [
    "# error when passes from\n",
    "history = ticker.history(period=\"1y\", end=\"2020-01-01\", interval=\"1d\")\n",
    "print(f'Got a dataframe from date {history.index[0]} to {history.index[-1]}')\n",
    "history.head()"
   ],
   "metadata": {
    "collapsed": false,
    "ExecuteTime": {
     "end_time": "2024-02-25T05:06:36.340375Z",
     "start_time": "2024-02-25T05:06:36.133635Z"
    }
   },
   "id": "92f3ff2db43fc264",
   "execution_count": 14
  },
  {
   "cell_type": "code",
   "outputs": [
    {
     "name": "stdout",
     "output_type": "stream",
     "text": [
      "Got a dataframe from date 2003-12-01 00:00:00+00:00 to 2024-02-23 00:00:00+00:00\n"
     ]
    },
    {
     "data": {
      "text/plain": "                               Open      High       Low     Close  Volume  \\\nDate                                                                        \n2003-12-01 00:00:00+00:00  1.203398  1.204007  1.194401  1.196501       0   \n2003-12-02 00:00:00+00:00  1.196101  1.210903  1.194600  1.208897       0   \n2003-12-03 00:00:00+00:00  1.209000  1.213003  1.207700  1.212298       0   \n2003-12-04 00:00:00+00:00  1.212004  1.214403  1.204398  1.208094       0   \n2003-12-05 00:00:00+00:00  1.207802  1.219096  1.206593  1.218695       0   \n\n                           Dividends  Stock Splits  \nDate                                                \n2003-12-01 00:00:00+00:00        0.0           0.0  \n2003-12-02 00:00:00+00:00        0.0           0.0  \n2003-12-03 00:00:00+00:00        0.0           0.0  \n2003-12-04 00:00:00+00:00        0.0           0.0  \n2003-12-05 00:00:00+00:00        0.0           0.0  ",
      "text/html": "<div>\n<style scoped>\n    .dataframe tbody tr th:only-of-type {\n        vertical-align: middle;\n    }\n\n    .dataframe tbody tr th {\n        vertical-align: top;\n    }\n\n    .dataframe thead th {\n        text-align: right;\n    }\n</style>\n<table border=\"1\" class=\"dataframe\">\n  <thead>\n    <tr style=\"text-align: right;\">\n      <th></th>\n      <th>Open</th>\n      <th>High</th>\n      <th>Low</th>\n      <th>Close</th>\n      <th>Volume</th>\n      <th>Dividends</th>\n      <th>Stock Splits</th>\n    </tr>\n    <tr>\n      <th>Date</th>\n      <th></th>\n      <th></th>\n      <th></th>\n      <th></th>\n      <th></th>\n      <th></th>\n      <th></th>\n    </tr>\n  </thead>\n  <tbody>\n    <tr>\n      <th>2003-12-01 00:00:00+00:00</th>\n      <td>1.203398</td>\n      <td>1.204007</td>\n      <td>1.194401</td>\n      <td>1.196501</td>\n      <td>0</td>\n      <td>0.0</td>\n      <td>0.0</td>\n    </tr>\n    <tr>\n      <th>2003-12-02 00:00:00+00:00</th>\n      <td>1.196101</td>\n      <td>1.210903</td>\n      <td>1.194600</td>\n      <td>1.208897</td>\n      <td>0</td>\n      <td>0.0</td>\n      <td>0.0</td>\n    </tr>\n    <tr>\n      <th>2003-12-03 00:00:00+00:00</th>\n      <td>1.209000</td>\n      <td>1.213003</td>\n      <td>1.207700</td>\n      <td>1.212298</td>\n      <td>0</td>\n      <td>0.0</td>\n      <td>0.0</td>\n    </tr>\n    <tr>\n      <th>2003-12-04 00:00:00+00:00</th>\n      <td>1.212004</td>\n      <td>1.214403</td>\n      <td>1.204398</td>\n      <td>1.208094</td>\n      <td>0</td>\n      <td>0.0</td>\n      <td>0.0</td>\n    </tr>\n    <tr>\n      <th>2003-12-05 00:00:00+00:00</th>\n      <td>1.207802</td>\n      <td>1.219096</td>\n      <td>1.206593</td>\n      <td>1.218695</td>\n      <td>0</td>\n      <td>0.0</td>\n      <td>0.0</td>\n    </tr>\n  </tbody>\n</table>\n</div>"
     },
     "execution_count": 15,
     "metadata": {},
     "output_type": "execute_result"
    }
   ],
   "source": [
    "history = ticker.history(period=\"max\", interval=\"1d\")\n",
    "print(f'Got a dataframe from date {history.index[0]} to {history.index[-1]}')\n",
    "history.head()"
   ],
   "metadata": {
    "collapsed": false,
    "ExecuteTime": {
     "end_time": "2024-02-25T05:06:44.362020Z",
     "start_time": "2024-02-25T05:06:44.010210Z"
    }
   },
   "id": "af48adab4adffde6",
   "execution_count": 15
  },
  {
   "cell_type": "code",
   "outputs": [
    {
     "data": {
      "text/plain": "{'currency': 'USD',\n 'symbol': 'EURUSD=X',\n 'exchangeName': 'CCY',\n 'instrumentType': 'CURRENCY',\n 'firstTradeDate': 1070236800,\n 'regularMarketTime': 1708727358,\n 'hasPrePostMarketData': False,\n 'gmtoffset': 0,\n 'timezone': 'GMT',\n 'exchangeTimezoneName': 'Europe/London',\n 'regularMarketPrice': 1.0823,\n 'chartPreviousClose': 1.1965,\n 'priceHint': 4,\n 'currentTradingPeriod': {'pre': {'timezone': 'GMT',\n   'start': 1708646400,\n   'end': 1708646400,\n   'gmtoffset': 0},\n  'regular': {'timezone': 'GMT',\n   'start': 1708646400,\n   'end': 1708732740,\n   'gmtoffset': 0},\n  'post': {'timezone': 'GMT',\n   'start': 1708732740,\n   'end': 1708732740,\n   'gmtoffset': 0}},\n 'dataGranularity': '1d',\n 'range': '',\n 'validRanges': ['1d',\n  '5d',\n  '1mo',\n  '3mo',\n  '6mo',\n  '1y',\n  '2y',\n  '5y',\n  '10y',\n  'ytd',\n  'max']}"
     },
     "execution_count": 16,
     "metadata": {},
     "output_type": "execute_result"
    }
   ],
   "source": [
    "ticker.history_metadata"
   ],
   "metadata": {
    "collapsed": false,
    "ExecuteTime": {
     "end_time": "2024-02-25T05:06:48.096241Z",
     "start_time": "2024-02-25T05:06:48.084558Z"
    }
   },
   "id": "ccd0299d4457883c",
   "execution_count": 16
  }
 ],
 "metadata": {
  "kernelspec": {
   "display_name": "Python 3",
   "language": "python",
   "name": "python3"
  },
  "language_info": {
   "codemirror_mode": {
    "name": "ipython",
    "version": 2
   },
   "file_extension": ".py",
   "mimetype": "text/x-python",
   "name": "python",
   "nbconvert_exporter": "python",
   "pygments_lexer": "ipython2",
   "version": "2.7.6"
  }
 },
 "nbformat": 4,
 "nbformat_minor": 5
}
