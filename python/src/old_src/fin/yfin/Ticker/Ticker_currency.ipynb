{
 "cells": [
  {
   "cell_type": "code",
   "outputs": [],
   "source": [
    "import yfinance as yf\n",
    "import warnings\n",
    "warnings.filterwarnings(\"ignore\")\n",
    "ticker = yf.Ticker(\"EURUSD=X\")"
   ],
   "metadata": {
    "collapsed": false
   },
   "id": "f2064e9226545937",
   "execution_count": null
  },
  {
   "cell_type": "code",
   "outputs": [
    {
     "data": {
      "text/plain": "Empty DataFrame\nColumns: [Dividends, Stock Splits]\nIndex: []",
      "text/html": "<div>\n<style scoped>\n    .dataframe tbody tr th:only-of-type {\n        vertical-align: middle;\n    }\n\n    .dataframe tbody tr th {\n        vertical-align: top;\n    }\n\n    .dataframe thead th {\n        text-align: right;\n    }\n</style>\n<table border=\"1\" class=\"dataframe\">\n  <thead>\n    <tr style=\"text-align: right;\">\n      <th></th>\n      <th>Dividends</th>\n      <th>Stock Splits</th>\n    </tr>\n    <tr>\n      <th>Date</th>\n      <th></th>\n      <th></th>\n    </tr>\n  </thead>\n  <tbody>\n  </tbody>\n</table>\n</div>"
     },
     "execution_count": 2,
     "metadata": {},
     "output_type": "execute_result"
    }
   ],
   "source": [
    "ticker.actions"
   ],
   "metadata": {
    "collapsed": false,
    "ExecuteTime": {
     "end_time": "2024-02-25T05:07:33.742113Z",
     "start_time": "2024-02-25T05:07:32.763586Z"
    }
   },
   "id": "558848380450a5fe",
   "execution_count": 2
  },
  {
   "cell_type": "code",
   "outputs": [
    {
     "data": {
      "text/plain": "Empty DataFrame\nColumns: []\nIndex: []",
      "text/html": "<div>\n<style scoped>\n    .dataframe tbody tr th:only-of-type {\n        vertical-align: middle;\n    }\n\n    .dataframe tbody tr th {\n        vertical-align: top;\n    }\n\n    .dataframe thead th {\n        text-align: right;\n    }\n</style>\n<table border=\"1\" class=\"dataframe\">\n  <thead>\n    <tr style=\"text-align: right;\">\n      <th></th>\n    </tr>\n  </thead>\n  <tbody>\n  </tbody>\n</table>\n</div>"
     },
     "execution_count": 3,
     "metadata": {},
     "output_type": "execute_result"
    }
   ],
   "source": [
    "ticker.balancesheet"
   ],
   "metadata": {
    "collapsed": false,
    "ExecuteTime": {
     "end_time": "2024-02-25T05:07:33.957194Z",
     "start_time": "2024-02-25T05:07:33.734953Z"
    }
   },
   "id": "daba442b9ef26377",
   "execution_count": 3
  },
  {
   "cell_type": "code",
   "outputs": [
    {
     "data": {
      "text/plain": "lazy-loading dict with keys = ['currency', 'dayHigh', 'dayLow', 'exchange', 'fiftyDayAverage', 'lastPrice', 'lastVolume', 'marketCap', 'open', 'previousClose', 'quoteType', 'regularMarketPreviousClose', 'shares', 'tenDayAverageVolume', 'threeMonthAverageVolume', 'timezone', 'twoHundredDayAverage', 'yearChange', 'yearHigh', 'yearLow']"
     },
     "execution_count": 4,
     "metadata": {},
     "output_type": "execute_result"
    }
   ],
   "source": [
    "ticker.basic_info"
   ],
   "metadata": {
    "collapsed": false,
    "ExecuteTime": {
     "end_time": "2024-02-25T05:07:33.964240Z",
     "start_time": "2024-02-25T05:07:33.901662Z"
    }
   },
   "id": "fc4a3b263abf3fb8",
   "execution_count": 4
  },
  {
   "cell_type": "code",
   "outputs": [
    {
     "name": "stderr",
     "output_type": "stream",
     "text": [
      "404 Client Error: Not Found for url: https://query2.finance.yahoo.com/v10/finance/quoteSummary/EURUSD=X?modules=calendarEvents&corsDomain=finance.yahoo.com&formatted=false&symbol=EURUSD%3DX&crumb=q3BsEUfWcvO\n"
     ]
    },
    {
     "data": {
      "text/plain": "{}"
     },
     "execution_count": 5,
     "metadata": {},
     "output_type": "execute_result"
    }
   ],
   "source": [
    "ticker.calendar"
   ],
   "metadata": {
    "collapsed": false,
    "ExecuteTime": {
     "end_time": "2024-02-25T05:07:36.335544Z",
     "start_time": "2024-02-25T05:07:33.918836Z"
    }
   },
   "id": "8d41af89a946bba9",
   "execution_count": 5
  },
  {
   "cell_type": "code",
   "outputs": [
    {
     "data": {
      "text/plain": "Series([], dtype: object)"
     },
     "execution_count": 6,
     "metadata": {},
     "output_type": "execute_result"
    }
   ],
   "source": [
    "ticker.capital_gains"
   ],
   "metadata": {
    "collapsed": false,
    "ExecuteTime": {
     "end_time": "2024-02-25T05:07:36.369267Z",
     "start_time": "2024-02-25T05:07:36.336589Z"
    }
   },
   "id": "3736b0643b60f0fa",
   "execution_count": 6
  },
  {
   "cell_type": "code",
   "outputs": [
    {
     "data": {
      "text/plain": "Empty DataFrame\nColumns: []\nIndex: []",
      "text/html": "<div>\n<style scoped>\n    .dataframe tbody tr th:only-of-type {\n        vertical-align: middle;\n    }\n\n    .dataframe tbody tr th {\n        vertical-align: top;\n    }\n\n    .dataframe thead th {\n        text-align: right;\n    }\n</style>\n<table border=\"1\" class=\"dataframe\">\n  <thead>\n    <tr style=\"text-align: right;\">\n      <th></th>\n    </tr>\n  </thead>\n  <tbody>\n  </tbody>\n</table>\n</div>"
     },
     "execution_count": 7,
     "metadata": {},
     "output_type": "execute_result"
    }
   ],
   "source": [
    "ticker.cash_flow"
   ],
   "metadata": {
    "collapsed": false,
    "ExecuteTime": {
     "end_time": "2024-02-25T05:07:36.521732Z",
     "start_time": "2024-02-25T05:07:36.344729Z"
    }
   },
   "id": "abec763171250ca1",
   "execution_count": 7
  },
  {
   "cell_type": "code",
   "outputs": [
    {
     "data": {
      "text/plain": "Empty DataFrame\nColumns: []\nIndex: []",
      "text/html": "<div>\n<style scoped>\n    .dataframe tbody tr th:only-of-type {\n        vertical-align: middle;\n    }\n\n    .dataframe tbody tr th {\n        vertical-align: top;\n    }\n\n    .dataframe thead th {\n        text-align: right;\n    }\n</style>\n<table border=\"1\" class=\"dataframe\">\n  <thead>\n    <tr style=\"text-align: right;\">\n      <th></th>\n    </tr>\n  </thead>\n  <tbody>\n  </tbody>\n</table>\n</div>"
     },
     "execution_count": 8,
     "metadata": {},
     "output_type": "execute_result"
    }
   ],
   "source": [
    "ticker.cashflow"
   ],
   "metadata": {
    "collapsed": false,
    "ExecuteTime": {
     "end_time": "2024-02-25T05:07:36.525015Z",
     "start_time": "2024-02-25T05:07:36.514101Z"
    }
   },
   "id": "a42a8c91741bff6e",
   "execution_count": 8
  },
  {
   "cell_type": "code",
   "outputs": [
    {
     "data": {
      "text/plain": "Series([], Name: Dividends, dtype: float64)"
     },
     "execution_count": 9,
     "metadata": {},
     "output_type": "execute_result"
    }
   ],
   "source": [
    "ticker.dividends"
   ],
   "metadata": {
    "collapsed": false,
    "ExecuteTime": {
     "end_time": "2024-02-25T05:07:36.592139Z",
     "start_time": "2024-02-25T05:07:36.524271Z"
    }
   },
   "id": "b5e83e81dd048b3",
   "execution_count": 9
  },
  {
   "cell_type": "code",
   "outputs": [
    {
     "name": "stderr",
     "output_type": "stream",
     "text": [
      "EURUSD=X: No earnings dates found, symbol may be delisted\n"
     ]
    }
   ],
   "source": [
    "ticker.earnings_dates"
   ],
   "metadata": {
    "collapsed": false,
    "ExecuteTime": {
     "end_time": "2024-02-25T05:07:38.357053Z",
     "start_time": "2024-02-25T05:07:36.539233Z"
    }
   },
   "id": "3a291fdd2f656410",
   "execution_count": 10
  },
  {
   "cell_type": "code",
   "outputs": [
    {
     "data": {
      "text/plain": "lazy-loading dict with keys = ['currency', 'dayHigh', 'dayLow', 'exchange', 'fiftyDayAverage', 'lastPrice', 'lastVolume', 'marketCap', 'open', 'previousClose', 'quoteType', 'regularMarketPreviousClose', 'shares', 'tenDayAverageVolume', 'threeMonthAverageVolume', 'timezone', 'twoHundredDayAverage', 'yearChange', 'yearHigh', 'yearLow']"
     },
     "execution_count": 11,
     "metadata": {},
     "output_type": "execute_result"
    }
   ],
   "source": [
    "# Data for this dictionary are loaded when the key is accessed\n",
    "ticker.fast_info"
   ],
   "metadata": {
    "collapsed": false,
    "ExecuteTime": {
     "end_time": "2024-02-25T05:07:38.359889Z",
     "start_time": "2024-02-25T05:07:38.350185Z"
    }
   },
   "id": "3836d94dd4c0a59e",
   "execution_count": 11
  },
  {
   "cell_type": "code",
   "outputs": [
    {
     "data": {
      "text/plain": "1.0839403867721558"
     },
     "execution_count": 39,
     "metadata": {},
     "output_type": "execute_result"
    }
   ],
   "source": [
    "ticker.fast_info['dayHigh']"
   ],
   "metadata": {
    "collapsed": false,
    "ExecuteTime": {
     "end_time": "2024-02-25T05:09:55.837759Z",
     "start_time": "2024-02-25T05:09:55.475130Z"
    }
   },
   "id": "36d62b67abd77438",
   "execution_count": 39
  },
  {
   "cell_type": "code",
   "outputs": [
    {
     "data": {
      "text/plain": "Empty DataFrame\nColumns: []\nIndex: []",
      "text/html": "<div>\n<style scoped>\n    .dataframe tbody tr th:only-of-type {\n        vertical-align: middle;\n    }\n\n    .dataframe tbody tr th {\n        vertical-align: top;\n    }\n\n    .dataframe thead th {\n        text-align: right;\n    }\n</style>\n<table border=\"1\" class=\"dataframe\">\n  <thead>\n    <tr style=\"text-align: right;\">\n      <th></th>\n    </tr>\n  </thead>\n  <tbody>\n  </tbody>\n</table>\n</div>"
     },
     "execution_count": 12,
     "metadata": {},
     "output_type": "execute_result"
    }
   ],
   "source": [
    "ticker.financials"
   ],
   "metadata": {
    "collapsed": false,
    "ExecuteTime": {
     "end_time": "2024-02-25T05:07:38.578026Z",
     "start_time": "2024-02-25T05:07:38.360723Z"
    }
   },
   "id": "b3a0f14653c2cb03",
   "execution_count": 12
  },
  {
   "cell_type": "code",
   "outputs": [
    {
     "data": {
      "text/plain": "<bound method log_indent_decorator.<locals>.wrapper of yfinance.Ticker object <EURUSD=X>>"
     },
     "execution_count": 13,
     "metadata": {},
     "output_type": "execute_result"
    }
   ],
   "source": [
    "ticker.history"
   ],
   "metadata": {
    "collapsed": false,
    "ExecuteTime": {
     "end_time": "2024-02-25T05:07:38.587439Z",
     "start_time": "2024-02-25T05:07:38.565668Z"
    }
   },
   "id": "c5035bef21d7dcaa",
   "execution_count": 13
  },
  {
   "cell_type": "code",
   "outputs": [
    {
     "data": {
      "text/plain": "{'currency': 'USD',\n 'symbol': 'EURUSD=X',\n 'exchangeName': 'CCY',\n 'instrumentType': 'CURRENCY',\n 'firstTradeDate': 1070236800,\n 'regularMarketTime': 1708727358,\n 'hasPrePostMarketData': False,\n 'gmtoffset': 0,\n 'timezone': 'GMT',\n 'exchangeTimezoneName': 'Europe/London',\n 'regularMarketPrice': 1.0823,\n 'chartPreviousClose': 1.1965,\n 'priceHint': 4,\n 'currentTradingPeriod': {'pre': {'timezone': 'GMT',\n   'end': 1708646400,\n   'start': 1708646400,\n   'gmtoffset': 0},\n  'regular': {'timezone': 'GMT',\n   'end': 1708732740,\n   'start': 1708646400,\n   'gmtoffset': 0},\n  'post': {'timezone': 'GMT',\n   'end': 1708732740,\n   'start': 1708732740,\n   'gmtoffset': 0}},\n 'dataGranularity': '1d',\n 'range': '',\n 'validRanges': ['1d',\n  '5d',\n  '1mo',\n  '3mo',\n  '6mo',\n  '1y',\n  '2y',\n  '5y',\n  '10y',\n  'ytd',\n  'max']}"
     },
     "execution_count": 14,
     "metadata": {},
     "output_type": "execute_result"
    }
   ],
   "source": [
    "ticker.history_metadata"
   ],
   "metadata": {
    "collapsed": false,
    "ExecuteTime": {
     "end_time": "2024-02-25T05:07:38.588709Z",
     "start_time": "2024-02-25T05:07:38.565988Z"
    }
   },
   "id": "644d53f6b63c977b",
   "execution_count": 14
  },
  {
   "cell_type": "code",
   "outputs": [
    {
     "data": {
      "text/plain": "Empty DataFrame\nColumns: []\nIndex: []",
      "text/html": "<div>\n<style scoped>\n    .dataframe tbody tr th:only-of-type {\n        vertical-align: middle;\n    }\n\n    .dataframe tbody tr th {\n        vertical-align: top;\n    }\n\n    .dataframe thead th {\n        text-align: right;\n    }\n</style>\n<table border=\"1\" class=\"dataframe\">\n  <thead>\n    <tr style=\"text-align: right;\">\n      <th></th>\n    </tr>\n  </thead>\n  <tbody>\n  </tbody>\n</table>\n</div>"
     },
     "execution_count": 15,
     "metadata": {},
     "output_type": "execute_result"
    }
   ],
   "source": [
    "ticker.incomestmt"
   ],
   "metadata": {
    "collapsed": false,
    "ExecuteTime": {
     "end_time": "2024-02-25T05:07:38.589956Z",
     "start_time": "2024-02-25T05:07:38.566130Z"
    }
   },
   "id": "56e4d6a802a728d0",
   "execution_count": 15
  },
  {
   "cell_type": "code",
   "outputs": [
    {
     "data": {
      "text/plain": "{'maxAge': 86400,\n 'priceHint': 4,\n 'previousClose': 1.0827198,\n 'open': 1.0823683,\n 'dayLow': 1.0815488,\n 'dayHigh': 1.0841284,\n 'regularMarketPreviousClose': 1.0827198,\n 'regularMarketOpen': 1.0823683,\n 'regularMarketDayLow': 1.0815488,\n 'regularMarketDayHigh': 1.0841284,\n 'bid': 1.0822511,\n 'ask': 1.0816658,\n 'fiftyTwoWeekLow': 1.0449867,\n 'fiftyTwoWeekHigh': 1.1275737,\n 'fiftyDayAverage': 1.0888014,\n 'twoHundredDayAverage': 1.0827,\n 'currency': 'USD',\n 'exchange': 'CCY',\n 'quoteType': 'CURRENCY',\n 'symbol': 'EURUSD=X',\n 'underlyingSymbol': 'EURUSD=X',\n 'shortName': 'EUR/USD',\n 'longName': 'EUR/USD',\n 'firstTradeDateEpochUtc': 1070236800,\n 'timeZoneFullName': 'Europe/London',\n 'timeZoneShortName': 'GMT',\n 'uuid': '1c974a98-f49a-3294-a47a-52edc95109aa',\n 'messageBoardId': 'finmb_EUR_X',\n 'trailingPegRatio': None}"
     },
     "execution_count": 16,
     "metadata": {},
     "output_type": "execute_result"
    }
   ],
   "source": [
    "ticker.info"
   ],
   "metadata": {
    "collapsed": false,
    "ExecuteTime": {
     "end_time": "2024-02-25T05:07:38.817302Z",
     "start_time": "2024-02-25T05:07:38.566226Z"
    }
   },
   "id": "f3322e876e80ab61",
   "execution_count": 16
  },
  {
   "cell_type": "code",
   "outputs": [
    {
     "name": "stderr",
     "output_type": "stream",
     "text": [
      "404 Client Error: Not Found for url: https://query2.finance.yahoo.com/v10/finance/quoteSummary/?modules=institutionOwnership%2CfundOwnership%2CmajorDirectHolders%2CmajorHoldersBreakdown%2CinsiderTransactions%2CinsiderHolders%2CnetSharePurchaseActivity&corsDomain=finance.yahoo.com&symbol=EURUSD%3DX&formatted=false&crumb=1jKF%2F5NCvcT\n"
     ]
    },
    {
     "data": {
      "text/plain": "Empty DataFrame\nColumns: []\nIndex: []",
      "text/html": "<div>\n<style scoped>\n    .dataframe tbody tr th:only-of-type {\n        vertical-align: middle;\n    }\n\n    .dataframe tbody tr th {\n        vertical-align: top;\n    }\n\n    .dataframe thead th {\n        text-align: right;\n    }\n</style>\n<table border=\"1\" class=\"dataframe\">\n  <thead>\n    <tr style=\"text-align: right;\">\n      <th></th>\n    </tr>\n  </thead>\n  <tbody>\n  </tbody>\n</table>\n</div>"
     },
     "execution_count": 17,
     "metadata": {},
     "output_type": "execute_result"
    }
   ],
   "source": [
    "ticker.insider_purchases"
   ],
   "metadata": {
    "collapsed": false,
    "ExecuteTime": {
     "end_time": "2024-02-25T05:07:39.101090Z",
     "start_time": "2024-02-25T05:07:38.714548Z"
    }
   },
   "id": "78080c6c2177c93d",
   "execution_count": 17
  },
  {
   "cell_type": "code",
   "outputs": [
    {
     "data": {
      "text/plain": "Empty DataFrame\nColumns: []\nIndex: []",
      "text/html": "<div>\n<style scoped>\n    .dataframe tbody tr th:only-of-type {\n        vertical-align: middle;\n    }\n\n    .dataframe tbody tr th {\n        vertical-align: top;\n    }\n\n    .dataframe thead th {\n        text-align: right;\n    }\n</style>\n<table border=\"1\" class=\"dataframe\">\n  <thead>\n    <tr style=\"text-align: right;\">\n      <th></th>\n    </tr>\n  </thead>\n  <tbody>\n  </tbody>\n</table>\n</div>"
     },
     "execution_count": 18,
     "metadata": {},
     "output_type": "execute_result"
    }
   ],
   "source": [
    "ticker.insider_roster_holders"
   ],
   "metadata": {
    "collapsed": false,
    "ExecuteTime": {
     "end_time": "2024-02-25T05:07:39.107596Z",
     "start_time": "2024-02-25T05:07:39.098053Z"
    }
   },
   "id": "1be2c76c70972ace",
   "execution_count": 18
  },
  {
   "cell_type": "code",
   "outputs": [
    {
     "data": {
      "text/plain": "Empty DataFrame\nColumns: []\nIndex: []",
      "text/html": "<div>\n<style scoped>\n    .dataframe tbody tr th:only-of-type {\n        vertical-align: middle;\n    }\n\n    .dataframe tbody tr th {\n        vertical-align: top;\n    }\n\n    .dataframe thead th {\n        text-align: right;\n    }\n</style>\n<table border=\"1\" class=\"dataframe\">\n  <thead>\n    <tr style=\"text-align: right;\">\n      <th></th>\n    </tr>\n  </thead>\n  <tbody>\n  </tbody>\n</table>\n</div>"
     },
     "execution_count": 19,
     "metadata": {},
     "output_type": "execute_result"
    }
   ],
   "source": [
    "ticker.insider_transactions"
   ],
   "metadata": {
    "collapsed": false,
    "ExecuteTime": {
     "end_time": "2024-02-25T05:07:39.151270Z",
     "start_time": "2024-02-25T05:07:39.112921Z"
    }
   },
   "id": "15e7e0a616f903",
   "execution_count": 19
  },
  {
   "cell_type": "code",
   "outputs": [
    {
     "data": {
      "text/plain": "Empty DataFrame\nColumns: []\nIndex: []",
      "text/html": "<div>\n<style scoped>\n    .dataframe tbody tr th:only-of-type {\n        vertical-align: middle;\n    }\n\n    .dataframe tbody tr th {\n        vertical-align: top;\n    }\n\n    .dataframe thead th {\n        text-align: right;\n    }\n</style>\n<table border=\"1\" class=\"dataframe\">\n  <thead>\n    <tr style=\"text-align: right;\">\n      <th></th>\n    </tr>\n  </thead>\n  <tbody>\n  </tbody>\n</table>\n</div>"
     },
     "execution_count": 20,
     "metadata": {},
     "output_type": "execute_result"
    }
   ],
   "source": [
    "ticker.institutional_holders"
   ],
   "metadata": {
    "collapsed": false,
    "ExecuteTime": {
     "end_time": "2024-02-25T05:07:39.272909Z",
     "start_time": "2024-02-25T05:07:39.125191Z"
    }
   },
   "id": "435880510de7ba8c",
   "execution_count": 20
  },
  {
   "cell_type": "code",
   "outputs": [
    {
     "data": {
      "text/plain": "Empty DataFrame\nColumns: []\nIndex: []",
      "text/html": "<div>\n<style scoped>\n    .dataframe tbody tr th:only-of-type {\n        vertical-align: middle;\n    }\n\n    .dataframe tbody tr th {\n        vertical-align: top;\n    }\n\n    .dataframe thead th {\n        text-align: right;\n    }\n</style>\n<table border=\"1\" class=\"dataframe\">\n  <thead>\n    <tr style=\"text-align: right;\">\n      <th></th>\n    </tr>\n  </thead>\n  <tbody>\n  </tbody>\n</table>\n</div>"
     },
     "execution_count": 21,
     "metadata": {},
     "output_type": "execute_result"
    }
   ],
   "source": [
    "ticker.major_holders"
   ],
   "metadata": {
    "collapsed": false,
    "ExecuteTime": {
     "end_time": "2024-02-25T05:07:39.331061Z",
     "start_time": "2024-02-25T05:07:39.137469Z"
    }
   },
   "id": "641e4cf4a7289087",
   "execution_count": 21
  },
  {
   "cell_type": "code",
   "outputs": [
    {
     "data": {
      "text/plain": "Empty DataFrame\nColumns: []\nIndex: []",
      "text/html": "<div>\n<style scoped>\n    .dataframe tbody tr th:only-of-type {\n        vertical-align: middle;\n    }\n\n    .dataframe tbody tr th {\n        vertical-align: top;\n    }\n\n    .dataframe thead th {\n        text-align: right;\n    }\n</style>\n<table border=\"1\" class=\"dataframe\">\n  <thead>\n    <tr style=\"text-align: right;\">\n      <th></th>\n    </tr>\n  </thead>\n  <tbody>\n  </tbody>\n</table>\n</div>"
     },
     "execution_count": 22,
     "metadata": {},
     "output_type": "execute_result"
    }
   ],
   "source": [
    "ticker.mutualfund_holders"
   ],
   "metadata": {
    "collapsed": false,
    "ExecuteTime": {
     "end_time": "2024-02-25T05:07:39.370802Z",
     "start_time": "2024-02-25T05:07:39.150432Z"
    }
   },
   "id": "a3c295bba8e73b44",
   "execution_count": 22
  },
  {
   "cell_type": "code",
   "outputs": [
    {
     "data": {
      "text/plain": "[{'uuid': '702bf14d-c5d6-3ba8-a5a7-fe9f21fa5aff',\n  'title': 'Gold Up And Dollar Down As The Fed Stays Firm',\n  'publisher': 'FX Empire',\n  'link': 'https://finance.yahoo.com/news/gold-dollar-down-fed-stays-144200726.html',\n  'providerPublishTime': 1708612920,\n  'type': 'STORY',\n  'thumbnail': {'resolutions': [{'url': 'https://s.yimg.com/uu/api/res/1.2/qQ7CWDRvFveeNlacTk3Q7Q--~B/aD00MTA7dz02MTU7YXBwaWQ9eXRhY2h5b24-/https://media.zenfs.com/en/fx_empire_176/8c9373c0e85ed4bceedbf5e500bc5f3b',\n     'width': 615,\n     'height': 410,\n     'tag': 'original'},\n    {'url': 'https://s.yimg.com/uu/api/res/1.2/QdnyzLeu3jIv43Y5pLXbyA--~B/Zmk9ZmlsbDtoPTE0MDtweW9mZj0wO3c9MTQwO2FwcGlkPXl0YWNoeW9u/https://media.zenfs.com/en/fx_empire_176/8c9373c0e85ed4bceedbf5e500bc5f3b',\n     'width': 140,\n     'height': 140,\n     'tag': '140x140'}]},\n  'relatedTickers': ['GC=F', 'EURUSD=X', 'USD=X', 'EUR=X']},\n {'uuid': '507301b8-f667-3c4f-8edc-28e4be41bb6a',\n  'title': 'Germany: Reforming The Debt Brake Could Raise Public Investment And Support Growth',\n  'publisher': 'FX Empire',\n  'link': 'https://finance.yahoo.com/news/germany-reforming-debt-brake-could-101356024.html',\n  'providerPublishTime': 1707992036,\n  'type': 'STORY',\n  'thumbnail': {'resolutions': [{'url': 'https://s.yimg.com/uu/api/res/1.2/yE07EstktD5AlA5HPJCZyA--~B/aD00MTA7dz02MTU7YXBwaWQ9eXRhY2h5b24-/https://media.zenfs.com/en/fx_empire_176/ae8d3749da919886d9ac4f32871696b1',\n     'width': 615,\n     'height': 410,\n     'tag': 'original'},\n    {'url': 'https://s.yimg.com/uu/api/res/1.2/E_Ko9S4AZW5v2f9sfFVcVw--~B/Zmk9ZmlsbDtoPTE0MDtweW9mZj0wO3c9MTQwO2FwcGlkPXl0YWNoeW9u/https://media.zenfs.com/en/fx_empire_176/ae8d3749da919886d9ac4f32871696b1',\n     'width': 140,\n     'height': 140,\n     'tag': '140x140'}]},\n  'relatedTickers': ['EURUSD=X', 'USD=X', 'EUR=X']},\n {'uuid': '6437bd32-b6af-3822-9f98-66312303f3b7',\n  'title': 'Stubborn Inflation Knocks Hopes for March Rate Cut in Europe; BoE Signals Cut to Come Later This Year',\n  'publisher': 'The Wall Street Journal',\n  'link': 'https://finance.yahoo.com/m/6437bd32-b6af-3822-9f98-66312303f3b7/stubborn-inflation-knocks.html',\n  'providerPublishTime': 1706789977,\n  'type': 'STORY',\n  'thumbnail': {'resolutions': [{'url': 'https://s.yimg.com/uu/api/res/1.2/LhGASPtZbQpb.csF2m4USw--~B/aD02NDA7dz0xMjgwO2FwcGlkPXl0YWNoeW9u/https://media.zenfs.com/en/wsj.com/012a0d9a35fb1ad2d203f9db8003f3a6',\n     'width': 1280,\n     'height': 640,\n     'tag': 'original'},\n    {'url': 'https://s.yimg.com/uu/api/res/1.2/nP_p0LdTV8wBlPbvZtn4tA--~B/Zmk9ZmlsbDtoPTE0MDtweW9mZj0wO3c9MTQwO2FwcGlkPXl0YWNoeW9u/https://media.zenfs.com/en/wsj.com/012a0d9a35fb1ad2d203f9db8003f3a6',\n     'width': 140,\n     'height': 140,\n     'tag': '140x140'}]},\n  'relatedTickers': ['^STOXX',\n   'EURUSD=X',\n   'USD=X',\n   'EUR=X',\n   'GBPUSD=X',\n   'USD=X',\n   'GBP=X']},\n {'uuid': 'e95f536c-3601-37eb-a867-a752942cd261',\n  'title': 'Dollar edges higher ahead of Fed meeting, payrolls',\n  'publisher': 'Investing.com',\n  'link': 'https://finance.yahoo.com/news/dollar-edges-higher-ahead-fed-045423982.html',\n  'providerPublishTime': 1706504063,\n  'type': 'STORY',\n  'relatedTickers': ['GBPUSD=X',\n   'USD=X',\n   'GBP=X',\n   'DX',\n   'DX-PC',\n   'EURUSD=X',\n   'USD=X',\n   'EUR=X']},\n {'uuid': '46b07dd0-e6e0-38cd-87f7-fa7d40f81ae4',\n  'title': 'January Fed Meeting: Dates And What To Expect',\n  'publisher': 'FX Empire',\n  'link': 'https://finance.yahoo.com/news/january-fed-meeting-dates-expect-102256166.html',\n  'providerPublishTime': 1706437376,\n  'type': 'STORY',\n  'thumbnail': {'resolutions': [{'url': 'https://s.yimg.com/uu/api/res/1.2/zLC7saTJHcVtzdVkuMHx7g--~B/aD00MTA7dz02MTU7YXBwaWQ9eXRhY2h5b24-/https://media.zenfs.com/en/fx_empire_176/1ce4b293ae23a1299e61750fdb956c10',\n     'width': 615,\n     'height': 410,\n     'tag': 'original'},\n    {'url': 'https://s.yimg.com/uu/api/res/1.2/.3520rYn1T5MQjoBA4VA3Q--~B/Zmk9ZmlsbDtoPTE0MDtweW9mZj0wO3c9MTQwO2FwcGlkPXl0YWNoeW9u/https://media.zenfs.com/en/fx_empire_176/1ce4b293ae23a1299e61750fdb956c10',\n     'width': 140,\n     'height': 140,\n     'tag': '140x140'}]},\n  'relatedTickers': ['GBPUSD=X',\n   'USD=X',\n   'GBP=X',\n   'JPY=X',\n   'JPYUSD=X',\n   'EURUSD=X',\n   'USD=X',\n   'EUR=X']},\n {'uuid': 'b2c1e052-cd18-3e48-9af9-eb050739b61e',\n  'title': 'EUR/USD is Under Pressure After Strong US GDP',\n  'publisher': 'FX Empire',\n  'link': 'https://finance.yahoo.com/news/eur-usd-under-pressure-strong-101243673.html',\n  'providerPublishTime': 1706263963,\n  'type': 'STORY',\n  'thumbnail': {'resolutions': [{'url': 'https://s.yimg.com/uu/api/res/1.2/5d400Z1Ov.gRG0tEEO7ocw--~B/aD00MTA7dz02MTU7YXBwaWQ9eXRhY2h5b24-/https://media.zenfs.com/en/fx_empire_176/f6a83da0f4bf874c43d8f86fc891c6e3',\n     'width': 615,\n     'height': 410,\n     'tag': 'original'},\n    {'url': 'https://s.yimg.com/uu/api/res/1.2/vNEFzjHwdeXEqR7Tkas54w--~B/Zmk9ZmlsbDtoPTE0MDtweW9mZj0wO3c9MTQwO2FwcGlkPXl0YWNoeW9u/https://media.zenfs.com/en/fx_empire_176/f6a83da0f4bf874c43d8f86fc891c6e3',\n     'width': 140,\n     'height': 140,\n     'tag': '140x140'}]},\n  'relatedTickers': ['EURUSD=X', 'USD=X', 'EUR=X', 'EUR=X']},\n {'uuid': '62088a45-3cc7-3c87-972d-7e305598a749',\n  'title': 'CORRECTED-FOREX-Dollar firm ahead of price data; euro down on ECB rate cut hopes',\n  'publisher': 'Reuters',\n  'link': 'https://finance.yahoo.com/news/forex-dollar-firm-ahead-price-064022182.html',\n  'providerPublishTime': 1706251222,\n  'type': 'STORY',\n  'relatedTickers': ['EUR=X', 'EURUSD=X', '^TNX']},\n {'uuid': 'e7e547bc-4d72-347b-b64f-dbe379321d31',\n  'title': 'Dollar steadies ahead of key inflation data; euro slips post ECB',\n  'publisher': 'Investing.com',\n  'link': 'https://finance.yahoo.com/news/dollar-steadies-ahead-key-inflation-035358158.html',\n  'providerPublishTime': 1706241238,\n  'type': 'STORY',\n  'relatedTickers': ['GBPUSD=X',\n   'USD=X',\n   'GBP=X',\n   'DX',\n   'DX-PC',\n   'EURUSD=X',\n   'USD=X',\n   'EUR=X',\n   'USD=X',\n   'EUR=X']}]"
     },
     "execution_count": 23,
     "metadata": {},
     "output_type": "execute_result"
    }
   ],
   "source": [
    "ticker.news"
   ],
   "metadata": {
    "collapsed": false,
    "ExecuteTime": {
     "end_time": "2024-02-25T05:07:39.467750Z",
     "start_time": "2024-02-25T05:07:39.164244Z"
    }
   },
   "id": "e74d13d3a7a95624",
   "execution_count": 23
  },
  {
   "cell_type": "code",
   "outputs": [
    {
     "data": {
      "text/plain": "<bound method Ticker.option_chain of yfinance.Ticker object <EURUSD=X>>"
     },
     "execution_count": 24,
     "metadata": {},
     "output_type": "execute_result"
    }
   ],
   "source": [
    "ticker.option_chain"
   ],
   "metadata": {
    "collapsed": false,
    "ExecuteTime": {
     "end_time": "2024-02-25T05:07:39.511970Z",
     "start_time": "2024-02-25T05:07:39.321024Z"
    }
   },
   "id": "637b59c7b2897cab",
   "execution_count": 24
  },
  {
   "cell_type": "code",
   "outputs": [
    {
     "data": {
      "text/plain": "()"
     },
     "execution_count": 25,
     "metadata": {},
     "output_type": "execute_result"
    }
   ],
   "source": [
    "ticker.options"
   ],
   "metadata": {
    "collapsed": false,
    "ExecuteTime": {
     "end_time": "2024-02-25T05:07:39.634919Z",
     "start_time": "2024-02-25T05:07:39.337419Z"
    }
   },
   "id": "55ee5c46442c4ddc",
   "execution_count": 25
  },
  {
   "cell_type": "code",
   "outputs": [],
   "source": [
    "ticker.proxy"
   ],
   "metadata": {
    "collapsed": false,
    "ExecuteTime": {
     "end_time": "2024-02-25T05:07:39.636093Z",
     "start_time": "2024-02-25T05:07:39.429988Z"
    }
   },
   "id": "8d078e678c3438d7",
   "execution_count": 26
  },
  {
   "cell_type": "code",
   "outputs": [
    {
     "data": {
      "text/plain": "Empty DataFrame\nColumns: []\nIndex: []",
      "text/html": "<div>\n<style scoped>\n    .dataframe tbody tr th:only-of-type {\n        vertical-align: middle;\n    }\n\n    .dataframe tbody tr th {\n        vertical-align: top;\n    }\n\n    .dataframe thead th {\n        text-align: right;\n    }\n</style>\n<table border=\"1\" class=\"dataframe\">\n  <thead>\n    <tr style=\"text-align: right;\">\n      <th></th>\n    </tr>\n  </thead>\n  <tbody>\n  </tbody>\n</table>\n</div>"
     },
     "execution_count": 27,
     "metadata": {},
     "output_type": "execute_result"
    }
   ],
   "source": [
    "ticker.quarterly_balancesheet"
   ],
   "metadata": {
    "collapsed": false,
    "ExecuteTime": {
     "end_time": "2024-02-25T05:07:39.847045Z",
     "start_time": "2024-02-25T05:07:39.439355Z"
    }
   },
   "id": "24e12e28686fab4a",
   "execution_count": 27
  },
  {
   "cell_type": "code",
   "outputs": [
    {
     "data": {
      "text/plain": "Empty DataFrame\nColumns: []\nIndex: []",
      "text/html": "<div>\n<style scoped>\n    .dataframe tbody tr th:only-of-type {\n        vertical-align: middle;\n    }\n\n    .dataframe tbody tr th {\n        vertical-align: top;\n    }\n\n    .dataframe thead th {\n        text-align: right;\n    }\n</style>\n<table border=\"1\" class=\"dataframe\">\n  <thead>\n    <tr style=\"text-align: right;\">\n      <th></th>\n    </tr>\n  </thead>\n  <tbody>\n  </tbody>\n</table>\n</div>"
     },
     "execution_count": 28,
     "metadata": {},
     "output_type": "execute_result"
    }
   ],
   "source": [
    "ticker.quarterly_cash_flow"
   ],
   "metadata": {
    "collapsed": false,
    "ExecuteTime": {
     "end_time": "2024-02-25T05:07:39.956626Z",
     "start_time": "2024-02-25T05:07:39.590750Z"
    }
   },
   "id": "c25e85ebad151f29",
   "execution_count": 28
  },
  {
   "cell_type": "code",
   "outputs": [
    {
     "data": {
      "text/plain": "Empty DataFrame\nColumns: []\nIndex: []",
      "text/html": "<div>\n<style scoped>\n    .dataframe tbody tr th:only-of-type {\n        vertical-align: middle;\n    }\n\n    .dataframe tbody tr th {\n        vertical-align: top;\n    }\n\n    .dataframe thead th {\n        text-align: right;\n    }\n</style>\n<table border=\"1\" class=\"dataframe\">\n  <thead>\n    <tr style=\"text-align: right;\">\n      <th></th>\n    </tr>\n  </thead>\n  <tbody>\n  </tbody>\n</table>\n</div>"
     },
     "execution_count": 29,
     "metadata": {},
     "output_type": "execute_result"
    }
   ],
   "source": [
    "ticker.quarterly_cashflow"
   ],
   "metadata": {
    "collapsed": false,
    "ExecuteTime": {
     "end_time": "2024-02-25T05:07:40.023484Z",
     "start_time": "2024-02-25T05:07:39.740126Z"
    }
   },
   "id": "2b49f4179028b531",
   "execution_count": 29
  },
  {
   "cell_type": "code",
   "outputs": [
    {
     "data": {
      "text/plain": "Empty DataFrame\nColumns: []\nIndex: []",
      "text/html": "<div>\n<style scoped>\n    .dataframe tbody tr th:only-of-type {\n        vertical-align: middle;\n    }\n\n    .dataframe tbody tr th {\n        vertical-align: top;\n    }\n\n    .dataframe thead th {\n        text-align: right;\n    }\n</style>\n<table border=\"1\" class=\"dataframe\">\n  <thead>\n    <tr style=\"text-align: right;\">\n      <th></th>\n    </tr>\n  </thead>\n  <tbody>\n  </tbody>\n</table>\n</div>"
     },
     "execution_count": 30,
     "metadata": {},
     "output_type": "execute_result"
    }
   ],
   "source": [
    "ticker.quarterly_financials"
   ],
   "metadata": {
    "collapsed": false,
    "ExecuteTime": {
     "end_time": "2024-02-25T05:07:40.112685Z",
     "start_time": "2024-02-25T05:07:39.754971Z"
    }
   },
   "id": "d74d6228bc94c221",
   "execution_count": 30
  },
  {
   "cell_type": "code",
   "outputs": [
    {
     "data": {
      "text/plain": "Empty DataFrame\nColumns: []\nIndex: []",
      "text/html": "<div>\n<style scoped>\n    .dataframe tbody tr th:only-of-type {\n        vertical-align: middle;\n    }\n\n    .dataframe tbody tr th {\n        vertical-align: top;\n    }\n\n    .dataframe thead th {\n        text-align: right;\n    }\n</style>\n<table border=\"1\" class=\"dataframe\">\n  <thead>\n    <tr style=\"text-align: right;\">\n      <th></th>\n    </tr>\n  </thead>\n  <tbody>\n  </tbody>\n</table>\n</div>"
     },
     "execution_count": 31,
     "metadata": {},
     "output_type": "execute_result"
    }
   ],
   "source": [
    "ticker.quarterly_incomestmt"
   ],
   "metadata": {
    "collapsed": false,
    "ExecuteTime": {
     "end_time": "2024-02-25T05:07:40.114773Z",
     "start_time": "2024-02-25T05:07:39.894307Z"
    }
   },
   "id": "cc7659ceb07cb49b",
   "execution_count": 31
  },
  {
   "cell_type": "code",
   "outputs": [
    {
     "name": "stderr",
     "output_type": "stream",
     "text": [
      "404 Client Error: Not Found for url: https://query2.finance.yahoo.com/v10/finance/quoteSummary/EURUSD=X?modules=recommendationTrend&corsDomain=finance.yahoo.com&formatted=false&symbol=EURUSD%3DX&crumb=1jKF%2F5NCvcT\n"
     ]
    },
    {
     "data": {
      "text/plain": "Empty DataFrame\nColumns: []\nIndex: []",
      "text/html": "<div>\n<style scoped>\n    .dataframe tbody tr th:only-of-type {\n        vertical-align: middle;\n    }\n\n    .dataframe tbody tr th {\n        vertical-align: top;\n    }\n\n    .dataframe thead th {\n        text-align: right;\n    }\n</style>\n<table border=\"1\" class=\"dataframe\">\n  <thead>\n    <tr style=\"text-align: right;\">\n      <th></th>\n    </tr>\n  </thead>\n  <tbody>\n  </tbody>\n</table>\n</div>"
     },
     "execution_count": 32,
     "metadata": {},
     "output_type": "execute_result"
    }
   ],
   "source": [
    "ticker.recommendations"
   ],
   "metadata": {
    "collapsed": false,
    "ExecuteTime": {
     "end_time": "2024-02-25T05:07:41.040891Z",
     "start_time": "2024-02-25T05:07:39.902691Z"
    }
   },
   "id": "65f0f63fd385b3b",
   "execution_count": 32
  },
  {
   "cell_type": "code",
   "outputs": [
    {
     "data": {
      "text/plain": "Empty DataFrame\nColumns: []\nIndex: []",
      "text/html": "<div>\n<style scoped>\n    .dataframe tbody tr th:only-of-type {\n        vertical-align: middle;\n    }\n\n    .dataframe tbody tr th {\n        vertical-align: top;\n    }\n\n    .dataframe thead th {\n        text-align: right;\n    }\n</style>\n<table border=\"1\" class=\"dataframe\">\n  <thead>\n    <tr style=\"text-align: right;\">\n      <th></th>\n    </tr>\n  </thead>\n  <tbody>\n  </tbody>\n</table>\n</div>"
     },
     "execution_count": 33,
     "metadata": {},
     "output_type": "execute_result"
    }
   ],
   "source": [
    "ticker.recommendations_summary"
   ],
   "metadata": {
    "collapsed": false,
    "ExecuteTime": {
     "end_time": "2024-02-25T05:07:41.060692Z",
     "start_time": "2024-02-25T05:07:41.043456Z"
    }
   },
   "id": "4cd3330f99e997ab",
   "execution_count": 33
  },
  {
   "cell_type": "code",
   "outputs": [],
   "source": [
    "ticker.session"
   ],
   "metadata": {
    "collapsed": false,
    "ExecuteTime": {
     "end_time": "2024-02-25T05:07:41.064033Z",
     "start_time": "2024-02-25T05:07:41.052134Z"
    }
   },
   "id": "758858f98b73fa59",
   "execution_count": 34
  },
  {
   "cell_type": "code",
   "outputs": [
    {
     "data": {
      "text/plain": "Series([], Name: Stock Splits, dtype: float64)"
     },
     "execution_count": 35,
     "metadata": {},
     "output_type": "execute_result"
    }
   ],
   "source": [
    "ticker.splits"
   ],
   "metadata": {
    "collapsed": false,
    "ExecuteTime": {
     "end_time": "2024-02-25T05:07:41.100490Z",
     "start_time": "2024-02-25T05:07:41.060420Z"
    }
   },
   "id": "c5dc5709c4a7df99",
   "execution_count": 35
  },
  {
   "cell_type": "code",
   "outputs": [
    {
     "data": {
      "text/plain": "'EURUSD=X'"
     },
     "execution_count": 36,
     "metadata": {},
     "output_type": "execute_result"
    }
   ],
   "source": [
    "ticker.ticker"
   ],
   "metadata": {
    "collapsed": false,
    "ExecuteTime": {
     "end_time": "2024-02-25T05:07:41.101600Z",
     "start_time": "2024-02-25T05:07:41.068679Z"
    }
   },
   "id": "63b8a4e802e6b02",
   "execution_count": 36
  },
  {
   "cell_type": "code",
   "outputs": [
    {
     "name": "stderr",
     "output_type": "stream",
     "text": [
      "404 Client Error: Not Found for url: https://query2.finance.yahoo.com/v10/finance/quoteSummary/EURUSD=X?modules=upgradeDowngradeHistory&corsDomain=finance.yahoo.com&formatted=false&symbol=EURUSD%3DX&crumb=1jKF%2F5NCvcT\n"
     ]
    },
    {
     "data": {
      "text/plain": "Empty DataFrame\nColumns: []\nIndex: []",
      "text/html": "<div>\n<style scoped>\n    .dataframe tbody tr th:only-of-type {\n        vertical-align: middle;\n    }\n\n    .dataframe tbody tr th {\n        vertical-align: top;\n    }\n\n    .dataframe thead th {\n        text-align: right;\n    }\n</style>\n<table border=\"1\" class=\"dataframe\">\n  <thead>\n    <tr style=\"text-align: right;\">\n      <th></th>\n    </tr>\n  </thead>\n  <tbody>\n  </tbody>\n</table>\n</div>"
     },
     "execution_count": 37,
     "metadata": {},
     "output_type": "execute_result"
    }
   ],
   "source": [
    "ticker.upgrades_downgrades"
   ],
   "metadata": {
    "collapsed": false,
    "ExecuteTime": {
     "end_time": "2024-02-25T05:07:42.312861Z",
     "start_time": "2024-02-25T05:07:41.075680Z"
    }
   },
   "id": "3907d705456d214",
   "execution_count": 37
  }
 ],
 "metadata": {
  "kernelspec": {
   "display_name": "Python 3",
   "language": "python",
   "name": "python3"
  },
  "language_info": {
   "codemirror_mode": {
    "name": "ipython",
    "version": 2
   },
   "file_extension": ".py",
   "mimetype": "text/x-python",
   "name": "python",
   "nbconvert_exporter": "python",
   "pygments_lexer": "ipython2",
   "version": "2.7.6"
  }
 },
 "nbformat": 4,
 "nbformat_minor": 5
}
