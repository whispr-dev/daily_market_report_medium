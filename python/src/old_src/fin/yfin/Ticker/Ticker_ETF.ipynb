{
 "cells": [
  {
   "cell_type": "code",
   "outputs": [],
   "source": [
    "import yfinance as yf\n",
    "import warnings\n",
    "warnings.filterwarnings(\"ignore\")\n",
    "ticker = yf.Ticker(\"GDX\")"
   ],
   "metadata": {
    "collapsed": false
   },
   "id": "initial_id",
   "execution_count": null
  },
  {
   "cell_type": "code",
   "outputs": [
    {
     "data": {
      "text/plain": "                           Dividends  Stock Splits  Capital Gains\nDate                                                             \n2006-12-21 00:00:00-05:00      0.115           0.0            0.0\n2007-12-24 00:00:00-05:00      0.745           0.0            0.0\n2009-12-23 00:00:00-05:00      0.111           0.0            0.0\n2010-12-23 00:00:00-05:00      0.401           0.0            0.0\n2011-12-23 00:00:00-05:00      0.150           0.0            0.0\n2012-12-24 00:00:00-05:00      0.462           0.0            0.0\n2013-12-23 00:00:00-05:00      0.191           0.0            0.0\n2014-12-22 00:00:00-05:00      0.121           0.0            0.0\n2015-12-21 00:00:00-05:00      0.116           0.0            0.0\n2016-12-19 00:00:00-05:00      0.055           0.0            0.0\n2017-12-18 00:00:00-05:00      0.176           0.0            0.0\n2018-12-20 00:00:00-05:00      0.105           0.0            0.0\n2019-12-23 00:00:00-05:00      0.191           0.0            0.0\n2020-12-21 00:00:00-05:00      0.190           0.0            0.0\n2021-12-20 00:00:00-05:00      0.535           0.0            0.0\n2022-12-19 00:00:00-05:00      0.476           0.0            0.0\n2023-12-18 00:00:00-05:00      0.500           0.0            0.0",
      "text/html": "<div>\n<style scoped>\n    .dataframe tbody tr th:only-of-type {\n        vertical-align: middle;\n    }\n\n    .dataframe tbody tr th {\n        vertical-align: top;\n    }\n\n    .dataframe thead th {\n        text-align: right;\n    }\n</style>\n<table border=\"1\" class=\"dataframe\">\n  <thead>\n    <tr style=\"text-align: right;\">\n      <th></th>\n      <th>Dividends</th>\n      <th>Stock Splits</th>\n      <th>Capital Gains</th>\n    </tr>\n    <tr>\n      <th>Date</th>\n      <th></th>\n      <th></th>\n      <th></th>\n    </tr>\n  </thead>\n  <tbody>\n    <tr>\n      <th>2006-12-21 00:00:00-05:00</th>\n      <td>0.115</td>\n      <td>0.0</td>\n      <td>0.0</td>\n    </tr>\n    <tr>\n      <th>2007-12-24 00:00:00-05:00</th>\n      <td>0.745</td>\n      <td>0.0</td>\n      <td>0.0</td>\n    </tr>\n    <tr>\n      <th>2009-12-23 00:00:00-05:00</th>\n      <td>0.111</td>\n      <td>0.0</td>\n      <td>0.0</td>\n    </tr>\n    <tr>\n      <th>2010-12-23 00:00:00-05:00</th>\n      <td>0.401</td>\n      <td>0.0</td>\n      <td>0.0</td>\n    </tr>\n    <tr>\n      <th>2011-12-23 00:00:00-05:00</th>\n      <td>0.150</td>\n      <td>0.0</td>\n      <td>0.0</td>\n    </tr>\n    <tr>\n      <th>2012-12-24 00:00:00-05:00</th>\n      <td>0.462</td>\n      <td>0.0</td>\n      <td>0.0</td>\n    </tr>\n    <tr>\n      <th>2013-12-23 00:00:00-05:00</th>\n      <td>0.191</td>\n      <td>0.0</td>\n      <td>0.0</td>\n    </tr>\n    <tr>\n      <th>2014-12-22 00:00:00-05:00</th>\n      <td>0.121</td>\n      <td>0.0</td>\n      <td>0.0</td>\n    </tr>\n    <tr>\n      <th>2015-12-21 00:00:00-05:00</th>\n      <td>0.116</td>\n      <td>0.0</td>\n      <td>0.0</td>\n    </tr>\n    <tr>\n      <th>2016-12-19 00:00:00-05:00</th>\n      <td>0.055</td>\n      <td>0.0</td>\n      <td>0.0</td>\n    </tr>\n    <tr>\n      <th>2017-12-18 00:00:00-05:00</th>\n      <td>0.176</td>\n      <td>0.0</td>\n      <td>0.0</td>\n    </tr>\n    <tr>\n      <th>2018-12-20 00:00:00-05:00</th>\n      <td>0.105</td>\n      <td>0.0</td>\n      <td>0.0</td>\n    </tr>\n    <tr>\n      <th>2019-12-23 00:00:00-05:00</th>\n      <td>0.191</td>\n      <td>0.0</td>\n      <td>0.0</td>\n    </tr>\n    <tr>\n      <th>2020-12-21 00:00:00-05:00</th>\n      <td>0.190</td>\n      <td>0.0</td>\n      <td>0.0</td>\n    </tr>\n    <tr>\n      <th>2021-12-20 00:00:00-05:00</th>\n      <td>0.535</td>\n      <td>0.0</td>\n      <td>0.0</td>\n    </tr>\n    <tr>\n      <th>2022-12-19 00:00:00-05:00</th>\n      <td>0.476</td>\n      <td>0.0</td>\n      <td>0.0</td>\n    </tr>\n    <tr>\n      <th>2023-12-18 00:00:00-05:00</th>\n      <td>0.500</td>\n      <td>0.0</td>\n      <td>0.0</td>\n    </tr>\n  </tbody>\n</table>\n</div>"
     },
     "execution_count": 2,
     "metadata": {},
     "output_type": "execute_result"
    }
   ],
   "source": [
    "ticker.actions"
   ],
   "metadata": {
    "collapsed": false,
    "ExecuteTime": {
     "end_time": "2024-02-25T05:13:29.192060Z",
     "start_time": "2024-02-25T05:13:28.017427Z"
    }
   },
   "id": "558848380450a5fe",
   "execution_count": 2
  },
  {
   "cell_type": "code",
   "outputs": [
    {
     "data": {
      "text/plain": "Empty DataFrame\nColumns: []\nIndex: []",
      "text/html": "<div>\n<style scoped>\n    .dataframe tbody tr th:only-of-type {\n        vertical-align: middle;\n    }\n\n    .dataframe tbody tr th {\n        vertical-align: top;\n    }\n\n    .dataframe thead th {\n        text-align: right;\n    }\n</style>\n<table border=\"1\" class=\"dataframe\">\n  <thead>\n    <tr style=\"text-align: right;\">\n      <th></th>\n    </tr>\n  </thead>\n  <tbody>\n  </tbody>\n</table>\n</div>"
     },
     "execution_count": 3,
     "metadata": {},
     "output_type": "execute_result"
    }
   ],
   "source": [
    "ticker.balancesheet"
   ],
   "metadata": {
    "collapsed": false,
    "ExecuteTime": {
     "end_time": "2024-02-25T05:13:29.545765Z",
     "start_time": "2024-02-25T05:13:29.240546Z"
    }
   },
   "id": "daba442b9ef26377",
   "execution_count": 3
  },
  {
   "cell_type": "code",
   "outputs": [
    {
     "data": {
      "text/plain": "lazy-loading dict with keys = ['currency', 'dayHigh', 'dayLow', 'exchange', 'fiftyDayAverage', 'lastPrice', 'lastVolume', 'marketCap', 'open', 'previousClose', 'quoteType', 'regularMarketPreviousClose', 'shares', 'tenDayAverageVolume', 'threeMonthAverageVolume', 'timezone', 'twoHundredDayAverage', 'yearChange', 'yearHigh', 'yearLow']"
     },
     "execution_count": 4,
     "metadata": {},
     "output_type": "execute_result"
    }
   ],
   "source": [
    "ticker.basic_info"
   ],
   "metadata": {
    "collapsed": false,
    "ExecuteTime": {
     "end_time": "2024-02-25T05:13:29.571082Z",
     "start_time": "2024-02-25T05:13:29.426847Z"
    }
   },
   "id": "fc4a3b263abf3fb8",
   "execution_count": 4
  },
  {
   "cell_type": "code",
   "outputs": [
    {
     "name": "stderr",
     "output_type": "stream",
     "text": [
      "404 Client Error: Not Found for url: https://query2.finance.yahoo.com/v10/finance/quoteSummary/GDX?modules=calendarEvents&corsDomain=finance.yahoo.com&formatted=false&symbol=GDX&crumb=1jKF%2F5NCvcT\n"
     ]
    },
    {
     "data": {
      "text/plain": "{}"
     },
     "execution_count": 5,
     "metadata": {},
     "output_type": "execute_result"
    }
   ],
   "source": [
    "ticker.calendar"
   ],
   "metadata": {
    "collapsed": false,
    "ExecuteTime": {
     "end_time": "2024-02-25T05:13:30.837965Z",
     "start_time": "2024-02-25T05:13:29.447559Z"
    }
   },
   "id": "8d41af89a946bba9",
   "execution_count": 5
  },
  {
   "cell_type": "code",
   "outputs": [
    {
     "data": {
      "text/plain": "Series([], Name: Capital Gains, dtype: float64)"
     },
     "execution_count": 6,
     "metadata": {},
     "output_type": "execute_result"
    }
   ],
   "source": [
    "ticker.capital_gains"
   ],
   "metadata": {
    "collapsed": false,
    "ExecuteTime": {
     "end_time": "2024-02-25T05:13:30.911348Z",
     "start_time": "2024-02-25T05:13:30.799253Z"
    }
   },
   "id": "3736b0643b60f0fa",
   "execution_count": 6
  },
  {
   "cell_type": "code",
   "outputs": [
    {
     "data": {
      "text/plain": "Empty DataFrame\nColumns: []\nIndex: []",
      "text/html": "<div>\n<style scoped>\n    .dataframe tbody tr th:only-of-type {\n        vertical-align: middle;\n    }\n\n    .dataframe tbody tr th {\n        vertical-align: top;\n    }\n\n    .dataframe thead th {\n        text-align: right;\n    }\n</style>\n<table border=\"1\" class=\"dataframe\">\n  <thead>\n    <tr style=\"text-align: right;\">\n      <th></th>\n    </tr>\n  </thead>\n  <tbody>\n  </tbody>\n</table>\n</div>"
     },
     "execution_count": 7,
     "metadata": {},
     "output_type": "execute_result"
    }
   ],
   "source": [
    "ticker.cash_flow"
   ],
   "metadata": {
    "collapsed": false,
    "ExecuteTime": {
     "end_time": "2024-02-25T05:13:31.016282Z",
     "start_time": "2024-02-25T05:13:30.824747Z"
    }
   },
   "id": "abec763171250ca1",
   "execution_count": 7
  },
  {
   "cell_type": "code",
   "outputs": [
    {
     "data": {
      "text/plain": "Empty DataFrame\nColumns: []\nIndex: []",
      "text/html": "<div>\n<style scoped>\n    .dataframe tbody tr th:only-of-type {\n        vertical-align: middle;\n    }\n\n    .dataframe tbody tr th {\n        vertical-align: top;\n    }\n\n    .dataframe thead th {\n        text-align: right;\n    }\n</style>\n<table border=\"1\" class=\"dataframe\">\n  <thead>\n    <tr style=\"text-align: right;\">\n      <th></th>\n    </tr>\n  </thead>\n  <tbody>\n  </tbody>\n</table>\n</div>"
     },
     "execution_count": 8,
     "metadata": {},
     "output_type": "execute_result"
    }
   ],
   "source": [
    "ticker.cashflow"
   ],
   "metadata": {
    "collapsed": false,
    "ExecuteTime": {
     "end_time": "2024-02-25T05:13:31.057624Z",
     "start_time": "2024-02-25T05:13:30.967345Z"
    }
   },
   "id": "a42a8c91741bff6e",
   "execution_count": 8
  },
  {
   "cell_type": "code",
   "outputs": [
    {
     "data": {
      "text/plain": "Date\n2006-12-21 00:00:00-05:00    0.115\n2007-12-24 00:00:00-05:00    0.745\n2009-12-23 00:00:00-05:00    0.111\n2010-12-23 00:00:00-05:00    0.401\n2011-12-23 00:00:00-05:00    0.150\n2012-12-24 00:00:00-05:00    0.462\n2013-12-23 00:00:00-05:00    0.191\n2014-12-22 00:00:00-05:00    0.121\n2015-12-21 00:00:00-05:00    0.116\n2016-12-19 00:00:00-05:00    0.055\n2017-12-18 00:00:00-05:00    0.176\n2018-12-20 00:00:00-05:00    0.105\n2019-12-23 00:00:00-05:00    0.191\n2020-12-21 00:00:00-05:00    0.190\n2021-12-20 00:00:00-05:00    0.535\n2022-12-19 00:00:00-05:00    0.476\n2023-12-18 00:00:00-05:00    0.500\nName: Dividends, dtype: float64"
     },
     "execution_count": 9,
     "metadata": {},
     "output_type": "execute_result"
    }
   ],
   "source": [
    "ticker.dividends"
   ],
   "metadata": {
    "collapsed": false,
    "ExecuteTime": {
     "end_time": "2024-02-25T05:13:31.186257Z",
     "start_time": "2024-02-25T05:13:31.021202Z"
    }
   },
   "id": "b5e83e81dd048b3",
   "execution_count": 9
  },
  {
   "cell_type": "code",
   "outputs": [
    {
     "name": "stderr",
     "output_type": "stream",
     "text": [
      "GDX: No earnings dates found, symbol may be delisted\n"
     ]
    }
   ],
   "source": [
    "ticker.earnings_dates"
   ],
   "metadata": {
    "collapsed": false,
    "ExecuteTime": {
     "end_time": "2024-02-25T05:13:33.035488Z",
     "start_time": "2024-02-25T05:13:31.054119Z"
    }
   },
   "id": "3a291fdd2f656410",
   "execution_count": 10
  },
  {
   "cell_type": "code",
   "outputs": [
    {
     "data": {
      "text/plain": "lazy-loading dict with keys = ['currency', 'dayHigh', 'dayLow', 'exchange', 'fiftyDayAverage', 'lastPrice', 'lastVolume', 'marketCap', 'open', 'previousClose', 'quoteType', 'regularMarketPreviousClose', 'shares', 'tenDayAverageVolume', 'threeMonthAverageVolume', 'timezone', 'twoHundredDayAverage', 'yearChange', 'yearHigh', 'yearLow']"
     },
     "execution_count": 11,
     "metadata": {},
     "output_type": "execute_result"
    }
   ],
   "source": [
    "ticker.fast_info"
   ],
   "metadata": {
    "collapsed": false,
    "ExecuteTime": {
     "end_time": "2024-02-25T05:13:33.069986Z",
     "start_time": "2024-02-25T05:13:33.026605Z"
    }
   },
   "id": "3836d94dd4c0a59e",
   "execution_count": 11
  },
  {
   "cell_type": "code",
   "outputs": [
    {
     "data": {
      "text/plain": "Empty DataFrame\nColumns: []\nIndex: []",
      "text/html": "<div>\n<style scoped>\n    .dataframe tbody tr th:only-of-type {\n        vertical-align: middle;\n    }\n\n    .dataframe tbody tr th {\n        vertical-align: top;\n    }\n\n    .dataframe thead th {\n        text-align: right;\n    }\n</style>\n<table border=\"1\" class=\"dataframe\">\n  <thead>\n    <tr style=\"text-align: right;\">\n      <th></th>\n    </tr>\n  </thead>\n  <tbody>\n  </tbody>\n</table>\n</div>"
     },
     "execution_count": 12,
     "metadata": {},
     "output_type": "execute_result"
    }
   ],
   "source": [
    "ticker.financials"
   ],
   "metadata": {
    "collapsed": false,
    "ExecuteTime": {
     "end_time": "2024-02-25T05:13:33.242659Z",
     "start_time": "2024-02-25T05:13:33.049283Z"
    }
   },
   "id": "b3a0f14653c2cb03",
   "execution_count": 12
  },
  {
   "cell_type": "code",
   "outputs": [
    {
     "data": {
      "text/plain": "<bound method log_indent_decorator.<locals>.wrapper of yfinance.Ticker object <GDX>>"
     },
     "execution_count": 13,
     "metadata": {},
     "output_type": "execute_result"
    }
   ],
   "source": [
    "ticker.history"
   ],
   "metadata": {
    "collapsed": false,
    "ExecuteTime": {
     "end_time": "2024-02-25T05:13:33.244543Z",
     "start_time": "2024-02-25T05:13:33.196908Z"
    }
   },
   "id": "c5035bef21d7dcaa",
   "execution_count": 13
  },
  {
   "cell_type": "code",
   "outputs": [
    {
     "data": {
      "text/plain": "{'currency': 'USD',\n 'symbol': 'GDX',\n 'exchangeName': 'PCX',\n 'instrumentType': 'ETF',\n 'firstTradeDate': 1148304600,\n 'regularMarketTime': 1708722000,\n 'hasPrePostMarketData': True,\n 'gmtoffset': -18000,\n 'timezone': 'EST',\n 'exchangeTimezoneName': 'America/New_York',\n 'regularMarketPrice': 26.66,\n 'chartPreviousClose': 37.23,\n 'priceHint': 2,\n 'currentTradingPeriod': {'pre': {'timezone': 'EST',\n   'start': 1708678800,\n   'end': 1708698600,\n   'gmtoffset': -18000},\n  'regular': {'timezone': 'EST',\n   'start': 1708698600,\n   'end': 1708722000,\n   'gmtoffset': -18000},\n  'post': {'timezone': 'EST',\n   'start': 1708722000,\n   'end': 1708736400,\n   'gmtoffset': -18000}},\n 'dataGranularity': '1d',\n 'range': '',\n 'validRanges': ['1d',\n  '5d',\n  '1mo',\n  '3mo',\n  '6mo',\n  '1y',\n  '2y',\n  '5y',\n  '10y',\n  'ytd',\n  'max']}"
     },
     "execution_count": 14,
     "metadata": {},
     "output_type": "execute_result"
    }
   ],
   "source": [
    "ticker.history_metadata"
   ],
   "metadata": {
    "collapsed": false,
    "ExecuteTime": {
     "end_time": "2024-02-25T05:13:33.314257Z",
     "start_time": "2024-02-25T05:13:33.222363Z"
    }
   },
   "id": "644d53f6b63c977b",
   "execution_count": 14
  },
  {
   "cell_type": "code",
   "outputs": [
    {
     "data": {
      "text/plain": "Empty DataFrame\nColumns: []\nIndex: []",
      "text/html": "<div>\n<style scoped>\n    .dataframe tbody tr th:only-of-type {\n        vertical-align: middle;\n    }\n\n    .dataframe tbody tr th {\n        vertical-align: top;\n    }\n\n    .dataframe thead th {\n        text-align: right;\n    }\n</style>\n<table border=\"1\" class=\"dataframe\">\n  <thead>\n    <tr style=\"text-align: right;\">\n      <th></th>\n    </tr>\n  </thead>\n  <tbody>\n  </tbody>\n</table>\n</div>"
     },
     "execution_count": 15,
     "metadata": {},
     "output_type": "execute_result"
    }
   ],
   "source": [
    "ticker.incomestmt"
   ],
   "metadata": {
    "collapsed": false,
    "ExecuteTime": {
     "end_time": "2024-02-25T05:13:33.349493Z",
     "start_time": "2024-02-25T05:13:33.247420Z"
    }
   },
   "id": "56e4d6a802a728d0",
   "execution_count": 15
  },
  {
   "cell_type": "code",
   "outputs": [
    {
     "data": {
      "text/plain": "{'phone': '888-658-8287',\n 'longBusinessSummary': 'The fund normally invests at least 80% of its total assets in common stocks and depositary receipts of companies involved in the gold mining industry. The index is a modified market-capitalization weighted index primarily comprised of publicly traded companies involved in the mining for gold and silver. The fund is non-diversified.',\n 'maxAge': 86400,\n 'priceHint': 2,\n 'previousClose': 26.16,\n 'open': 26.25,\n 'dayLow': 26.01,\n 'dayHigh': 26.76,\n 'regularMarketPreviousClose': 26.16,\n 'regularMarketOpen': 26.25,\n 'regularMarketDayLow': 26.01,\n 'regularMarketDayHigh': 26.76,\n 'trailingPE': 22.424795,\n 'volume': 27092899,\n 'regularMarketVolume': 27092899,\n 'averageVolume': 23718768,\n 'averageVolume10days': 25275600,\n 'averageDailyVolume10Day': 25275600,\n 'bid': 26.63,\n 'ask': 26.75,\n 'bidSize': 36900,\n 'askSize': 27000,\n 'yield': 0.0178,\n 'totalAssets': 11611704320,\n 'fiftyTwoWeekLow': 25.62,\n 'fiftyTwoWeekHigh': 36.26,\n 'fiftyDayAverage': 28.7768,\n 'twoHundredDayAverage': 29.48815,\n 'navPrice': 26.61,\n 'currency': 'USD',\n 'category': 'Equity Precious Metals',\n 'ytdReturn': -0.1402773,\n 'beta3Year': 0.98,\n 'fundFamily': 'VanEck',\n 'fundInceptionDate': 1147737600,\n 'legalType': 'Exchange Traded Fund',\n 'threeYearAverageReturn': -0.0569928,\n 'fiveYearAverageReturn': 0.0424058,\n 'exchange': 'PCX',\n 'quoteType': 'ETF',\n 'symbol': 'GDX',\n 'underlyingSymbol': 'GDX',\n 'shortName': 'VanEck Gold Miners ETF',\n 'longName': 'VanEck Gold Miners ETF',\n 'firstTradeDateEpochUtc': 1148304600,\n 'timeZoneFullName': 'America/New_York',\n 'timeZoneShortName': 'EST',\n 'uuid': '355e316b-9fa5-36ae-84d0-932a2eadb4e6',\n 'messageBoardId': 'finmb_27307407',\n 'gmtOffSetMilliseconds': -18000000,\n 'trailingPegRatio': None}"
     },
     "execution_count": 16,
     "metadata": {},
     "output_type": "execute_result"
    }
   ],
   "source": [
    "ticker.info"
   ],
   "metadata": {
    "collapsed": false,
    "ExecuteTime": {
     "end_time": "2024-02-25T05:13:33.620117Z",
     "start_time": "2024-02-25T05:13:33.261257Z"
    }
   },
   "id": "f3322e876e80ab61",
   "execution_count": 16
  },
  {
   "cell_type": "code",
   "outputs": [
    {
     "name": "stderr",
     "output_type": "stream",
     "text": [
      "404 Client Error: Not Found for url: https://query2.finance.yahoo.com/v10/finance/quoteSummary/?modules=institutionOwnership%2CfundOwnership%2CmajorDirectHolders%2CmajorHoldersBreakdown%2CinsiderTransactions%2CinsiderHolders%2CnetSharePurchaseActivity&corsDomain=finance.yahoo.com&symbol=GDX&formatted=false&crumb=1jKF%2F5NCvcT\n"
     ]
    },
    {
     "data": {
      "text/plain": "Empty DataFrame\nColumns: []\nIndex: []",
      "text/html": "<div>\n<style scoped>\n    .dataframe tbody tr th:only-of-type {\n        vertical-align: middle;\n    }\n\n    .dataframe tbody tr th {\n        vertical-align: top;\n    }\n\n    .dataframe thead th {\n        text-align: right;\n    }\n</style>\n<table border=\"1\" class=\"dataframe\">\n  <thead>\n    <tr style=\"text-align: right;\">\n      <th></th>\n    </tr>\n  </thead>\n  <tbody>\n  </tbody>\n</table>\n</div>"
     },
     "execution_count": 17,
     "metadata": {},
     "output_type": "execute_result"
    }
   ],
   "source": [
    "ticker.insider_purchases"
   ],
   "metadata": {
    "collapsed": false,
    "ExecuteTime": {
     "end_time": "2024-02-25T05:13:34.545376Z",
     "start_time": "2024-02-25T05:13:33.492692Z"
    }
   },
   "id": "78080c6c2177c93d",
   "execution_count": 17
  },
  {
   "cell_type": "code",
   "outputs": [
    {
     "data": {
      "text/plain": "Empty DataFrame\nColumns: []\nIndex: []",
      "text/html": "<div>\n<style scoped>\n    .dataframe tbody tr th:only-of-type {\n        vertical-align: middle;\n    }\n\n    .dataframe tbody tr th {\n        vertical-align: top;\n    }\n\n    .dataframe thead th {\n        text-align: right;\n    }\n</style>\n<table border=\"1\" class=\"dataframe\">\n  <thead>\n    <tr style=\"text-align: right;\">\n      <th></th>\n    </tr>\n  </thead>\n  <tbody>\n  </tbody>\n</table>\n</div>"
     },
     "execution_count": 18,
     "metadata": {},
     "output_type": "execute_result"
    }
   ],
   "source": [
    "ticker.insider_roster_holders"
   ],
   "metadata": {
    "collapsed": false,
    "ExecuteTime": {
     "end_time": "2024-02-25T05:13:34.620166Z",
     "start_time": "2024-02-25T05:13:34.544496Z"
    }
   },
   "id": "1be2c76c70972ace",
   "execution_count": 18
  },
  {
   "cell_type": "code",
   "outputs": [
    {
     "data": {
      "text/plain": "Empty DataFrame\nColumns: []\nIndex: []",
      "text/html": "<div>\n<style scoped>\n    .dataframe tbody tr th:only-of-type {\n        vertical-align: middle;\n    }\n\n    .dataframe tbody tr th {\n        vertical-align: top;\n    }\n\n    .dataframe thead th {\n        text-align: right;\n    }\n</style>\n<table border=\"1\" class=\"dataframe\">\n  <thead>\n    <tr style=\"text-align: right;\">\n      <th></th>\n    </tr>\n  </thead>\n  <tbody>\n  </tbody>\n</table>\n</div>"
     },
     "execution_count": 19,
     "metadata": {},
     "output_type": "execute_result"
    }
   ],
   "source": [
    "ticker.insider_transactions"
   ],
   "metadata": {
    "collapsed": false,
    "ExecuteTime": {
     "end_time": "2024-02-25T05:13:34.646680Z",
     "start_time": "2024-02-25T05:13:34.563092Z"
    }
   },
   "id": "15e7e0a616f903",
   "execution_count": 19
  },
  {
   "cell_type": "code",
   "outputs": [
    {
     "data": {
      "text/plain": "Empty DataFrame\nColumns: []\nIndex: []",
      "text/html": "<div>\n<style scoped>\n    .dataframe tbody tr th:only-of-type {\n        vertical-align: middle;\n    }\n\n    .dataframe tbody tr th {\n        vertical-align: top;\n    }\n\n    .dataframe thead th {\n        text-align: right;\n    }\n</style>\n<table border=\"1\" class=\"dataframe\">\n  <thead>\n    <tr style=\"text-align: right;\">\n      <th></th>\n    </tr>\n  </thead>\n  <tbody>\n  </tbody>\n</table>\n</div>"
     },
     "execution_count": 20,
     "metadata": {},
     "output_type": "execute_result"
    }
   ],
   "source": [
    "ticker.institutional_holders"
   ],
   "metadata": {
    "collapsed": false,
    "ExecuteTime": {
     "end_time": "2024-02-25T05:13:34.803414Z",
     "start_time": "2024-02-25T05:13:34.586232Z"
    }
   },
   "id": "435880510de7ba8c",
   "execution_count": 20
  },
  {
   "cell_type": "code",
   "outputs": [
    {
     "data": {
      "text/plain": "Empty DataFrame\nColumns: []\nIndex: []",
      "text/html": "<div>\n<style scoped>\n    .dataframe tbody tr th:only-of-type {\n        vertical-align: middle;\n    }\n\n    .dataframe tbody tr th {\n        vertical-align: top;\n    }\n\n    .dataframe thead th {\n        text-align: right;\n    }\n</style>\n<table border=\"1\" class=\"dataframe\">\n  <thead>\n    <tr style=\"text-align: right;\">\n      <th></th>\n    </tr>\n  </thead>\n  <tbody>\n  </tbody>\n</table>\n</div>"
     },
     "execution_count": 21,
     "metadata": {},
     "output_type": "execute_result"
    }
   ],
   "source": [
    "ticker.major_holders"
   ],
   "metadata": {
    "collapsed": false,
    "ExecuteTime": {
     "end_time": "2024-02-25T05:13:34.847758Z",
     "start_time": "2024-02-25T05:13:34.609323Z"
    }
   },
   "id": "641e4cf4a7289087",
   "execution_count": 21
  },
  {
   "cell_type": "code",
   "outputs": [
    {
     "data": {
      "text/plain": "Empty DataFrame\nColumns: []\nIndex: []",
      "text/html": "<div>\n<style scoped>\n    .dataframe tbody tr th:only-of-type {\n        vertical-align: middle;\n    }\n\n    .dataframe tbody tr th {\n        vertical-align: top;\n    }\n\n    .dataframe thead th {\n        text-align: right;\n    }\n</style>\n<table border=\"1\" class=\"dataframe\">\n  <thead>\n    <tr style=\"text-align: right;\">\n      <th></th>\n    </tr>\n  </thead>\n  <tbody>\n  </tbody>\n</table>\n</div>"
     },
     "execution_count": 22,
     "metadata": {},
     "output_type": "execute_result"
    }
   ],
   "source": [
    "ticker.mutualfund_holders"
   ],
   "metadata": {
    "collapsed": false,
    "ExecuteTime": {
     "end_time": "2024-02-25T05:13:34.873092Z",
     "start_time": "2024-02-25T05:13:34.616416Z"
    }
   },
   "id": "a3c295bba8e73b44",
   "execution_count": 22
  },
  {
   "cell_type": "code",
   "outputs": [
    {
     "data": {
      "text/plain": "[{'uuid': '2cf1329d-c24a-3c47-b6db-b77318af77db',\n  'title': 'YieldMax GDXY Name Change',\n  'publisher': 'GlobeNewswire',\n  'link': 'https://finance.yahoo.com/news/yieldmax-gdxy-name-change-162200963.html',\n  'providerPublishTime': 1706199720,\n  'type': 'STORY',\n  'thumbnail': {'resolutions': [{'url': 'https://s.yimg.com/uu/api/res/1.2/74R_KTXJo5sZxuKIIRECFQ--~B/aD0xMDk7dz0xOTY7YXBwaWQ9eXRhY2h5b24-/https://media.zenfs.com/en/globenewswire.com/ffe9113a2cdec53fe396ad8f453b27db',\n     'width': 196,\n     'height': 109,\n     'tag': 'original'},\n    {'url': 'https://s.yimg.com/uu/api/res/1.2/FcY.Q_knmcatMy.VKO.W3Q--~B/Zmk9ZmlsbDtoPTE0MDtweW9mZj0wO3c9MTQwO2FwcGlkPXl0YWNoeW9u/https://media.zenfs.com/en/globenewswire.com/ffe9113a2cdec53fe396ad8f453b27db',\n     'width': 140,\n     'height': 140,\n     'tag': '140x140'}]},\n  'relatedTickers': ['GDX']}]"
     },
     "execution_count": 23,
     "metadata": {},
     "output_type": "execute_result"
    }
   ],
   "source": [
    "ticker.news"
   ],
   "metadata": {
    "collapsed": false,
    "ExecuteTime": {
     "end_time": "2024-02-25T05:13:34.944345Z",
     "start_time": "2024-02-25T05:13:34.637592Z"
    }
   },
   "id": "e74d13d3a7a95624",
   "execution_count": 23
  },
  {
   "cell_type": "code",
   "outputs": [
    {
     "data": {
      "text/plain": "<bound method Ticker.option_chain of yfinance.Ticker object <GDX>>"
     },
     "execution_count": 24,
     "metadata": {},
     "output_type": "execute_result"
    }
   ],
   "source": [
    "ticker.option_chain"
   ],
   "metadata": {
    "collapsed": false,
    "ExecuteTime": {
     "end_time": "2024-02-25T05:13:34.945670Z",
     "start_time": "2024-02-25T05:13:34.787125Z"
    }
   },
   "id": "637b59c7b2897cab",
   "execution_count": 24
  },
  {
   "cell_type": "code",
   "outputs": [
    {
     "data": {
      "text/plain": "('2024-03-01',\n '2024-03-08',\n '2024-03-15',\n '2024-03-22',\n '2024-03-28',\n '2024-04-05',\n '2024-04-19',\n '2024-05-17',\n '2024-06-21',\n '2024-08-16',\n '2024-09-20',\n '2025-01-17',\n '2025-06-20',\n '2025-12-19',\n '2026-01-16',\n '2026-06-18',\n '2026-12-18')"
     },
     "execution_count": 25,
     "metadata": {},
     "output_type": "execute_result"
    }
   ],
   "source": [
    "ticker.options"
   ],
   "metadata": {
    "collapsed": false,
    "ExecuteTime": {
     "end_time": "2024-02-25T05:13:35.193425Z",
     "start_time": "2024-02-25T05:13:34.796103Z"
    }
   },
   "id": "55ee5c46442c4ddc",
   "execution_count": 25
  },
  {
   "cell_type": "code",
   "outputs": [],
   "source": [
    "ticker.proxy"
   ],
   "metadata": {
    "collapsed": false,
    "ExecuteTime": {
     "end_time": "2024-02-25T05:13:35.194635Z",
     "start_time": "2024-02-25T05:13:34.907354Z"
    }
   },
   "id": "8d078e678c3438d7",
   "execution_count": 26
  },
  {
   "cell_type": "code",
   "outputs": [
    {
     "data": {
      "text/plain": "Empty DataFrame\nColumns: []\nIndex: []",
      "text/html": "<div>\n<style scoped>\n    .dataframe tbody tr th:only-of-type {\n        vertical-align: middle;\n    }\n\n    .dataframe tbody tr th {\n        vertical-align: top;\n    }\n\n    .dataframe thead th {\n        text-align: right;\n    }\n</style>\n<table border=\"1\" class=\"dataframe\">\n  <thead>\n    <tr style=\"text-align: right;\">\n      <th></th>\n    </tr>\n  </thead>\n  <tbody>\n  </tbody>\n</table>\n</div>"
     },
     "execution_count": 27,
     "metadata": {},
     "output_type": "execute_result"
    }
   ],
   "source": [
    "ticker.quarterly_balancesheet"
   ],
   "metadata": {
    "collapsed": false,
    "ExecuteTime": {
     "end_time": "2024-02-25T05:13:35.276181Z",
     "start_time": "2024-02-25T05:13:34.918930Z"
    }
   },
   "id": "24e12e28686fab4a",
   "execution_count": 27
  },
  {
   "cell_type": "code",
   "outputs": [
    {
     "data": {
      "text/plain": "Empty DataFrame\nColumns: []\nIndex: []",
      "text/html": "<div>\n<style scoped>\n    .dataframe tbody tr th:only-of-type {\n        vertical-align: middle;\n    }\n\n    .dataframe tbody tr th {\n        vertical-align: top;\n    }\n\n    .dataframe thead th {\n        text-align: right;\n    }\n</style>\n<table border=\"1\" class=\"dataframe\">\n  <thead>\n    <tr style=\"text-align: right;\">\n      <th></th>\n    </tr>\n  </thead>\n  <tbody>\n  </tbody>\n</table>\n</div>"
     },
     "execution_count": 28,
     "metadata": {},
     "output_type": "execute_result"
    }
   ],
   "source": [
    "ticker.quarterly_cash_flow"
   ],
   "metadata": {
    "collapsed": false,
    "ExecuteTime": {
     "end_time": "2024-02-25T05:13:35.606990Z",
     "start_time": "2024-02-25T05:13:35.084335Z"
    }
   },
   "id": "c25e85ebad151f29",
   "execution_count": 28
  },
  {
   "cell_type": "code",
   "outputs": [
    {
     "data": {
      "text/plain": "Empty DataFrame\nColumns: []\nIndex: []",
      "text/html": "<div>\n<style scoped>\n    .dataframe tbody tr th:only-of-type {\n        vertical-align: middle;\n    }\n\n    .dataframe tbody tr th {\n        vertical-align: top;\n    }\n\n    .dataframe thead th {\n        text-align: right;\n    }\n</style>\n<table border=\"1\" class=\"dataframe\">\n  <thead>\n    <tr style=\"text-align: right;\">\n      <th></th>\n    </tr>\n  </thead>\n  <tbody>\n  </tbody>\n</table>\n</div>"
     },
     "execution_count": 29,
     "metadata": {},
     "output_type": "execute_result"
    }
   ],
   "source": [
    "ticker.quarterly_cashflow"
   ],
   "metadata": {
    "collapsed": false,
    "ExecuteTime": {
     "end_time": "2024-02-25T05:13:35.608819Z",
     "start_time": "2024-02-25T05:13:35.241373Z"
    }
   },
   "id": "2b49f4179028b531",
   "execution_count": 29
  },
  {
   "cell_type": "code",
   "outputs": [
    {
     "data": {
      "text/plain": "Empty DataFrame\nColumns: []\nIndex: []",
      "text/html": "<div>\n<style scoped>\n    .dataframe tbody tr th:only-of-type {\n        vertical-align: middle;\n    }\n\n    .dataframe tbody tr th {\n        vertical-align: top;\n    }\n\n    .dataframe thead th {\n        text-align: right;\n    }\n</style>\n<table border=\"1\" class=\"dataframe\">\n  <thead>\n    <tr style=\"text-align: right;\">\n      <th></th>\n    </tr>\n  </thead>\n  <tbody>\n  </tbody>\n</table>\n</div>"
     },
     "execution_count": 30,
     "metadata": {},
     "output_type": "execute_result"
    }
   ],
   "source": [
    "ticker.quarterly_financials"
   ],
   "metadata": {
    "collapsed": false,
    "ExecuteTime": {
     "end_time": "2024-02-25T05:13:35.703474Z",
     "start_time": "2024-02-25T05:13:35.256215Z"
    }
   },
   "id": "d74d6228bc94c221",
   "execution_count": 30
  },
  {
   "cell_type": "code",
   "outputs": [
    {
     "data": {
      "text/plain": "Empty DataFrame\nColumns: []\nIndex: []",
      "text/html": "<div>\n<style scoped>\n    .dataframe tbody tr th:only-of-type {\n        vertical-align: middle;\n    }\n\n    .dataframe tbody tr th {\n        vertical-align: top;\n    }\n\n    .dataframe thead th {\n        text-align: right;\n    }\n</style>\n<table border=\"1\" class=\"dataframe\">\n  <thead>\n    <tr style=\"text-align: right;\">\n      <th></th>\n    </tr>\n  </thead>\n  <tbody>\n  </tbody>\n</table>\n</div>"
     },
     "execution_count": 31,
     "metadata": {},
     "output_type": "execute_result"
    }
   ],
   "source": [
    "ticker.quarterly_incomestmt"
   ],
   "metadata": {
    "collapsed": false,
    "ExecuteTime": {
     "end_time": "2024-02-25T05:13:35.705882Z",
     "start_time": "2024-02-25T05:13:35.395921Z"
    }
   },
   "id": "cc7659ceb07cb49b",
   "execution_count": 31
  },
  {
   "cell_type": "code",
   "outputs": [
    {
     "name": "stderr",
     "output_type": "stream",
     "text": [
      "404 Client Error: Not Found for url: https://query2.finance.yahoo.com/v10/finance/quoteSummary/GDX?modules=recommendationTrend&corsDomain=finance.yahoo.com&formatted=false&symbol=GDX&crumb=1jKF%2F5NCvcT\n"
     ]
    },
    {
     "data": {
      "text/plain": "Empty DataFrame\nColumns: []\nIndex: []",
      "text/html": "<div>\n<style scoped>\n    .dataframe tbody tr th:only-of-type {\n        vertical-align: middle;\n    }\n\n    .dataframe tbody tr th {\n        vertical-align: top;\n    }\n\n    .dataframe thead th {\n        text-align: right;\n    }\n</style>\n<table border=\"1\" class=\"dataframe\">\n  <thead>\n    <tr style=\"text-align: right;\">\n      <th></th>\n    </tr>\n  </thead>\n  <tbody>\n  </tbody>\n</table>\n</div>"
     },
     "execution_count": 32,
     "metadata": {},
     "output_type": "execute_result"
    }
   ],
   "source": [
    "ticker.recommendations"
   ],
   "metadata": {
    "collapsed": false,
    "ExecuteTime": {
     "end_time": "2024-02-25T05:13:36.514331Z",
     "start_time": "2024-02-25T05:13:35.408721Z"
    }
   },
   "id": "65f0f63fd385b3b",
   "execution_count": 32
  },
  {
   "cell_type": "code",
   "outputs": [
    {
     "data": {
      "text/plain": "Empty DataFrame\nColumns: []\nIndex: []",
      "text/html": "<div>\n<style scoped>\n    .dataframe tbody tr th:only-of-type {\n        vertical-align: middle;\n    }\n\n    .dataframe tbody tr th {\n        vertical-align: top;\n    }\n\n    .dataframe thead th {\n        text-align: right;\n    }\n</style>\n<table border=\"1\" class=\"dataframe\">\n  <thead>\n    <tr style=\"text-align: right;\">\n      <th></th>\n    </tr>\n  </thead>\n  <tbody>\n  </tbody>\n</table>\n</div>"
     },
     "execution_count": 33,
     "metadata": {},
     "output_type": "execute_result"
    }
   ],
   "source": [
    "ticker.recommendations_summary"
   ],
   "metadata": {
    "collapsed": false,
    "ExecuteTime": {
     "end_time": "2024-02-25T05:13:36.518777Z",
     "start_time": "2024-02-25T05:13:36.464388Z"
    }
   },
   "id": "4cd3330f99e997ab",
   "execution_count": 33
  },
  {
   "cell_type": "code",
   "outputs": [],
   "source": [
    "ticker.session"
   ],
   "metadata": {
    "collapsed": false,
    "ExecuteTime": {
     "end_time": "2024-02-25T05:13:36.585445Z",
     "start_time": "2024-02-25T05:13:36.480663Z"
    }
   },
   "id": "758858f98b73fa59",
   "execution_count": 34
  },
  {
   "cell_type": "code",
   "outputs": [
    {
     "data": {
      "text/plain": "Series([], Name: Stock Splits, dtype: float64)"
     },
     "execution_count": 35,
     "metadata": {},
     "output_type": "execute_result"
    }
   ],
   "source": [
    "ticker.splits"
   ],
   "metadata": {
    "collapsed": false,
    "ExecuteTime": {
     "end_time": "2024-02-25T05:13:36.587251Z",
     "start_time": "2024-02-25T05:13:36.492774Z"
    }
   },
   "id": "c5dc5709c4a7df99",
   "execution_count": 35
  },
  {
   "cell_type": "code",
   "outputs": [
    {
     "data": {
      "text/plain": "'GDX'"
     },
     "execution_count": 36,
     "metadata": {},
     "output_type": "execute_result"
    }
   ],
   "source": [
    "ticker.ticker"
   ],
   "metadata": {
    "collapsed": false,
    "ExecuteTime": {
     "end_time": "2024-02-25T05:13:36.630680Z",
     "start_time": "2024-02-25T05:13:36.507180Z"
    }
   },
   "id": "63b8a4e802e6b02",
   "execution_count": 36
  },
  {
   "cell_type": "code",
   "outputs": [
    {
     "name": "stderr",
     "output_type": "stream",
     "text": [
      "404 Client Error: Not Found for url: https://query2.finance.yahoo.com/v10/finance/quoteSummary/GDX?modules=upgradeDowngradeHistory&corsDomain=finance.yahoo.com&formatted=false&symbol=GDX&crumb=1jKF%2F5NCvcT\n"
     ]
    },
    {
     "data": {
      "text/plain": "Empty DataFrame\nColumns: []\nIndex: []",
      "text/html": "<div>\n<style scoped>\n    .dataframe tbody tr th:only-of-type {\n        vertical-align: middle;\n    }\n\n    .dataframe tbody tr th {\n        vertical-align: top;\n    }\n\n    .dataframe thead th {\n        text-align: right;\n    }\n</style>\n<table border=\"1\" class=\"dataframe\">\n  <thead>\n    <tr style=\"text-align: right;\">\n      <th></th>\n    </tr>\n  </thead>\n  <tbody>\n  </tbody>\n</table>\n</div>"
     },
     "execution_count": 37,
     "metadata": {},
     "output_type": "execute_result"
    }
   ],
   "source": [
    "ticker.upgrades_downgrades"
   ],
   "metadata": {
    "collapsed": false,
    "ExecuteTime": {
     "end_time": "2024-02-25T05:13:37.517807Z",
     "start_time": "2024-02-25T05:13:36.526699Z"
    }
   },
   "id": "3907d705456d214",
   "execution_count": 37
  }
 ],
 "metadata": {
  "kernelspec": {
   "display_name": "Python 3",
   "language": "python",
   "name": "python3"
  },
  "language_info": {
   "codemirror_mode": {
    "name": "ipython",
    "version": 2
   },
   "file_extension": ".py",
   "mimetype": "text/x-python",
   "name": "python",
   "nbconvert_exporter": "python",
   "pygments_lexer": "ipython2",
   "version": "2.7.6"
  }
 },
 "nbformat": 4,
 "nbformat_minor": 5
}
