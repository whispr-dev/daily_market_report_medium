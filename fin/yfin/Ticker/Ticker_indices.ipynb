{
 "cells": [
  {
   "cell_type": "code",
   "outputs": [],
   "source": [
    "import yfinance as yf\n",
    "import warnings\n",
    "warnings.filterwarnings(\"ignore\")\n",
    "ticker = yf.Ticker(\"^GSPC\")"
   ],
   "metadata": {
    "collapsed": false
   },
   "id": "initial_id",
   "execution_count": null
  },
  {
   "cell_type": "code",
   "outputs": [
    {
     "data": {
      "text/plain": "Empty DataFrame\nColumns: [Dividends, Stock Splits]\nIndex: []",
      "text/html": "<div>\n<style scoped>\n    .dataframe tbody tr th:only-of-type {\n        vertical-align: middle;\n    }\n\n    .dataframe tbody tr th {\n        vertical-align: top;\n    }\n\n    .dataframe thead th {\n        text-align: right;\n    }\n</style>\n<table border=\"1\" class=\"dataframe\">\n  <thead>\n    <tr style=\"text-align: right;\">\n      <th></th>\n      <th>Dividends</th>\n      <th>Stock Splits</th>\n    </tr>\n    <tr>\n      <th>Date</th>\n      <th></th>\n      <th></th>\n    </tr>\n  </thead>\n  <tbody>\n  </tbody>\n</table>\n</div>"
     },
     "execution_count": 2,
     "metadata": {},
     "output_type": "execute_result"
    }
   ],
   "source": [
    "ticker.actions"
   ],
   "metadata": {
    "collapsed": false,
    "ExecuteTime": {
     "end_time": "2024-02-25T05:13:57.023437Z",
     "start_time": "2024-02-25T05:13:54.249188Z"
    }
   },
   "id": "558848380450a5fe",
   "execution_count": 2
  },
  {
   "cell_type": "code",
   "outputs": [
    {
     "data": {
      "text/plain": "Empty DataFrame\nColumns: []\nIndex: []",
      "text/html": "<div>\n<style scoped>\n    .dataframe tbody tr th:only-of-type {\n        vertical-align: middle;\n    }\n\n    .dataframe tbody tr th {\n        vertical-align: top;\n    }\n\n    .dataframe thead th {\n        text-align: right;\n    }\n</style>\n<table border=\"1\" class=\"dataframe\">\n  <thead>\n    <tr style=\"text-align: right;\">\n      <th></th>\n    </tr>\n  </thead>\n  <tbody>\n  </tbody>\n</table>\n</div>"
     },
     "execution_count": 3,
     "metadata": {},
     "output_type": "execute_result"
    }
   ],
   "source": [
    "ticker.balancesheet"
   ],
   "metadata": {
    "collapsed": false,
    "ExecuteTime": {
     "end_time": "2024-02-25T05:13:57.577601Z",
     "start_time": "2024-02-25T05:13:56.883633Z"
    }
   },
   "id": "daba442b9ef26377",
   "execution_count": 3
  },
  {
   "cell_type": "code",
   "outputs": [
    {
     "data": {
      "text/plain": "lazy-loading dict with keys = ['currency', 'dayHigh', 'dayLow', 'exchange', 'fiftyDayAverage', 'lastPrice', 'lastVolume', 'marketCap', 'open', 'previousClose', 'quoteType', 'regularMarketPreviousClose', 'shares', 'tenDayAverageVolume', 'threeMonthAverageVolume', 'timezone', 'twoHundredDayAverage', 'yearChange', 'yearHigh', 'yearLow']"
     },
     "execution_count": 4,
     "metadata": {},
     "output_type": "execute_result"
    }
   ],
   "source": [
    "ticker.basic_info"
   ],
   "metadata": {
    "collapsed": false,
    "ExecuteTime": {
     "end_time": "2024-02-25T05:13:57.580125Z",
     "start_time": "2024-02-25T05:13:57.129879Z"
    }
   },
   "id": "fc4a3b263abf3fb8",
   "execution_count": 4
  },
  {
   "cell_type": "code",
   "outputs": [
    {
     "name": "stderr",
     "output_type": "stream",
     "text": [
      "404 Client Error: Not Found for url: https://query2.finance.yahoo.com/v10/finance/quoteSummary/%5EGSPC?modules=calendarEvents&corsDomain=finance.yahoo.com&formatted=false&symbol=%5EGSPC&crumb=1jKF%2F5NCvcT\n"
     ]
    },
    {
     "data": {
      "text/plain": "{}"
     },
     "execution_count": 5,
     "metadata": {},
     "output_type": "execute_result"
    }
   ],
   "source": [
    "ticker.calendar"
   ],
   "metadata": {
    "collapsed": false,
    "ExecuteTime": {
     "end_time": "2024-02-25T05:13:59.096510Z",
     "start_time": "2024-02-25T05:13:57.147323Z"
    }
   },
   "id": "8d41af89a946bba9",
   "execution_count": 5
  },
  {
   "cell_type": "code",
   "outputs": [
    {
     "data": {
      "text/plain": "Series([], dtype: object)"
     },
     "execution_count": 6,
     "metadata": {},
     "output_type": "execute_result"
    }
   ],
   "source": [
    "ticker.capital_gains"
   ],
   "metadata": {
    "collapsed": false,
    "ExecuteTime": {
     "end_time": "2024-02-25T05:13:59.360109Z",
     "start_time": "2024-02-25T05:13:59.102165Z"
    }
   },
   "id": "3736b0643b60f0fa",
   "execution_count": 6
  },
  {
   "cell_type": "code",
   "outputs": [
    {
     "data": {
      "text/plain": "Empty DataFrame\nColumns: []\nIndex: []",
      "text/html": "<div>\n<style scoped>\n    .dataframe tbody tr th:only-of-type {\n        vertical-align: middle;\n    }\n\n    .dataframe tbody tr th {\n        vertical-align: top;\n    }\n\n    .dataframe thead th {\n        text-align: right;\n    }\n</style>\n<table border=\"1\" class=\"dataframe\">\n  <thead>\n    <tr style=\"text-align: right;\">\n      <th></th>\n    </tr>\n  </thead>\n  <tbody>\n  </tbody>\n</table>\n</div>"
     },
     "execution_count": 7,
     "metadata": {},
     "output_type": "execute_result"
    }
   ],
   "source": [
    "ticker.cash_flow"
   ],
   "metadata": {
    "collapsed": false,
    "ExecuteTime": {
     "end_time": "2024-02-25T05:13:59.445333Z",
     "start_time": "2024-02-25T05:13:59.127166Z"
    }
   },
   "id": "abec763171250ca1",
   "execution_count": 7
  },
  {
   "cell_type": "code",
   "outputs": [
    {
     "data": {
      "text/plain": "Empty DataFrame\nColumns: []\nIndex: []",
      "text/html": "<div>\n<style scoped>\n    .dataframe tbody tr th:only-of-type {\n        vertical-align: middle;\n    }\n\n    .dataframe tbody tr th {\n        vertical-align: top;\n    }\n\n    .dataframe thead th {\n        text-align: right;\n    }\n</style>\n<table border=\"1\" class=\"dataframe\">\n  <thead>\n    <tr style=\"text-align: right;\">\n      <th></th>\n    </tr>\n  </thead>\n  <tbody>\n  </tbody>\n</table>\n</div>"
     },
     "execution_count": 8,
     "metadata": {},
     "output_type": "execute_result"
    }
   ],
   "source": [
    "ticker.cashflow"
   ],
   "metadata": {
    "collapsed": false,
    "ExecuteTime": {
     "end_time": "2024-02-25T05:13:59.459373Z",
     "start_time": "2024-02-25T05:13:59.264744Z"
    }
   },
   "id": "a42a8c91741bff6e",
   "execution_count": 8
  },
  {
   "cell_type": "code",
   "outputs": [
    {
     "data": {
      "text/plain": "Series([], Name: Dividends, dtype: float64)"
     },
     "execution_count": 9,
     "metadata": {},
     "output_type": "execute_result"
    }
   ],
   "source": [
    "ticker.dividends"
   ],
   "metadata": {
    "collapsed": false,
    "ExecuteTime": {
     "end_time": "2024-02-25T05:13:59.723798Z",
     "start_time": "2024-02-25T05:13:59.277385Z"
    }
   },
   "id": "b5e83e81dd048b3",
   "execution_count": 9
  },
  {
   "cell_type": "code",
   "outputs": [
    {
     "name": "stderr",
     "output_type": "stream",
     "text": [
      "^GSPC: No earnings dates found, symbol may be delisted\n"
     ]
    }
   ],
   "source": [
    "ticker.earnings_dates"
   ],
   "metadata": {
    "collapsed": false,
    "ExecuteTime": {
     "end_time": "2024-02-25T05:14:02.163887Z",
     "start_time": "2024-02-25T05:13:59.295034Z"
    }
   },
   "id": "3a291fdd2f656410",
   "execution_count": 10
  },
  {
   "cell_type": "code",
   "outputs": [
    {
     "data": {
      "text/plain": "lazy-loading dict with keys = ['currency', 'dayHigh', 'dayLow', 'exchange', 'fiftyDayAverage', 'lastPrice', 'lastVolume', 'marketCap', 'open', 'previousClose', 'quoteType', 'regularMarketPreviousClose', 'shares', 'tenDayAverageVolume', 'threeMonthAverageVolume', 'timezone', 'twoHundredDayAverage', 'yearChange', 'yearHigh', 'yearLow']"
     },
     "execution_count": 11,
     "metadata": {},
     "output_type": "execute_result"
    }
   ],
   "source": [
    "ticker.fast_info"
   ],
   "metadata": {
    "collapsed": false,
    "ExecuteTime": {
     "end_time": "2024-02-25T05:14:02.441682Z",
     "start_time": "2024-02-25T05:14:02.156471Z"
    }
   },
   "id": "3836d94dd4c0a59e",
   "execution_count": 11
  },
  {
   "cell_type": "code",
   "outputs": [
    {
     "data": {
      "text/plain": "Empty DataFrame\nColumns: []\nIndex: []",
      "text/html": "<div>\n<style scoped>\n    .dataframe tbody tr th:only-of-type {\n        vertical-align: middle;\n    }\n\n    .dataframe tbody tr th {\n        vertical-align: top;\n    }\n\n    .dataframe thead th {\n        text-align: right;\n    }\n</style>\n<table border=\"1\" class=\"dataframe\">\n  <thead>\n    <tr style=\"text-align: right;\">\n      <th></th>\n    </tr>\n  </thead>\n  <tbody>\n  </tbody>\n</table>\n</div>"
     },
     "execution_count": 12,
     "metadata": {},
     "output_type": "execute_result"
    }
   ],
   "source": [
    "ticker.financials"
   ],
   "metadata": {
    "collapsed": false,
    "ExecuteTime": {
     "end_time": "2024-02-25T05:14:02.479129Z",
     "start_time": "2024-02-25T05:14:02.236584Z"
    }
   },
   "id": "b3a0f14653c2cb03",
   "execution_count": 12
  },
  {
   "cell_type": "code",
   "outputs": [
    {
     "data": {
      "text/plain": "<bound method log_indent_decorator.<locals>.wrapper of yfinance.Ticker object <^GSPC>>"
     },
     "execution_count": 13,
     "metadata": {},
     "output_type": "execute_result"
    }
   ],
   "source": [
    "ticker.history"
   ],
   "metadata": {
    "collapsed": false,
    "ExecuteTime": {
     "end_time": "2024-02-25T05:14:02.562769Z",
     "start_time": "2024-02-25T05:14:02.374716Z"
    }
   },
   "id": "c5035bef21d7dcaa",
   "execution_count": 13
  },
  {
   "cell_type": "code",
   "outputs": [
    {
     "data": {
      "text/plain": "{'currency': 'USD',\n 'symbol': '^GSPC',\n 'exchangeName': 'SNP',\n 'instrumentType': 'INDEX',\n 'firstTradeDate': -1325583000,\n 'regularMarketTime': 1708726473,\n 'hasPrePostMarketData': False,\n 'gmtoffset': -18000,\n 'timezone': 'EST',\n 'exchangeTimezoneName': 'America/New_York',\n 'regularMarketPrice': 5088.8,\n 'chartPreviousClose': 17.66,\n 'priceHint': 2,\n 'currentTradingPeriod': {'pre': {'timezone': 'EST',\n   'end': 1708698600,\n   'start': 1708678800,\n   'gmtoffset': -18000},\n  'regular': {'timezone': 'EST',\n   'end': 1708722000,\n   'start': 1708698600,\n   'gmtoffset': -18000},\n  'post': {'timezone': 'EST',\n   'end': 1708736400,\n   'start': 1708722000,\n   'gmtoffset': -18000}},\n 'dataGranularity': '1d',\n 'range': '',\n 'validRanges': ['1d',\n  '5d',\n  '1mo',\n  '3mo',\n  '6mo',\n  '1y',\n  '2y',\n  '5y',\n  '10y',\n  'ytd',\n  'max']}"
     },
     "execution_count": 14,
     "metadata": {},
     "output_type": "execute_result"
    }
   ],
   "source": [
    "ticker.history_metadata"
   ],
   "metadata": {
    "collapsed": false,
    "ExecuteTime": {
     "end_time": "2024-02-25T05:14:02.652894Z",
     "start_time": "2024-02-25T05:14:02.403909Z"
    }
   },
   "id": "644d53f6b63c977b",
   "execution_count": 14
  },
  {
   "cell_type": "code",
   "outputs": [
    {
     "data": {
      "text/plain": "Empty DataFrame\nColumns: []\nIndex: []",
      "text/html": "<div>\n<style scoped>\n    .dataframe tbody tr th:only-of-type {\n        vertical-align: middle;\n    }\n\n    .dataframe tbody tr th {\n        vertical-align: top;\n    }\n\n    .dataframe thead th {\n        text-align: right;\n    }\n</style>\n<table border=\"1\" class=\"dataframe\">\n  <thead>\n    <tr style=\"text-align: right;\">\n      <th></th>\n    </tr>\n  </thead>\n  <tbody>\n  </tbody>\n</table>\n</div>"
     },
     "execution_count": 15,
     "metadata": {},
     "output_type": "execute_result"
    }
   ],
   "source": [
    "ticker.incomestmt"
   ],
   "metadata": {
    "collapsed": false,
    "ExecuteTime": {
     "end_time": "2024-02-25T05:14:02.654939Z",
     "start_time": "2024-02-25T05:14:02.416333Z"
    }
   },
   "id": "56e4d6a802a728d0",
   "execution_count": 15
  },
  {
   "cell_type": "code",
   "outputs": [
    {
     "data": {
      "text/plain": "{'maxAge': 86400,\n 'priceHint': 2,\n 'previousClose': 5087.03,\n 'open': 5100.92,\n 'dayLow': 5081.46,\n 'dayHigh': 5111.06,\n 'regularMarketPreviousClose': 5087.03,\n 'regularMarketOpen': 5100.92,\n 'regularMarketDayLow': 5081.46,\n 'regularMarketDayHigh': 5111.06,\n 'volume': 2256863000,\n 'regularMarketVolume': 2256863000,\n 'averageVolume': 4024996393,\n 'averageVolume10days': 3938553000,\n 'averageDailyVolume10Day': 3938553000,\n 'bid': 5034.25,\n 'ask': 5139.04,\n 'fiftyTwoWeekLow': 3808.86,\n 'fiftyTwoWeekHigh': 5111.06,\n 'fiftyDayAverage': 4848.5503,\n 'twoHundredDayAverage': 4503.6323,\n 'currency': 'USD',\n 'exchange': 'SNP',\n 'quoteType': 'INDEX',\n 'symbol': '^GSPC',\n 'underlyingSymbol': '^GSPC',\n 'shortName': 'S&P 500',\n 'longName': 'S&P 500',\n 'firstTradeDateEpochUtc': -1325583000,\n 'timeZoneFullName': 'America/New_York',\n 'timeZoneShortName': 'EST',\n 'uuid': '8ffd55d1-3d1d-3733-a480-56768bc708e6',\n 'messageBoardId': 'finmb_INDEXGSPC',\n 'gmtOffSetMilliseconds': -18000000,\n 'trailingPegRatio': None}"
     },
     "execution_count": 16,
     "metadata": {},
     "output_type": "execute_result"
    }
   ],
   "source": [
    "ticker.info"
   ],
   "metadata": {
    "collapsed": false,
    "ExecuteTime": {
     "end_time": "2024-02-25T05:14:02.922983Z",
     "start_time": "2024-02-25T05:14:02.422940Z"
    }
   },
   "id": "f3322e876e80ab61",
   "execution_count": 16
  },
  {
   "cell_type": "code",
   "outputs": [
    {
     "name": "stderr",
     "output_type": "stream",
     "text": [
      "404 Client Error: Not Found for url: https://query2.finance.yahoo.com/v10/finance/quoteSummary/?modules=institutionOwnership%2CfundOwnership%2CmajorDirectHolders%2CmajorHoldersBreakdown%2CinsiderTransactions%2CinsiderHolders%2CnetSharePurchaseActivity&corsDomain=finance.yahoo.com&symbol=%5EGSPC&formatted=false&crumb=1jKF%2F5NCvcT\n"
     ]
    },
    {
     "data": {
      "text/plain": "Empty DataFrame\nColumns: []\nIndex: []",
      "text/html": "<div>\n<style scoped>\n    .dataframe tbody tr th:only-of-type {\n        vertical-align: middle;\n    }\n\n    .dataframe tbody tr th {\n        vertical-align: top;\n    }\n\n    .dataframe thead th {\n        text-align: right;\n    }\n</style>\n<table border=\"1\" class=\"dataframe\">\n  <thead>\n    <tr style=\"text-align: right;\">\n      <th></th>\n    </tr>\n  </thead>\n  <tbody>\n  </tbody>\n</table>\n</div>"
     },
     "execution_count": 17,
     "metadata": {},
     "output_type": "execute_result"
    }
   ],
   "source": [
    "ticker.insider_purchases"
   ],
   "metadata": {
    "collapsed": false,
    "ExecuteTime": {
     "end_time": "2024-02-25T05:14:05.499016Z",
     "start_time": "2024-02-25T05:14:02.603677Z"
    }
   },
   "id": "78080c6c2177c93d",
   "execution_count": 17
  },
  {
   "cell_type": "code",
   "outputs": [
    {
     "data": {
      "text/plain": "Empty DataFrame\nColumns: []\nIndex: []",
      "text/html": "<div>\n<style scoped>\n    .dataframe tbody tr th:only-of-type {\n        vertical-align: middle;\n    }\n\n    .dataframe tbody tr th {\n        vertical-align: top;\n    }\n\n    .dataframe thead th {\n        text-align: right;\n    }\n</style>\n<table border=\"1\" class=\"dataframe\">\n  <thead>\n    <tr style=\"text-align: right;\">\n      <th></th>\n    </tr>\n  </thead>\n  <tbody>\n  </tbody>\n</table>\n</div>"
     },
     "execution_count": 18,
     "metadata": {},
     "output_type": "execute_result"
    }
   ],
   "source": [
    "ticker.insider_roster_holders"
   ],
   "metadata": {
    "collapsed": false,
    "ExecuteTime": {
     "end_time": "2024-02-25T05:14:05.567634Z",
     "start_time": "2024-02-25T05:14:05.329086Z"
    }
   },
   "id": "1be2c76c70972ace",
   "execution_count": 18
  },
  {
   "cell_type": "code",
   "outputs": [
    {
     "data": {
      "text/plain": "Empty DataFrame\nColumns: []\nIndex: []",
      "text/html": "<div>\n<style scoped>\n    .dataframe tbody tr th:only-of-type {\n        vertical-align: middle;\n    }\n\n    .dataframe tbody tr th {\n        vertical-align: top;\n    }\n\n    .dataframe thead th {\n        text-align: right;\n    }\n</style>\n<table border=\"1\" class=\"dataframe\">\n  <thead>\n    <tr style=\"text-align: right;\">\n      <th></th>\n    </tr>\n  </thead>\n  <tbody>\n  </tbody>\n</table>\n</div>"
     },
     "execution_count": 19,
     "metadata": {},
     "output_type": "execute_result"
    }
   ],
   "source": [
    "ticker.insider_transactions"
   ],
   "metadata": {
    "collapsed": false,
    "ExecuteTime": {
     "end_time": "2024-02-25T05:14:05.569422Z",
     "start_time": "2024-02-25T05:14:05.329297Z"
    }
   },
   "id": "15e7e0a616f903",
   "execution_count": 19
  },
  {
   "cell_type": "code",
   "outputs": [
    {
     "data": {
      "text/plain": "Empty DataFrame\nColumns: []\nIndex: []",
      "text/html": "<div>\n<style scoped>\n    .dataframe tbody tr th:only-of-type {\n        vertical-align: middle;\n    }\n\n    .dataframe tbody tr th {\n        vertical-align: top;\n    }\n\n    .dataframe thead th {\n        text-align: right;\n    }\n</style>\n<table border=\"1\" class=\"dataframe\">\n  <thead>\n    <tr style=\"text-align: right;\">\n      <th></th>\n    </tr>\n  </thead>\n  <tbody>\n  </tbody>\n</table>\n</div>"
     },
     "execution_count": 20,
     "metadata": {},
     "output_type": "execute_result"
    }
   ],
   "source": [
    "ticker.institutional_holders"
   ],
   "metadata": {
    "collapsed": false,
    "ExecuteTime": {
     "end_time": "2024-02-25T05:14:05.571574Z",
     "start_time": "2024-02-25T05:14:05.338251Z"
    }
   },
   "id": "435880510de7ba8c",
   "execution_count": 20
  },
  {
   "cell_type": "code",
   "outputs": [
    {
     "data": {
      "text/plain": "Empty DataFrame\nColumns: []\nIndex: []",
      "text/html": "<div>\n<style scoped>\n    .dataframe tbody tr th:only-of-type {\n        vertical-align: middle;\n    }\n\n    .dataframe tbody tr th {\n        vertical-align: top;\n    }\n\n    .dataframe thead th {\n        text-align: right;\n    }\n</style>\n<table border=\"1\" class=\"dataframe\">\n  <thead>\n    <tr style=\"text-align: right;\">\n      <th></th>\n    </tr>\n  </thead>\n  <tbody>\n  </tbody>\n</table>\n</div>"
     },
     "execution_count": 21,
     "metadata": {},
     "output_type": "execute_result"
    }
   ],
   "source": [
    "ticker.major_holders"
   ],
   "metadata": {
    "collapsed": false,
    "ExecuteTime": {
     "end_time": "2024-02-25T05:14:05.645134Z",
     "start_time": "2024-02-25T05:14:05.338361Z"
    }
   },
   "id": "641e4cf4a7289087",
   "execution_count": 21
  },
  {
   "cell_type": "code",
   "outputs": [
    {
     "data": {
      "text/plain": "Empty DataFrame\nColumns: []\nIndex: []",
      "text/html": "<div>\n<style scoped>\n    .dataframe tbody tr th:only-of-type {\n        vertical-align: middle;\n    }\n\n    .dataframe tbody tr th {\n        vertical-align: top;\n    }\n\n    .dataframe thead th {\n        text-align: right;\n    }\n</style>\n<table border=\"1\" class=\"dataframe\">\n  <thead>\n    <tr style=\"text-align: right;\">\n      <th></th>\n    </tr>\n  </thead>\n  <tbody>\n  </tbody>\n</table>\n</div>"
     },
     "execution_count": 22,
     "metadata": {},
     "output_type": "execute_result"
    }
   ],
   "source": [
    "ticker.mutualfund_holders"
   ],
   "metadata": {
    "collapsed": false,
    "ExecuteTime": {
     "end_time": "2024-02-25T05:14:05.647538Z",
     "start_time": "2024-02-25T05:14:05.338529Z"
    }
   },
   "id": "a3c295bba8e73b44",
   "execution_count": 22
  },
  {
   "cell_type": "code",
   "outputs": [
    {
     "data": {
      "text/plain": "[{'uuid': 'f1130d55-0e28-3b2b-87b9-569f988fdc76',\n  'title': '15 Most Luxurious Places To Retire Abroad if You Have a Budget Over $15,000 a Month',\n  'publisher': 'Insider Monkey',\n  'link': 'https://finance.yahoo.com/news/15-most-luxurious-places-retire-203725575.html',\n  'providerPublishTime': 1708807045,\n  'type': 'STORY',\n  'thumbnail': {'resolutions': [{'url': 'https://s.yimg.com/uu/api/res/1.2/GfnrUQ7IQPREKheltX9X8A--~B/aD04MTY7dz0xNDU2O2FwcGlkPXl0YWNoeW9u/https://media.zenfs.com/en/insidermonkey.com/710cb5420834afdf748fa5dcfd8c3b2a',\n     'width': 1456,\n     'height': 816,\n     'tag': 'original'},\n    {'url': 'https://s.yimg.com/uu/api/res/1.2/w_lyxKZsJI2jKzWfJEs_6w--~B/Zmk9ZmlsbDtoPTE0MDtweW9mZj0wO3c9MTQwO2FwcGlkPXl0YWNoeW9u/https://media.zenfs.com/en/insidermonkey.com/710cb5420834afdf748fa5dcfd8c3b2a',\n     'width': 140,\n     'height': 140,\n     'tag': '140x140'}]},\n  'relatedTickers': ['CI', '^GSPC']},\n {'uuid': 'eb2cd76e-b973-3aa1-9b66-f605a4adb997',\n  'title': '11 Best Stocks That Pay Monthly Dividends in 2024',\n  'publisher': 'Insider Monkey',\n  'link': 'https://finance.yahoo.com/news/11-best-stocks-pay-monthly-192614409.html',\n  'providerPublishTime': 1708802774,\n  'type': 'STORY',\n  'thumbnail': {'resolutions': [{'url': 'https://s.yimg.com/uu/api/res/1.2/tkDJXTDH8FaiTfAjOz_1uw--~B/aD0xMjc1O3c9MTkyMDthcHBpZD15dGFjaHlvbg--/https://media.zenfs.com/en/insidermonkey.com/30173640c9b0cffb6b7013930030fa3e',\n     'width': 1920,\n     'height': 1275,\n     'tag': 'original'},\n    {'url': 'https://s.yimg.com/uu/api/res/1.2/6IIxITZq3sM6LcPCnAH0mg--~B/Zmk9ZmlsbDtoPTE0MDtweW9mZj0wO3c9MTQwO2FwcGlkPXl0YWNoeW9u/https://media.zenfs.com/en/insidermonkey.com/30173640c9b0cffb6b7013930030fa3e',\n     'width': 140,\n     'height': 140,\n     'tag': '140x140'}]},\n  'relatedTickers': ['^GSPC',\n   'LTC',\n   'GOOD',\n   'AGNC',\n   'MAIN',\n   'PSEC',\n   'PG',\n   'ARR']},\n {'uuid': '499736f1-8105-3d26-9fd6-241799cd4747',\n  'title': '25 Countries with the Highest Employment Rates in the World',\n  'publisher': 'Insider Monkey',\n  'link': 'https://finance.yahoo.com/news/25-countries-highest-employment-rates-164946726.html',\n  'providerPublishTime': 1708793386,\n  'type': 'STORY',\n  'thumbnail': {'resolutions': [{'url': 'https://s.yimg.com/uu/api/res/1.2/gMo35N.7S9iydFZyo62clw--~B/aD04MTY7dz0xNDU2O2FwcGlkPXl0YWNoeW9u/https://media.zenfs.com/en/insidermonkey.com/8490186f4d01dcd325320c245f70314d',\n     'width': 1456,\n     'height': 816,\n     'tag': 'original'},\n    {'url': 'https://s.yimg.com/uu/api/res/1.2/Emi7vFEXcdV7D2.9XKKUHA--~B/Zmk9ZmlsbDtoPTE0MDtweW9mZj0wO3c9MTQwO2FwcGlkPXl0YWNoeW9u/https://media.zenfs.com/en/insidermonkey.com/8490186f4d01dcd325320c245f70314d',\n     'width': 140,\n     'height': 140,\n     'tag': '140x140'}]},\n  'relatedTickers': ['^GSPC', 'META', 'PEP']},\n {'uuid': '01c145d1-dcbb-3dd6-b6fe-22cdb0754478',\n  'title': '25 Easiest and Best Paying Jobs of 2024',\n  'publisher': 'Insider Monkey',\n  'link': 'https://finance.yahoo.com/news/25-easiest-best-paying-jobs-162231946.html',\n  'providerPublishTime': 1708791751,\n  'type': 'STORY',\n  'thumbnail': {'resolutions': [{'url': 'https://s.yimg.com/uu/api/res/1.2/RCjgUGraeUCJnJhGfQ0KLA--~B/aD02Njc7dz0xMDAwO2FwcGlkPXl0YWNoeW9u/https://media.zenfs.com/en/insidermonkey.com/1f53780e46858598037ffa15ff6b5419',\n     'width': 1000,\n     'height': 667,\n     'tag': 'original'},\n    {'url': 'https://s.yimg.com/uu/api/res/1.2/jyawNpwN53aRykdB5lph2g--~B/Zmk9ZmlsbDtoPTE0MDtweW9mZj0wO3c9MTQwO2FwcGlkPXl0YWNoeW9u/https://media.zenfs.com/en/insidermonkey.com/1f53780e46858598037ffa15ff6b5419',\n     'width': 140,\n     'height': 140,\n     'tag': '140x140'}]},\n  'relatedTickers': ['JNJ', '^GSPC', 'ABT']},\n {'uuid': '0de3c0d1-6990-3323-818f-2ea9a7609be8',\n  'title': 'Dow Jones Futures: Nvidia Rival AMD Setting Up, But Stock Market Needs This',\n  'publisher': \"Investor's Business Daily\",\n  'link': 'https://finance.yahoo.com/m/0de3c0d1-6990-3323-818f-2ea9a7609be8/dow-jones-futures%3A-nvidia.html',\n  'providerPublishTime': 1708790961,\n  'type': 'STORY',\n  'thumbnail': {'resolutions': [{'url': 'https://s.yimg.com/uu/api/res/1.2/3oYpdlk3dOpFCaTGXvk1LA--~B/aD01MzM7dz05NDU7YXBwaWQ9eXRhY2h5b24-/https://media.zenfs.com/en/ibd.com/7147c48c8897e84dc52aac4692b4ce8f',\n     'width': 945,\n     'height': 533,\n     'tag': 'original'},\n    {'url': 'https://s.yimg.com/uu/api/res/1.2/llLtDM8T.HKtt0f_seUlHA--~B/Zmk9ZmlsbDtoPTE0MDtweW9mZj0wO3c9MTQwO2FwcGlkPXl0YWNoeW9u/https://media.zenfs.com/en/ibd.com/7147c48c8897e84dc52aac4692b4ce8f',\n     'width': 140,\n     'height': 140,\n     'tag': '140x140'}]},\n  'relatedTickers': ['NVDA',\n   '^GSPC',\n   'COMP',\n   'AMD',\n   '^DJI',\n   'MSFT',\n   'LEN-B',\n   'MANH']},\n {'uuid': '31534aed-a1c7-34b0-b67a-e60f264811cd',\n  'title': 'Q&A With Wall Street: Super Micro Computer Stock Analysis',\n  'publisher': 'Motley Fool',\n  'link': 'https://finance.yahoo.com/m/31534aed-a1c7-34b0-b67a-e60f264811cd/q%26a-with-wall-street%3A-super.html',\n  'providerPublishTime': 1708790400,\n  'type': 'STORY',\n  'thumbnail': {'resolutions': [{'url': 'https://s.yimg.com/uu/api/res/1.2/WKnVqrnNMY4vDG0jh0WSUw--~B/aD0xMjU3O3c9MjM4NDthcHBpZD15dGFjaHlvbg--/https://media.zenfs.com/en/motleyfool.com/f3672c931c2d8ecb9d9cb59bd1ec877a',\n     'width': 2384,\n     'height': 1257,\n     'tag': 'original'},\n    {'url': 'https://s.yimg.com/uu/api/res/1.2/9os08f.RoimEvhSWAHJHkQ--~B/Zmk9ZmlsbDtoPTE0MDtweW9mZj0wO3c9MTQwO2FwcGlkPXl0YWNoeW9u/https://media.zenfs.com/en/motleyfool.com/f3672c931c2d8ecb9d9cb59bd1ec877a',\n     'width': 140,\n     'height': 140,\n     'tag': '140x140'}]},\n  'relatedTickers': ['SMCI', '^GSPC']},\n {'uuid': 'e7b59684-01ca-3697-b9c3-11e62139928f',\n  'title': 'Will Palantir Technologies Be a Trillion-Dollar Stock by 2035?',\n  'publisher': 'Motley Fool',\n  'link': 'https://finance.yahoo.com/m/e7b59684-01ca-3697-b9c3-11e62139928f/will-palantir-technologies-be.html',\n  'providerPublishTime': 1708789500,\n  'type': 'STORY',\n  'thumbnail': {'resolutions': [{'url': 'https://s.yimg.com/uu/api/res/1.2/Rpw8..adXwyN27fQw1pSIQ--~B/aD05ODA7dz0xNDAwO2FwcGlkPXl0YWNoeW9u/https://media.zenfs.com/en/motleyfool.com/993f00e1a09d2607ae2047523ae0cb10',\n     'width': 1400,\n     'height': 980,\n     'tag': 'original'},\n    {'url': 'https://s.yimg.com/uu/api/res/1.2/AclIPpOpKxF7kTNWiyCuKQ--~B/Zmk9ZmlsbDtoPTE0MDtweW9mZj0wO3c9MTQwO2FwcGlkPXl0YWNoeW9u/https://media.zenfs.com/en/motleyfool.com/993f00e1a09d2607ae2047523ae0cb10',\n     'width': 140,\n     'height': 140,\n     'tag': '140x140'}]},\n  'relatedTickers': ['PLTR', '^GSPC', 'MSFT', 'NVDA']},\n {'uuid': '60ae3ec7-0869-33e5-90cc-4ff6651c36a2',\n  'title': '20 Daily Wealth-Building Habits Rich People Swear By',\n  'publisher': 'Insider Monkey',\n  'link': 'https://finance.yahoo.com/news/20-daily-wealth-building-habits-153100731.html',\n  'providerPublishTime': 1708788660,\n  'type': 'STORY',\n  'thumbnail': {'resolutions': [{'url': 'https://s.yimg.com/uu/api/res/1.2/s1CCVPT4KC_SZiREmJUwCw--~B/aD0xMjk3O3c9MTkyMDthcHBpZD15dGFjaHlvbg--/https://media.zenfs.com/en/insidermonkey.com/122bf82d8a60e4e2034afdddbd9c36d5',\n     'width': 1920,\n     'height': 1297,\n     'tag': 'original'},\n    {'url': 'https://s.yimg.com/uu/api/res/1.2/jFGYX7iSFECCi2qr4CW9tQ--~B/Zmk9ZmlsbDtoPTE0MDtweW9mZj0wO3c9MTQwO2FwcGlkPXl0YWNoeW9u/https://media.zenfs.com/en/insidermonkey.com/122bf82d8a60e4e2034afdddbd9c36d5',\n     'width': 140,\n     'height': 140,\n     'tag': '140x140'}]},\n  'relatedTickers': ['^GSPC']}]"
     },
     "execution_count": 23,
     "metadata": {},
     "output_type": "execute_result"
    }
   ],
   "source": [
    "ticker.news"
   ],
   "metadata": {
    "collapsed": false,
    "ExecuteTime": {
     "end_time": "2024-02-25T05:14:05.649851Z",
     "start_time": "2024-02-25T05:14:05.338595Z"
    }
   },
   "id": "e74d13d3a7a95624",
   "execution_count": 23
  },
  {
   "cell_type": "code",
   "outputs": [
    {
     "data": {
      "text/plain": "<bound method Ticker.option_chain of yfinance.Ticker object <^GSPC>>"
     },
     "execution_count": 24,
     "metadata": {},
     "output_type": "execute_result"
    }
   ],
   "source": [
    "ticker.option_chain"
   ],
   "metadata": {
    "collapsed": false,
    "ExecuteTime": {
     "end_time": "2024-02-25T05:14:05.661381Z",
     "start_time": "2024-02-25T05:14:05.338778Z"
    }
   },
   "id": "637b59c7b2897cab",
   "execution_count": 24
  },
  {
   "cell_type": "code",
   "outputs": [
    {
     "data": {
      "text/plain": "()"
     },
     "execution_count": 25,
     "metadata": {},
     "output_type": "execute_result"
    }
   ],
   "source": [
    "ticker.options"
   ],
   "metadata": {
    "collapsed": false,
    "ExecuteTime": {
     "end_time": "2024-02-25T05:14:05.664364Z",
     "start_time": "2024-02-25T05:14:05.338845Z"
    }
   },
   "id": "55ee5c46442c4ddc",
   "execution_count": 25
  },
  {
   "cell_type": "code",
   "outputs": [],
   "source": [
    "ticker.proxy"
   ],
   "metadata": {
    "collapsed": false,
    "ExecuteTime": {
     "end_time": "2024-02-25T05:14:05.670189Z",
     "start_time": "2024-02-25T05:14:05.338902Z"
    }
   },
   "id": "8d078e678c3438d7",
   "execution_count": 26
  },
  {
   "cell_type": "code",
   "outputs": [
    {
     "data": {
      "text/plain": "Empty DataFrame\nColumns: []\nIndex: []",
      "text/html": "<div>\n<style scoped>\n    .dataframe tbody tr th:only-of-type {\n        vertical-align: middle;\n    }\n\n    .dataframe tbody tr th {\n        vertical-align: top;\n    }\n\n    .dataframe thead th {\n        text-align: right;\n    }\n</style>\n<table border=\"1\" class=\"dataframe\">\n  <thead>\n    <tr style=\"text-align: right;\">\n      <th></th>\n    </tr>\n  </thead>\n  <tbody>\n  </tbody>\n</table>\n</div>"
     },
     "execution_count": 27,
     "metadata": {},
     "output_type": "execute_result"
    }
   ],
   "source": [
    "ticker.quarterly_balancesheet"
   ],
   "metadata": {
    "collapsed": false,
    "ExecuteTime": {
     "end_time": "2024-02-25T05:14:05.672568Z",
     "start_time": "2024-02-25T05:14:05.338950Z"
    }
   },
   "id": "24e12e28686fab4a",
   "execution_count": 27
  },
  {
   "cell_type": "code",
   "outputs": [
    {
     "data": {
      "text/plain": "Empty DataFrame\nColumns: []\nIndex: []",
      "text/html": "<div>\n<style scoped>\n    .dataframe tbody tr th:only-of-type {\n        vertical-align: middle;\n    }\n\n    .dataframe tbody tr th {\n        vertical-align: top;\n    }\n\n    .dataframe thead th {\n        text-align: right;\n    }\n</style>\n<table border=\"1\" class=\"dataframe\">\n  <thead>\n    <tr style=\"text-align: right;\">\n      <th></th>\n    </tr>\n  </thead>\n  <tbody>\n  </tbody>\n</table>\n</div>"
     },
     "execution_count": 28,
     "metadata": {},
     "output_type": "execute_result"
    }
   ],
   "source": [
    "ticker.quarterly_cash_flow"
   ],
   "metadata": {
    "collapsed": false,
    "ExecuteTime": {
     "end_time": "2024-02-25T05:14:05.768690Z",
     "start_time": "2024-02-25T05:14:05.339009Z"
    }
   },
   "id": "c25e85ebad151f29",
   "execution_count": 28
  },
  {
   "cell_type": "code",
   "outputs": [
    {
     "data": {
      "text/plain": "Empty DataFrame\nColumns: []\nIndex: []",
      "text/html": "<div>\n<style scoped>\n    .dataframe tbody tr th:only-of-type {\n        vertical-align: middle;\n    }\n\n    .dataframe tbody tr th {\n        vertical-align: top;\n    }\n\n    .dataframe thead th {\n        text-align: right;\n    }\n</style>\n<table border=\"1\" class=\"dataframe\">\n  <thead>\n    <tr style=\"text-align: right;\">\n      <th></th>\n    </tr>\n  </thead>\n  <tbody>\n  </tbody>\n</table>\n</div>"
     },
     "execution_count": 29,
     "metadata": {},
     "output_type": "execute_result"
    }
   ],
   "source": [
    "ticker.quarterly_cashflow"
   ],
   "metadata": {
    "collapsed": false,
    "ExecuteTime": {
     "end_time": "2024-02-25T05:14:05.900168Z",
     "start_time": "2024-02-25T05:14:05.339123Z"
    }
   },
   "id": "2b49f4179028b531",
   "execution_count": 29
  },
  {
   "cell_type": "code",
   "outputs": [
    {
     "data": {
      "text/plain": "Empty DataFrame\nColumns: []\nIndex: []",
      "text/html": "<div>\n<style scoped>\n    .dataframe tbody tr th:only-of-type {\n        vertical-align: middle;\n    }\n\n    .dataframe tbody tr th {\n        vertical-align: top;\n    }\n\n    .dataframe thead th {\n        text-align: right;\n    }\n</style>\n<table border=\"1\" class=\"dataframe\">\n  <thead>\n    <tr style=\"text-align: right;\">\n      <th></th>\n    </tr>\n  </thead>\n  <tbody>\n  </tbody>\n</table>\n</div>"
     },
     "execution_count": 30,
     "metadata": {},
     "output_type": "execute_result"
    }
   ],
   "source": [
    "ticker.quarterly_financials"
   ],
   "metadata": {
    "collapsed": false,
    "ExecuteTime": {
     "end_time": "2024-02-25T05:14:05.901639Z",
     "start_time": "2024-02-25T05:14:05.339189Z"
    }
   },
   "id": "d74d6228bc94c221",
   "execution_count": 30
  },
  {
   "cell_type": "code",
   "outputs": [
    {
     "data": {
      "text/plain": "Empty DataFrame\nColumns: []\nIndex: []",
      "text/html": "<div>\n<style scoped>\n    .dataframe tbody tr th:only-of-type {\n        vertical-align: middle;\n    }\n\n    .dataframe tbody tr th {\n        vertical-align: top;\n    }\n\n    .dataframe thead th {\n        text-align: right;\n    }\n</style>\n<table border=\"1\" class=\"dataframe\">\n  <thead>\n    <tr style=\"text-align: right;\">\n      <th></th>\n    </tr>\n  </thead>\n  <tbody>\n  </tbody>\n</table>\n</div>"
     },
     "execution_count": 31,
     "metadata": {},
     "output_type": "execute_result"
    }
   ],
   "source": [
    "ticker.quarterly_incomestmt"
   ],
   "metadata": {
    "collapsed": false,
    "ExecuteTime": {
     "end_time": "2024-02-25T05:14:05.902890Z",
     "start_time": "2024-02-25T05:14:05.339299Z"
    }
   },
   "id": "cc7659ceb07cb49b",
   "execution_count": 31
  },
  {
   "cell_type": "code",
   "outputs": [
    {
     "name": "stderr",
     "output_type": "stream",
     "text": [
      "404 Client Error: Not Found for url: https://query2.finance.yahoo.com/v10/finance/quoteSummary/%5EGSPC?modules=recommendationTrend&corsDomain=finance.yahoo.com&formatted=false&symbol=%5EGSPC&crumb=1jKF%2F5NCvcT\n"
     ]
    },
    {
     "data": {
      "text/plain": "Empty DataFrame\nColumns: []\nIndex: []",
      "text/html": "<div>\n<style scoped>\n    .dataframe tbody tr th:only-of-type {\n        vertical-align: middle;\n    }\n\n    .dataframe tbody tr th {\n        vertical-align: top;\n    }\n\n    .dataframe thead th {\n        text-align: right;\n    }\n</style>\n<table border=\"1\" class=\"dataframe\">\n  <thead>\n    <tr style=\"text-align: right;\">\n      <th></th>\n    </tr>\n  </thead>\n  <tbody>\n  </tbody>\n</table>\n</div>"
     },
     "execution_count": 32,
     "metadata": {},
     "output_type": "execute_result"
    }
   ],
   "source": [
    "ticker.recommendations"
   ],
   "metadata": {
    "collapsed": false,
    "ExecuteTime": {
     "end_time": "2024-02-25T05:14:08.210122Z",
     "start_time": "2024-02-25T05:14:05.339397Z"
    }
   },
   "id": "65f0f63fd385b3b",
   "execution_count": 32
  },
  {
   "cell_type": "code",
   "outputs": [
    {
     "data": {
      "text/plain": "Empty DataFrame\nColumns: []\nIndex: []",
      "text/html": "<div>\n<style scoped>\n    .dataframe tbody tr th:only-of-type {\n        vertical-align: middle;\n    }\n\n    .dataframe tbody tr th {\n        vertical-align: top;\n    }\n\n    .dataframe thead th {\n        text-align: right;\n    }\n</style>\n<table border=\"1\" class=\"dataframe\">\n  <thead>\n    <tr style=\"text-align: right;\">\n      <th></th>\n    </tr>\n  </thead>\n  <tbody>\n  </tbody>\n</table>\n</div>"
     },
     "execution_count": 33,
     "metadata": {},
     "output_type": "execute_result"
    }
   ],
   "source": [
    "ticker.recommendations_summary"
   ],
   "metadata": {
    "collapsed": false,
    "ExecuteTime": {
     "end_time": "2024-02-25T05:14:08.212081Z",
     "start_time": "2024-02-25T05:14:06.410373Z"
    }
   },
   "id": "4cd3330f99e997ab",
   "execution_count": 33
  },
  {
   "cell_type": "code",
   "outputs": [],
   "source": [
    "ticker.session"
   ],
   "metadata": {
    "collapsed": false,
    "ExecuteTime": {
     "end_time": "2024-02-25T05:14:08.253714Z",
     "start_time": "2024-02-25T05:14:06.438600Z"
    }
   },
   "id": "758858f98b73fa59",
   "execution_count": 34
  },
  {
   "cell_type": "code",
   "outputs": [
    {
     "data": {
      "text/plain": "Series([], Name: Stock Splits, dtype: float64)"
     },
     "execution_count": 35,
     "metadata": {},
     "output_type": "execute_result"
    }
   ],
   "source": [
    "ticker.splits"
   ],
   "metadata": {
    "collapsed": false,
    "ExecuteTime": {
     "end_time": "2024-02-25T05:14:08.256089Z",
     "start_time": "2024-02-25T05:14:06.461483Z"
    }
   },
   "id": "c5dc5709c4a7df99",
   "execution_count": 35
  },
  {
   "cell_type": "code",
   "outputs": [
    {
     "data": {
      "text/plain": "'^GSPC'"
     },
     "execution_count": 36,
     "metadata": {},
     "output_type": "execute_result"
    }
   ],
   "source": [
    "ticker.ticker"
   ],
   "metadata": {
    "collapsed": false,
    "ExecuteTime": {
     "end_time": "2024-02-25T05:14:08.281393Z",
     "start_time": "2024-02-25T05:14:06.477886Z"
    }
   },
   "id": "63b8a4e802e6b02",
   "execution_count": 36
  },
  {
   "cell_type": "code",
   "outputs": [
    {
     "name": "stderr",
     "output_type": "stream",
     "text": [
      "404 Client Error: Not Found for url: https://query2.finance.yahoo.com/v10/finance/quoteSummary/%5EGSPC?modules=upgradeDowngradeHistory&corsDomain=finance.yahoo.com&formatted=false&symbol=%5EGSPC&crumb=1jKF%2F5NCvcT\n"
     ]
    },
    {
     "data": {
      "text/plain": "Empty DataFrame\nColumns: []\nIndex: []",
      "text/html": "<div>\n<style scoped>\n    .dataframe tbody tr th:only-of-type {\n        vertical-align: middle;\n    }\n\n    .dataframe tbody tr th {\n        vertical-align: top;\n    }\n\n    .dataframe thead th {\n        text-align: right;\n    }\n</style>\n<table border=\"1\" class=\"dataframe\">\n  <thead>\n    <tr style=\"text-align: right;\">\n      <th></th>\n    </tr>\n  </thead>\n  <tbody>\n  </tbody>\n</table>\n</div>"
     },
     "execution_count": 37,
     "metadata": {},
     "output_type": "execute_result"
    }
   ],
   "source": [
    "ticker.upgrades_downgrades"
   ],
   "metadata": {
    "collapsed": false,
    "ExecuteTime": {
     "end_time": "2024-02-25T05:14:08.908564Z",
     "start_time": "2024-02-25T05:14:06.495698Z"
    }
   },
   "id": "3907d705456d214",
   "execution_count": 37
  }
 ],
 "metadata": {
  "kernelspec": {
   "display_name": "Python 3",
   "language": "python",
   "name": "python3"
  },
  "language_info": {
   "codemirror_mode": {
    "name": "ipython",
    "version": 2
   },
   "file_extension": ".py",
   "mimetype": "text/x-python",
   "name": "python",
   "nbconvert_exporter": "python",
   "pygments_lexer": "ipython2",
   "version": "2.7.6"
  }
 },
 "nbformat": 4,
 "nbformat_minor": 5
}
