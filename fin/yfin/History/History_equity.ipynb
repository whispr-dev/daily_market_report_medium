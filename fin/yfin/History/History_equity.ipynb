{
 "cells": [
  {
   "cell_type": "code",
   "execution_count": 28,
   "id": "initial_id",
   "metadata": {
    "collapsed": true,
    "ExecuteTime": {
     "end_time": "2024-02-25T05:06:53.867773Z",
     "start_time": "2024-02-25T05:06:53.836022Z"
    }
   },
   "outputs": [],
   "source": [
    "import yfinance as yf\n",
    "import warnings\n",
    "warnings.filterwarnings(\"ignore\")\n",
    "ticker = yf.Ticker(\"AAPL\")"
   ]
  },
  {
   "cell_type": "code",
   "outputs": [
    {
     "data": {
      "text/plain": "                                Open       High        Low      Close  \\\nDate                                                                    \n2014-02-24 00:00:00-05:00  16.457089  16.670057  16.434125  16.595501   \n2014-02-25 00:00:00-05:00  16.653072  16.659048  16.389457  16.422802   \n2014-02-26 00:00:00-05:00  16.471555  16.515281  16.219579  16.274630   \n2014-02-27 00:00:00-05:00  16.268029  16.634197  16.233740  16.599279   \n2014-02-28 00:00:00-05:00  16.643635  16.759086  16.424690  16.554296   \n\n                              Volume  Dividends  Stock Splits  \nDate                                                           \n2014-02-24 00:00:00-05:00  288909600        0.0           0.0  \n2014-02-25 00:00:00-05:00  231952000        0.0           0.0  \n2014-02-26 00:00:00-05:00  276217200        0.0           0.0  \n2014-02-27 00:00:00-05:00  301882000        0.0           0.0  \n2014-02-28 00:00:00-05:00  371968800        0.0           0.0  ",
      "text/html": "<div>\n<style scoped>\n    .dataframe tbody tr th:only-of-type {\n        vertical-align: middle;\n    }\n\n    .dataframe tbody tr th {\n        vertical-align: top;\n    }\n\n    .dataframe thead th {\n        text-align: right;\n    }\n</style>\n<table border=\"1\" class=\"dataframe\">\n  <thead>\n    <tr style=\"text-align: right;\">\n      <th></th>\n      <th>Open</th>\n      <th>High</th>\n      <th>Low</th>\n      <th>Close</th>\n      <th>Volume</th>\n      <th>Dividends</th>\n      <th>Stock Splits</th>\n    </tr>\n    <tr>\n      <th>Date</th>\n      <th></th>\n      <th></th>\n      <th></th>\n      <th></th>\n      <th></th>\n      <th></th>\n      <th></th>\n    </tr>\n  </thead>\n  <tbody>\n    <tr>\n      <th>2014-02-24 00:00:00-05:00</th>\n      <td>16.457089</td>\n      <td>16.670057</td>\n      <td>16.434125</td>\n      <td>16.595501</td>\n      <td>288909600</td>\n      <td>0.0</td>\n      <td>0.0</td>\n    </tr>\n    <tr>\n      <th>2014-02-25 00:00:00-05:00</th>\n      <td>16.653072</td>\n      <td>16.659048</td>\n      <td>16.389457</td>\n      <td>16.422802</td>\n      <td>231952000</td>\n      <td>0.0</td>\n      <td>0.0</td>\n    </tr>\n    <tr>\n      <th>2014-02-26 00:00:00-05:00</th>\n      <td>16.471555</td>\n      <td>16.515281</td>\n      <td>16.219579</td>\n      <td>16.274630</td>\n      <td>276217200</td>\n      <td>0.0</td>\n      <td>0.0</td>\n    </tr>\n    <tr>\n      <th>2014-02-27 00:00:00-05:00</th>\n      <td>16.268029</td>\n      <td>16.634197</td>\n      <td>16.233740</td>\n      <td>16.599279</td>\n      <td>301882000</td>\n      <td>0.0</td>\n      <td>0.0</td>\n    </tr>\n    <tr>\n      <th>2014-02-28 00:00:00-05:00</th>\n      <td>16.643635</td>\n      <td>16.759086</td>\n      <td>16.424690</td>\n      <td>16.554296</td>\n      <td>371968800</td>\n      <td>0.0</td>\n      <td>0.0</td>\n    </tr>\n  </tbody>\n</table>\n</div>"
     },
     "execution_count": 29,
     "metadata": {},
     "output_type": "execute_result"
    }
   ],
   "source": [
    "history = ticker.history(period=\"10y\")\n",
    "history.head()"
   ],
   "metadata": {
    "collapsed": false,
    "ExecuteTime": {
     "end_time": "2024-02-25T05:06:54.448292Z",
     "start_time": "2024-02-25T05:06:53.882824Z"
    }
   },
   "id": "cb18bf9f16551f4a",
   "execution_count": 29
  },
  {
   "cell_type": "code",
   "outputs": [
    {
     "name": "stdout",
     "output_type": "stream",
     "text": [
      "Got a dataframe from date 2014-02-24 00:00:00-05:00 to 2024-02-23 00:00:00-05:00\n"
     ]
    },
    {
     "data": {
      "text/plain": "                                Open       High        Low      Close  \\\nDate                                                                    \n2014-02-24 00:00:00-05:00  16.457089  16.670057  16.434125  16.595501   \n2014-02-25 00:00:00-05:00  16.653072  16.659048  16.389457  16.422802   \n2014-02-26 00:00:00-05:00  16.471555  16.515281  16.219579  16.274630   \n2014-02-27 00:00:00-05:00  16.268029  16.634197  16.233740  16.599279   \n2014-02-28 00:00:00-05:00  16.643635  16.759086  16.424690  16.554296   \n\n                              Volume  Dividends  Stock Splits  \nDate                                                           \n2014-02-24 00:00:00-05:00  288909600        0.0           0.0  \n2014-02-25 00:00:00-05:00  231952000        0.0           0.0  \n2014-02-26 00:00:00-05:00  276217200        0.0           0.0  \n2014-02-27 00:00:00-05:00  301882000        0.0           0.0  \n2014-02-28 00:00:00-05:00  371968800        0.0           0.0  ",
      "text/html": "<div>\n<style scoped>\n    .dataframe tbody tr th:only-of-type {\n        vertical-align: middle;\n    }\n\n    .dataframe tbody tr th {\n        vertical-align: top;\n    }\n\n    .dataframe thead th {\n        text-align: right;\n    }\n</style>\n<table border=\"1\" class=\"dataframe\">\n  <thead>\n    <tr style=\"text-align: right;\">\n      <th></th>\n      <th>Open</th>\n      <th>High</th>\n      <th>Low</th>\n      <th>Close</th>\n      <th>Volume</th>\n      <th>Dividends</th>\n      <th>Stock Splits</th>\n    </tr>\n    <tr>\n      <th>Date</th>\n      <th></th>\n      <th></th>\n      <th></th>\n      <th></th>\n      <th></th>\n      <th></th>\n      <th></th>\n    </tr>\n  </thead>\n  <tbody>\n    <tr>\n      <th>2014-02-24 00:00:00-05:00</th>\n      <td>16.457089</td>\n      <td>16.670057</td>\n      <td>16.434125</td>\n      <td>16.595501</td>\n      <td>288909600</td>\n      <td>0.0</td>\n      <td>0.0</td>\n    </tr>\n    <tr>\n      <th>2014-02-25 00:00:00-05:00</th>\n      <td>16.653072</td>\n      <td>16.659048</td>\n      <td>16.389457</td>\n      <td>16.422802</td>\n      <td>231952000</td>\n      <td>0.0</td>\n      <td>0.0</td>\n    </tr>\n    <tr>\n      <th>2014-02-26 00:00:00-05:00</th>\n      <td>16.471555</td>\n      <td>16.515281</td>\n      <td>16.219579</td>\n      <td>16.274630</td>\n      <td>276217200</td>\n      <td>0.0</td>\n      <td>0.0</td>\n    </tr>\n    <tr>\n      <th>2014-02-27 00:00:00-05:00</th>\n      <td>16.268029</td>\n      <td>16.634197</td>\n      <td>16.233740</td>\n      <td>16.599279</td>\n      <td>301882000</td>\n      <td>0.0</td>\n      <td>0.0</td>\n    </tr>\n    <tr>\n      <th>2014-02-28 00:00:00-05:00</th>\n      <td>16.643635</td>\n      <td>16.759086</td>\n      <td>16.424690</td>\n      <td>16.554296</td>\n      <td>371968800</td>\n      <td>0.0</td>\n      <td>0.0</td>\n    </tr>\n  </tbody>\n</table>\n</div>"
     },
     "execution_count": 30,
     "metadata": {},
     "output_type": "execute_result"
    }
   ],
   "source": [
    "history = ticker.history(period=\"10y\")\n",
    "print(f'Got a dataframe from date {history.index[0]} to {history.index[-1]}')\n",
    "history.head()"
   ],
   "metadata": {
    "collapsed": false,
    "ExecuteTime": {
     "end_time": "2024-02-25T05:06:54.711154Z",
     "start_time": "2024-02-25T05:06:54.450514Z"
    }
   },
   "id": "503421e9c477f2cf",
   "execution_count": 30
  },
  {
   "cell_type": "code",
   "outputs": [
    {
     "name": "stdout",
     "output_type": "stream",
     "text": [
      "Got a dataframe from date 2024-02-20 09:30:00-05:00 to 2024-02-23 15:59:00-05:00\n"
     ]
    },
    {
     "data": {
      "text/plain": "                                 Open        High         Low       Close  \\\nDatetime                                                                    \n2024-02-20 09:30:00-05:00  182.000000  182.072205  181.960007  182.072205   \n2024-02-20 09:31:00-05:00  182.069901  182.199997  181.929993  182.184998   \n2024-02-20 09:32:00-05:00  182.169998  182.429993  182.089996  182.345001   \n2024-02-20 09:33:00-05:00  182.380005  182.399994  182.160004  182.171097   \n2024-02-20 09:34:00-05:00  182.169998  182.220093  181.910004  182.104996   \n\n                            Volume  Dividends  Stock Splits  \nDatetime                                                     \n2024-02-20 09:30:00-05:00  2199293        0.0           0.0  \n2024-02-20 09:31:00-05:00   220829        0.0           0.0  \n2024-02-20 09:32:00-05:00   290450        0.0           0.0  \n2024-02-20 09:33:00-05:00   208429        0.0           0.0  \n2024-02-20 09:34:00-05:00   224909        0.0           0.0  ",
      "text/html": "<div>\n<style scoped>\n    .dataframe tbody tr th:only-of-type {\n        vertical-align: middle;\n    }\n\n    .dataframe tbody tr th {\n        vertical-align: top;\n    }\n\n    .dataframe thead th {\n        text-align: right;\n    }\n</style>\n<table border=\"1\" class=\"dataframe\">\n  <thead>\n    <tr style=\"text-align: right;\">\n      <th></th>\n      <th>Open</th>\n      <th>High</th>\n      <th>Low</th>\n      <th>Close</th>\n      <th>Volume</th>\n      <th>Dividends</th>\n      <th>Stock Splits</th>\n    </tr>\n    <tr>\n      <th>Datetime</th>\n      <th></th>\n      <th></th>\n      <th></th>\n      <th></th>\n      <th></th>\n      <th></th>\n      <th></th>\n    </tr>\n  </thead>\n  <tbody>\n    <tr>\n      <th>2024-02-20 09:30:00-05:00</th>\n      <td>182.000000</td>\n      <td>182.072205</td>\n      <td>181.960007</td>\n      <td>182.072205</td>\n      <td>2199293</td>\n      <td>0.0</td>\n      <td>0.0</td>\n    </tr>\n    <tr>\n      <th>2024-02-20 09:31:00-05:00</th>\n      <td>182.069901</td>\n      <td>182.199997</td>\n      <td>181.929993</td>\n      <td>182.184998</td>\n      <td>220829</td>\n      <td>0.0</td>\n      <td>0.0</td>\n    </tr>\n    <tr>\n      <th>2024-02-20 09:32:00-05:00</th>\n      <td>182.169998</td>\n      <td>182.429993</td>\n      <td>182.089996</td>\n      <td>182.345001</td>\n      <td>290450</td>\n      <td>0.0</td>\n      <td>0.0</td>\n    </tr>\n    <tr>\n      <th>2024-02-20 09:33:00-05:00</th>\n      <td>182.380005</td>\n      <td>182.399994</td>\n      <td>182.160004</td>\n      <td>182.171097</td>\n      <td>208429</td>\n      <td>0.0</td>\n      <td>0.0</td>\n    </tr>\n    <tr>\n      <th>2024-02-20 09:34:00-05:00</th>\n      <td>182.169998</td>\n      <td>182.220093</td>\n      <td>181.910004</td>\n      <td>182.104996</td>\n      <td>224909</td>\n      <td>0.0</td>\n      <td>0.0</td>\n    </tr>\n  </tbody>\n</table>\n</div>"
     },
     "execution_count": 31,
     "metadata": {},
     "output_type": "execute_result"
    }
   ],
   "source": [
    "history = ticker.history(period=\"1wk\", interval=\"1m\")\n",
    "print(f'Got a dataframe from date {history.index[0]} to {history.index[-1]}')\n",
    "history.head()"
   ],
   "metadata": {
    "collapsed": false,
    "ExecuteTime": {
     "end_time": "2024-02-25T05:06:54.976741Z",
     "start_time": "2024-02-25T05:06:54.602297Z"
    }
   },
   "id": "d42b91931b10245c",
   "execution_count": 31
  },
  {
   "cell_type": "code",
   "outputs": [
    {
     "name": "stdout",
     "output_type": "stream",
     "text": [
      "Got a dataframe from date 2020-01-02 00:00:00-05:00 to 2024-02-23 00:00:00-05:00\n"
     ]
    },
    {
     "data": {
      "text/plain": "                                Open       High        Low      Close  \\\nDate                                                                    \n2020-01-02 00:00:00-05:00  72.059659  73.120222  71.804252  73.059410   \n2020-01-03 00:00:00-05:00  72.281027  73.115365  72.122918  72.349136   \n2020-01-06 00:00:00-05:00  71.463723  72.964557  71.210743  72.925636   \n2020-01-07 00:00:00-05:00  72.935369  73.193211  72.361308  72.582664   \n2020-01-08 00:00:00-05:00  72.283469  74.054311  72.283469  73.750252   \n\n                              Volume  Dividends  Stock Splits  \nDate                                                           \n2020-01-02 00:00:00-05:00  135480400        0.0           0.0  \n2020-01-03 00:00:00-05:00  146322800        0.0           0.0  \n2020-01-06 00:00:00-05:00  118387200        0.0           0.0  \n2020-01-07 00:00:00-05:00  108872000        0.0           0.0  \n2020-01-08 00:00:00-05:00  132079200        0.0           0.0  ",
      "text/html": "<div>\n<style scoped>\n    .dataframe tbody tr th:only-of-type {\n        vertical-align: middle;\n    }\n\n    .dataframe tbody tr th {\n        vertical-align: top;\n    }\n\n    .dataframe thead th {\n        text-align: right;\n    }\n</style>\n<table border=\"1\" class=\"dataframe\">\n  <thead>\n    <tr style=\"text-align: right;\">\n      <th></th>\n      <th>Open</th>\n      <th>High</th>\n      <th>Low</th>\n      <th>Close</th>\n      <th>Volume</th>\n      <th>Dividends</th>\n      <th>Stock Splits</th>\n    </tr>\n    <tr>\n      <th>Date</th>\n      <th></th>\n      <th></th>\n      <th></th>\n      <th></th>\n      <th></th>\n      <th></th>\n      <th></th>\n    </tr>\n  </thead>\n  <tbody>\n    <tr>\n      <th>2020-01-02 00:00:00-05:00</th>\n      <td>72.059659</td>\n      <td>73.120222</td>\n      <td>71.804252</td>\n      <td>73.059410</td>\n      <td>135480400</td>\n      <td>0.0</td>\n      <td>0.0</td>\n    </tr>\n    <tr>\n      <th>2020-01-03 00:00:00-05:00</th>\n      <td>72.281027</td>\n      <td>73.115365</td>\n      <td>72.122918</td>\n      <td>72.349136</td>\n      <td>146322800</td>\n      <td>0.0</td>\n      <td>0.0</td>\n    </tr>\n    <tr>\n      <th>2020-01-06 00:00:00-05:00</th>\n      <td>71.463723</td>\n      <td>72.964557</td>\n      <td>71.210743</td>\n      <td>72.925636</td>\n      <td>118387200</td>\n      <td>0.0</td>\n      <td>0.0</td>\n    </tr>\n    <tr>\n      <th>2020-01-07 00:00:00-05:00</th>\n      <td>72.935369</td>\n      <td>73.193211</td>\n      <td>72.361308</td>\n      <td>72.582664</td>\n      <td>108872000</td>\n      <td>0.0</td>\n      <td>0.0</td>\n    </tr>\n    <tr>\n      <th>2020-01-08 00:00:00-05:00</th>\n      <td>72.283469</td>\n      <td>74.054311</td>\n      <td>72.283469</td>\n      <td>73.750252</td>\n      <td>132079200</td>\n      <td>0.0</td>\n      <td>0.0</td>\n    </tr>\n  </tbody>\n</table>\n</div>"
     },
     "execution_count": 32,
     "metadata": {},
     "output_type": "execute_result"
    }
   ],
   "source": [
    "#period is overridden by start\n",
    "history = ticker.history(period=\"1y\", start=\"2020-01-01\", interval=\"1d\")\n",
    "print(f'Got a dataframe from date {history.index[0]} to {history.index[-1]}')\n",
    "history.head()"
   ],
   "metadata": {
    "collapsed": false,
    "ExecuteTime": {
     "end_time": "2024-02-25T05:06:55.188764Z",
     "start_time": "2024-02-25T05:06:54.821752Z"
    }
   },
   "id": "e0adc603d9e7068a",
   "execution_count": 32
  },
  {
   "cell_type": "code",
   "outputs": [
    {
     "name": "stderr",
     "output_type": "stream",
     "text": [
      "AAPL: No price data found, symbol may be delisted (period=1y)\n"
     ]
    },
    {
     "ename": "IndexError",
     "evalue": "index 0 is out of bounds for axis 0 with size 0",
     "output_type": "error",
     "traceback": [
      "\u001B[0;31m---------------------------------------------------------------------------\u001B[0m",
      "\u001B[0;31mIndexError\u001B[0m                                Traceback (most recent call last)",
      "Cell \u001B[0;32mIn[33], line 3\u001B[0m\n\u001B[1;32m      1\u001B[0m \u001B[38;5;66;03m# error when passes from\u001B[39;00m\n\u001B[1;32m      2\u001B[0m history \u001B[38;5;241m=\u001B[39m ticker\u001B[38;5;241m.\u001B[39mhistory(period\u001B[38;5;241m=\u001B[39m\u001B[38;5;124m\"\u001B[39m\u001B[38;5;124m1y\u001B[39m\u001B[38;5;124m\"\u001B[39m, end\u001B[38;5;241m=\u001B[39m\u001B[38;5;124m\"\u001B[39m\u001B[38;5;124m2020-01-01\u001B[39m\u001B[38;5;124m\"\u001B[39m, interval\u001B[38;5;241m=\u001B[39m\u001B[38;5;124m\"\u001B[39m\u001B[38;5;124m1d\u001B[39m\u001B[38;5;124m\"\u001B[39m)\n\u001B[0;32m----> 3\u001B[0m \u001B[38;5;28mprint\u001B[39m(\u001B[38;5;124mf\u001B[39m\u001B[38;5;124m'\u001B[39m\u001B[38;5;124mGot a dataframe from date \u001B[39m\u001B[38;5;132;01m{\u001B[39;00mhistory\u001B[38;5;241m.\u001B[39mindex[\u001B[38;5;241m0\u001B[39m]\u001B[38;5;132;01m}\u001B[39;00m\u001B[38;5;124m to \u001B[39m\u001B[38;5;132;01m{\u001B[39;00mhistory\u001B[38;5;241m.\u001B[39mindex[\u001B[38;5;241m-\u001B[39m\u001B[38;5;241m1\u001B[39m]\u001B[38;5;132;01m}\u001B[39;00m\u001B[38;5;124m'\u001B[39m)\n\u001B[1;32m      4\u001B[0m history\u001B[38;5;241m.\u001B[39mhead()\n",
      "File \u001B[0;32m~/PycharmProjects/yfinance_guide_and_sample_code/venv/lib/python3.9/site-packages/pandas/core/indexes/base.py:5389\u001B[0m, in \u001B[0;36mIndex.__getitem__\u001B[0;34m(self, key)\u001B[0m\n\u001B[1;32m   5386\u001B[0m \u001B[38;5;28;01mif\u001B[39;00m is_integer(key) \u001B[38;5;129;01mor\u001B[39;00m is_float(key):\n\u001B[1;32m   5387\u001B[0m     \u001B[38;5;66;03m# GH#44051 exclude bool, which would return a 2d ndarray\u001B[39;00m\n\u001B[1;32m   5388\u001B[0m     key \u001B[38;5;241m=\u001B[39m com\u001B[38;5;241m.\u001B[39mcast_scalar_indexer(key)\n\u001B[0;32m-> 5389\u001B[0m     \u001B[38;5;28;01mreturn\u001B[39;00m \u001B[43mgetitem\u001B[49m\u001B[43m(\u001B[49m\u001B[43mkey\u001B[49m\u001B[43m)\u001B[49m\n\u001B[1;32m   5391\u001B[0m \u001B[38;5;28;01mif\u001B[39;00m \u001B[38;5;28misinstance\u001B[39m(key, \u001B[38;5;28mslice\u001B[39m):\n\u001B[1;32m   5392\u001B[0m     \u001B[38;5;66;03m# This case is separated from the conditional above to avoid\u001B[39;00m\n\u001B[1;32m   5393\u001B[0m     \u001B[38;5;66;03m# pessimization com.is_bool_indexer and ndim checks.\u001B[39;00m\n\u001B[1;32m   5394\u001B[0m     \u001B[38;5;28;01mreturn\u001B[39;00m \u001B[38;5;28mself\u001B[39m\u001B[38;5;241m.\u001B[39m_getitem_slice(key)\n",
      "\u001B[0;31mIndexError\u001B[0m: index 0 is out of bounds for axis 0 with size 0"
     ]
    }
   ],
   "source": [
    "# error when passes from\n",
    "history = ticker.history(period=\"1y\", end=\"2020-01-01\", interval=\"1d\")\n",
    "print(f'Got a dataframe from date {history.index[0]} to {history.index[-1]}')\n",
    "history.head()"
   ],
   "metadata": {
    "collapsed": false,
    "ExecuteTime": {
     "end_time": "2024-02-25T05:06:55.414567Z",
     "start_time": "2024-02-25T05:06:55.060484Z"
    }
   },
   "id": "92f3ff2db43fc264",
   "execution_count": 33
  },
  {
   "cell_type": "code",
   "outputs": [
    {
     "name": "stdout",
     "output_type": "stream",
     "text": [
      "Got a dataframe from date 1980-12-12 00:00:00-05:00 to 2024-02-23 00:00:00-05:00\n"
     ]
    },
    {
     "data": {
      "text/plain": "                               Open      High       Low     Close     Volume  \\\nDate                                                                           \n1980-12-12 00:00:00-05:00  0.099192  0.099623  0.099192  0.099192  469033600   \n1980-12-15 00:00:00-05:00  0.094448  0.094448  0.094017  0.094017  175884800   \n1980-12-16 00:00:00-05:00  0.087548  0.087548  0.087117  0.087117  105728000   \n1980-12-17 00:00:00-05:00  0.089273  0.089704  0.089273  0.089273   86441600   \n1980-12-18 00:00:00-05:00  0.091861  0.092292  0.091861  0.091861   73449600   \n\n                           Dividends  Stock Splits  \nDate                                                \n1980-12-12 00:00:00-05:00        0.0           0.0  \n1980-12-15 00:00:00-05:00        0.0           0.0  \n1980-12-16 00:00:00-05:00        0.0           0.0  \n1980-12-17 00:00:00-05:00        0.0           0.0  \n1980-12-18 00:00:00-05:00        0.0           0.0  ",
      "text/html": "<div>\n<style scoped>\n    .dataframe tbody tr th:only-of-type {\n        vertical-align: middle;\n    }\n\n    .dataframe tbody tr th {\n        vertical-align: top;\n    }\n\n    .dataframe thead th {\n        text-align: right;\n    }\n</style>\n<table border=\"1\" class=\"dataframe\">\n  <thead>\n    <tr style=\"text-align: right;\">\n      <th></th>\n      <th>Open</th>\n      <th>High</th>\n      <th>Low</th>\n      <th>Close</th>\n      <th>Volume</th>\n      <th>Dividends</th>\n      <th>Stock Splits</th>\n    </tr>\n    <tr>\n      <th>Date</th>\n      <th></th>\n      <th></th>\n      <th></th>\n      <th></th>\n      <th></th>\n      <th></th>\n      <th></th>\n    </tr>\n  </thead>\n  <tbody>\n    <tr>\n      <th>1980-12-12 00:00:00-05:00</th>\n      <td>0.099192</td>\n      <td>0.099623</td>\n      <td>0.099192</td>\n      <td>0.099192</td>\n      <td>469033600</td>\n      <td>0.0</td>\n      <td>0.0</td>\n    </tr>\n    <tr>\n      <th>1980-12-15 00:00:00-05:00</th>\n      <td>0.094448</td>\n      <td>0.094448</td>\n      <td>0.094017</td>\n      <td>0.094017</td>\n      <td>175884800</td>\n      <td>0.0</td>\n      <td>0.0</td>\n    </tr>\n    <tr>\n      <th>1980-12-16 00:00:00-05:00</th>\n      <td>0.087548</td>\n      <td>0.087548</td>\n      <td>0.087117</td>\n      <td>0.087117</td>\n      <td>105728000</td>\n      <td>0.0</td>\n      <td>0.0</td>\n    </tr>\n    <tr>\n      <th>1980-12-17 00:00:00-05:00</th>\n      <td>0.089273</td>\n      <td>0.089704</td>\n      <td>0.089273</td>\n      <td>0.089273</td>\n      <td>86441600</td>\n      <td>0.0</td>\n      <td>0.0</td>\n    </tr>\n    <tr>\n      <th>1980-12-18 00:00:00-05:00</th>\n      <td>0.091861</td>\n      <td>0.092292</td>\n      <td>0.091861</td>\n      <td>0.091861</td>\n      <td>73449600</td>\n      <td>0.0</td>\n      <td>0.0</td>\n    </tr>\n  </tbody>\n</table>\n</div>"
     },
     "execution_count": 34,
     "metadata": {},
     "output_type": "execute_result"
    }
   ],
   "source": [
    "history = ticker.history(period=\"max\", interval=\"1d\")\n",
    "print(f'Got a dataframe from date {history.index[0]} to {history.index[-1]}')\n",
    "history.head()"
   ],
   "metadata": {
    "collapsed": false,
    "ExecuteTime": {
     "end_time": "2024-02-25T05:07:05.105518Z",
     "start_time": "2024-02-25T05:07:04.274028Z"
    }
   },
   "id": "5341ff69ab5920cc",
   "execution_count": 34
  },
  {
   "cell_type": "code",
   "outputs": [
    {
     "data": {
      "text/plain": "{'currency': 'USD',\n 'symbol': 'AAPL',\n 'exchangeName': 'NMS',\n 'instrumentType': 'EQUITY',\n 'firstTradeDate': 345479400,\n 'regularMarketTime': 1708722001,\n 'hasPrePostMarketData': True,\n 'gmtoffset': -18000,\n 'timezone': 'EST',\n 'exchangeTimezoneName': 'America/New_York',\n 'regularMarketPrice': 182.52,\n 'chartPreviousClose': 0.128,\n 'priceHint': 2,\n 'currentTradingPeriod': {'pre': {'timezone': 'EST',\n   'start': 1708678800,\n   'end': 1708698600,\n   'gmtoffset': -18000},\n  'regular': {'timezone': 'EST',\n   'start': 1708698600,\n   'end': 1708722000,\n   'gmtoffset': -18000},\n  'post': {'timezone': 'EST',\n   'start': 1708722000,\n   'end': 1708736400,\n   'gmtoffset': -18000}},\n 'dataGranularity': '1d',\n 'range': '',\n 'validRanges': ['1d',\n  '5d',\n  '1mo',\n  '3mo',\n  '6mo',\n  '1y',\n  '2y',\n  '5y',\n  '10y',\n  'ytd',\n  'max']}"
     },
     "execution_count": 35,
     "metadata": {},
     "output_type": "execute_result"
    }
   ],
   "source": [
    "ticker.history_metadata"
   ],
   "metadata": {
    "collapsed": false,
    "ExecuteTime": {
     "end_time": "2024-02-25T05:07:07.647236Z",
     "start_time": "2024-02-25T05:07:07.636171Z"
    }
   },
   "id": "ccd0299d4457883c",
   "execution_count": 35
  }
 ],
 "metadata": {
  "kernelspec": {
   "display_name": "Python 3",
   "language": "python",
   "name": "python3"
  },
  "language_info": {
   "codemirror_mode": {
    "name": "ipython",
    "version": 2
   },
   "file_extension": ".py",
   "mimetype": "text/x-python",
   "name": "python",
   "nbconvert_exporter": "python",
   "pygments_lexer": "ipython2",
   "version": "2.7.6"
  }
 },
 "nbformat": 4,
 "nbformat_minor": 5
}
