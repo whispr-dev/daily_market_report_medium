{
 "cells": [
  {
   "cell_type": "code",
   "execution_count": 8,
   "id": "initial_id",
   "metadata": {
    "collapsed": true,
    "ExecuteTime": {
     "end_time": "2024-02-25T05:07:14.041891Z",
     "start_time": "2024-02-25T05:07:14.019032Z"
    }
   },
   "outputs": [],
   "source": [
    "import yfinance as yf\n",
    "import warnings\n",
    "warnings.filterwarnings(\"ignore\")\n",
    "ticker = yf.Ticker(\"GDX\")"
   ]
  },
  {
   "cell_type": "code",
   "outputs": [
    {
     "data": {
      "text/plain": "                                Open       High        Low      Close  \\\nDate                                                                    \n2014-02-24 00:00:00-05:00  24.487332  24.541950  24.296168  24.305271   \n2014-02-25 00:00:00-05:00  24.277962  24.396301  23.941146  23.968456   \n2014-02-26 00:00:00-05:00  23.759086  23.941147  23.467787  23.713570   \n2014-02-27 00:00:00-05:00  23.795498  24.095900  23.586127  23.640745   \n2014-02-28 00:00:00-05:00  23.740881  23.822810  23.440479  23.558819   \n\n                             Volume  Dividends  Stock Splits  Capital Gains  \nDate                                                                         \n2014-02-24 00:00:00-05:00  26237700        0.0           0.0            0.0  \n2014-02-25 00:00:00-05:00  33248100        0.0           0.0            0.0  \n2014-02-26 00:00:00-05:00  37403200        0.0           0.0            0.0  \n2014-02-27 00:00:00-05:00  24135500        0.0           0.0            0.0  \n2014-02-28 00:00:00-05:00  26854600        0.0           0.0            0.0  ",
      "text/html": "<div>\n<style scoped>\n    .dataframe tbody tr th:only-of-type {\n        vertical-align: middle;\n    }\n\n    .dataframe tbody tr th {\n        vertical-align: top;\n    }\n\n    .dataframe thead th {\n        text-align: right;\n    }\n</style>\n<table border=\"1\" class=\"dataframe\">\n  <thead>\n    <tr style=\"text-align: right;\">\n      <th></th>\n      <th>Open</th>\n      <th>High</th>\n      <th>Low</th>\n      <th>Close</th>\n      <th>Volume</th>\n      <th>Dividends</th>\n      <th>Stock Splits</th>\n      <th>Capital Gains</th>\n    </tr>\n    <tr>\n      <th>Date</th>\n      <th></th>\n      <th></th>\n      <th></th>\n      <th></th>\n      <th></th>\n      <th></th>\n      <th></th>\n      <th></th>\n    </tr>\n  </thead>\n  <tbody>\n    <tr>\n      <th>2014-02-24 00:00:00-05:00</th>\n      <td>24.487332</td>\n      <td>24.541950</td>\n      <td>24.296168</td>\n      <td>24.305271</td>\n      <td>26237700</td>\n      <td>0.0</td>\n      <td>0.0</td>\n      <td>0.0</td>\n    </tr>\n    <tr>\n      <th>2014-02-25 00:00:00-05:00</th>\n      <td>24.277962</td>\n      <td>24.396301</td>\n      <td>23.941146</td>\n      <td>23.968456</td>\n      <td>33248100</td>\n      <td>0.0</td>\n      <td>0.0</td>\n      <td>0.0</td>\n    </tr>\n    <tr>\n      <th>2014-02-26 00:00:00-05:00</th>\n      <td>23.759086</td>\n      <td>23.941147</td>\n      <td>23.467787</td>\n      <td>23.713570</td>\n      <td>37403200</td>\n      <td>0.0</td>\n      <td>0.0</td>\n      <td>0.0</td>\n    </tr>\n    <tr>\n      <th>2014-02-27 00:00:00-05:00</th>\n      <td>23.795498</td>\n      <td>24.095900</td>\n      <td>23.586127</td>\n      <td>23.640745</td>\n      <td>24135500</td>\n      <td>0.0</td>\n      <td>0.0</td>\n      <td>0.0</td>\n    </tr>\n    <tr>\n      <th>2014-02-28 00:00:00-05:00</th>\n      <td>23.740881</td>\n      <td>23.822810</td>\n      <td>23.440479</td>\n      <td>23.558819</td>\n      <td>26854600</td>\n      <td>0.0</td>\n      <td>0.0</td>\n      <td>0.0</td>\n    </tr>\n  </tbody>\n</table>\n</div>"
     },
     "execution_count": 9,
     "metadata": {},
     "output_type": "execute_result"
    }
   ],
   "source": [
    "history = ticker.history(period=\"10y\")\n",
    "history.head()"
   ],
   "metadata": {
    "collapsed": false,
    "ExecuteTime": {
     "end_time": "2024-02-25T05:07:14.586459Z",
     "start_time": "2024-02-25T05:07:14.120550Z"
    }
   },
   "id": "cb18bf9f16551f4a",
   "execution_count": 9
  },
  {
   "cell_type": "code",
   "outputs": [
    {
     "name": "stdout",
     "output_type": "stream",
     "text": [
      "Got a dataframe from date 2014-02-24 00:00:00-05:00 to 2024-02-23 00:00:00-05:00\n"
     ]
    },
    {
     "data": {
      "text/plain": "                                Open       High        Low      Close  \\\nDate                                                                    \n2014-02-24 00:00:00-05:00  24.487332  24.541950  24.296168  24.305271   \n2014-02-25 00:00:00-05:00  24.277962  24.396301  23.941146  23.968456   \n2014-02-26 00:00:00-05:00  23.759086  23.941147  23.467787  23.713570   \n2014-02-27 00:00:00-05:00  23.795498  24.095900  23.586127  23.640745   \n2014-02-28 00:00:00-05:00  23.740881  23.822810  23.440479  23.558819   \n\n                             Volume  Dividends  Stock Splits  Capital Gains  \nDate                                                                         \n2014-02-24 00:00:00-05:00  26237700        0.0           0.0            0.0  \n2014-02-25 00:00:00-05:00  33248100        0.0           0.0            0.0  \n2014-02-26 00:00:00-05:00  37403200        0.0           0.0            0.0  \n2014-02-27 00:00:00-05:00  24135500        0.0           0.0            0.0  \n2014-02-28 00:00:00-05:00  26854600        0.0           0.0            0.0  ",
      "text/html": "<div>\n<style scoped>\n    .dataframe tbody tr th:only-of-type {\n        vertical-align: middle;\n    }\n\n    .dataframe tbody tr th {\n        vertical-align: top;\n    }\n\n    .dataframe thead th {\n        text-align: right;\n    }\n</style>\n<table border=\"1\" class=\"dataframe\">\n  <thead>\n    <tr style=\"text-align: right;\">\n      <th></th>\n      <th>Open</th>\n      <th>High</th>\n      <th>Low</th>\n      <th>Close</th>\n      <th>Volume</th>\n      <th>Dividends</th>\n      <th>Stock Splits</th>\n      <th>Capital Gains</th>\n    </tr>\n    <tr>\n      <th>Date</th>\n      <th></th>\n      <th></th>\n      <th></th>\n      <th></th>\n      <th></th>\n      <th></th>\n      <th></th>\n      <th></th>\n    </tr>\n  </thead>\n  <tbody>\n    <tr>\n      <th>2014-02-24 00:00:00-05:00</th>\n      <td>24.487332</td>\n      <td>24.541950</td>\n      <td>24.296168</td>\n      <td>24.305271</td>\n      <td>26237700</td>\n      <td>0.0</td>\n      <td>0.0</td>\n      <td>0.0</td>\n    </tr>\n    <tr>\n      <th>2014-02-25 00:00:00-05:00</th>\n      <td>24.277962</td>\n      <td>24.396301</td>\n      <td>23.941146</td>\n      <td>23.968456</td>\n      <td>33248100</td>\n      <td>0.0</td>\n      <td>0.0</td>\n      <td>0.0</td>\n    </tr>\n    <tr>\n      <th>2014-02-26 00:00:00-05:00</th>\n      <td>23.759086</td>\n      <td>23.941147</td>\n      <td>23.467787</td>\n      <td>23.713570</td>\n      <td>37403200</td>\n      <td>0.0</td>\n      <td>0.0</td>\n      <td>0.0</td>\n    </tr>\n    <tr>\n      <th>2014-02-27 00:00:00-05:00</th>\n      <td>23.795498</td>\n      <td>24.095900</td>\n      <td>23.586127</td>\n      <td>23.640745</td>\n      <td>24135500</td>\n      <td>0.0</td>\n      <td>0.0</td>\n      <td>0.0</td>\n    </tr>\n    <tr>\n      <th>2014-02-28 00:00:00-05:00</th>\n      <td>23.740881</td>\n      <td>23.822810</td>\n      <td>23.440479</td>\n      <td>23.558819</td>\n      <td>26854600</td>\n      <td>0.0</td>\n      <td>0.0</td>\n      <td>0.0</td>\n    </tr>\n  </tbody>\n</table>\n</div>"
     },
     "execution_count": 10,
     "metadata": {},
     "output_type": "execute_result"
    }
   ],
   "source": [
    "history = ticker.history(period=\"10y\")\n",
    "print(f'Got a dataframe from date {history.index[0]} to {history.index[-1]}')\n",
    "history.head()"
   ],
   "metadata": {
    "collapsed": false,
    "ExecuteTime": {
     "end_time": "2024-02-25T05:07:14.803463Z",
     "start_time": "2024-02-25T05:07:14.587805Z"
    }
   },
   "id": "503421e9c477f2cf",
   "execution_count": 10
  },
  {
   "cell_type": "code",
   "outputs": [
    {
     "name": "stdout",
     "output_type": "stream",
     "text": [
      "Got a dataframe from date 2024-02-20 09:30:00-05:00 to 2024-02-23 15:59:00-05:00\n"
     ]
    },
    {
     "data": {
      "text/plain": "                                Open       High        Low      Close  Volume  \\\nDatetime                                                                        \n2024-02-20 09:30:00-05:00  27.209999  27.219999  27.195000  27.195000  647961   \n2024-02-20 09:31:00-05:00  27.174999  27.240000  27.139999  27.170000  121269   \n2024-02-20 09:32:00-05:00  27.170000  27.170000  27.080000  27.156900  111352   \n2024-02-20 09:33:00-05:00  27.160000  27.219999  27.150000  27.217899   82502   \n2024-02-20 09:34:00-05:00  27.219999  27.240000  27.150000  27.150000   83409   \n\n                           Dividends  Stock Splits  Capital Gains  \nDatetime                                                           \n2024-02-20 09:30:00-05:00        0.0           0.0            0.0  \n2024-02-20 09:31:00-05:00        0.0           0.0            0.0  \n2024-02-20 09:32:00-05:00        0.0           0.0            0.0  \n2024-02-20 09:33:00-05:00        0.0           0.0            0.0  \n2024-02-20 09:34:00-05:00        0.0           0.0            0.0  ",
      "text/html": "<div>\n<style scoped>\n    .dataframe tbody tr th:only-of-type {\n        vertical-align: middle;\n    }\n\n    .dataframe tbody tr th {\n        vertical-align: top;\n    }\n\n    .dataframe thead th {\n        text-align: right;\n    }\n</style>\n<table border=\"1\" class=\"dataframe\">\n  <thead>\n    <tr style=\"text-align: right;\">\n      <th></th>\n      <th>Open</th>\n      <th>High</th>\n      <th>Low</th>\n      <th>Close</th>\n      <th>Volume</th>\n      <th>Dividends</th>\n      <th>Stock Splits</th>\n      <th>Capital Gains</th>\n    </tr>\n    <tr>\n      <th>Datetime</th>\n      <th></th>\n      <th></th>\n      <th></th>\n      <th></th>\n      <th></th>\n      <th></th>\n      <th></th>\n      <th></th>\n    </tr>\n  </thead>\n  <tbody>\n    <tr>\n      <th>2024-02-20 09:30:00-05:00</th>\n      <td>27.209999</td>\n      <td>27.219999</td>\n      <td>27.195000</td>\n      <td>27.195000</td>\n      <td>647961</td>\n      <td>0.0</td>\n      <td>0.0</td>\n      <td>0.0</td>\n    </tr>\n    <tr>\n      <th>2024-02-20 09:31:00-05:00</th>\n      <td>27.174999</td>\n      <td>27.240000</td>\n      <td>27.139999</td>\n      <td>27.170000</td>\n      <td>121269</td>\n      <td>0.0</td>\n      <td>0.0</td>\n      <td>0.0</td>\n    </tr>\n    <tr>\n      <th>2024-02-20 09:32:00-05:00</th>\n      <td>27.170000</td>\n      <td>27.170000</td>\n      <td>27.080000</td>\n      <td>27.156900</td>\n      <td>111352</td>\n      <td>0.0</td>\n      <td>0.0</td>\n      <td>0.0</td>\n    </tr>\n    <tr>\n      <th>2024-02-20 09:33:00-05:00</th>\n      <td>27.160000</td>\n      <td>27.219999</td>\n      <td>27.150000</td>\n      <td>27.217899</td>\n      <td>82502</td>\n      <td>0.0</td>\n      <td>0.0</td>\n      <td>0.0</td>\n    </tr>\n    <tr>\n      <th>2024-02-20 09:34:00-05:00</th>\n      <td>27.219999</td>\n      <td>27.240000</td>\n      <td>27.150000</td>\n      <td>27.150000</td>\n      <td>83409</td>\n      <td>0.0</td>\n      <td>0.0</td>\n      <td>0.0</td>\n    </tr>\n  </tbody>\n</table>\n</div>"
     },
     "execution_count": 11,
     "metadata": {},
     "output_type": "execute_result"
    }
   ],
   "source": [
    "history = ticker.history(period=\"1wk\", interval=\"1m\")\n",
    "print(f'Got a dataframe from date {history.index[0]} to {history.index[-1]}')\n",
    "history.head()"
   ],
   "metadata": {
    "collapsed": false,
    "ExecuteTime": {
     "end_time": "2024-02-25T05:07:14.929495Z",
     "start_time": "2024-02-25T05:07:14.700696Z"
    }
   },
   "id": "d42b91931b10245c",
   "execution_count": 11
  },
  {
   "cell_type": "code",
   "outputs": [
    {
     "name": "stdout",
     "output_type": "stream",
     "text": [
      "Got a dataframe from date 2020-01-02 00:00:00-05:00 to 2024-02-23 00:00:00-05:00\n"
     ]
    },
    {
     "data": {
      "text/plain": "                                Open       High        Low      Close  \\\nDate                                                                    \n2020-01-02 00:00:00-05:00  28.017701  28.112290  27.535289  27.762306   \n2020-01-03 00:00:00-05:00  28.235258  28.254177  27.440698  27.592043   \n2020-01-06 00:00:00-05:00  28.140668  28.178505  27.440698  27.639338   \n2020-01-07 00:00:00-05:00  27.629879  27.923111  27.450158  27.904192   \n2020-01-08 00:00:00-05:00  27.781224  27.837978  26.598843  26.816401   \n\n                             Volume  Dividends  Stock Splits  Capital Gains  \nDate                                                                         \n2020-01-02 00:00:00-05:00  40709100        0.0           0.0            0.0  \n2020-01-03 00:00:00-05:00  47399500        0.0           0.0            0.0  \n2020-01-06 00:00:00-05:00  45483100        0.0           0.0            0.0  \n2020-01-07 00:00:00-05:00  39181100        0.0           0.0            0.0  \n2020-01-08 00:00:00-05:00  94319100        0.0           0.0            0.0  ",
      "text/html": "<div>\n<style scoped>\n    .dataframe tbody tr th:only-of-type {\n        vertical-align: middle;\n    }\n\n    .dataframe tbody tr th {\n        vertical-align: top;\n    }\n\n    .dataframe thead th {\n        text-align: right;\n    }\n</style>\n<table border=\"1\" class=\"dataframe\">\n  <thead>\n    <tr style=\"text-align: right;\">\n      <th></th>\n      <th>Open</th>\n      <th>High</th>\n      <th>Low</th>\n      <th>Close</th>\n      <th>Volume</th>\n      <th>Dividends</th>\n      <th>Stock Splits</th>\n      <th>Capital Gains</th>\n    </tr>\n    <tr>\n      <th>Date</th>\n      <th></th>\n      <th></th>\n      <th></th>\n      <th></th>\n      <th></th>\n      <th></th>\n      <th></th>\n      <th></th>\n    </tr>\n  </thead>\n  <tbody>\n    <tr>\n      <th>2020-01-02 00:00:00-05:00</th>\n      <td>28.017701</td>\n      <td>28.112290</td>\n      <td>27.535289</td>\n      <td>27.762306</td>\n      <td>40709100</td>\n      <td>0.0</td>\n      <td>0.0</td>\n      <td>0.0</td>\n    </tr>\n    <tr>\n      <th>2020-01-03 00:00:00-05:00</th>\n      <td>28.235258</td>\n      <td>28.254177</td>\n      <td>27.440698</td>\n      <td>27.592043</td>\n      <td>47399500</td>\n      <td>0.0</td>\n      <td>0.0</td>\n      <td>0.0</td>\n    </tr>\n    <tr>\n      <th>2020-01-06 00:00:00-05:00</th>\n      <td>28.140668</td>\n      <td>28.178505</td>\n      <td>27.440698</td>\n      <td>27.639338</td>\n      <td>45483100</td>\n      <td>0.0</td>\n      <td>0.0</td>\n      <td>0.0</td>\n    </tr>\n    <tr>\n      <th>2020-01-07 00:00:00-05:00</th>\n      <td>27.629879</td>\n      <td>27.923111</td>\n      <td>27.450158</td>\n      <td>27.904192</td>\n      <td>39181100</td>\n      <td>0.0</td>\n      <td>0.0</td>\n      <td>0.0</td>\n    </tr>\n    <tr>\n      <th>2020-01-08 00:00:00-05:00</th>\n      <td>27.781224</td>\n      <td>27.837978</td>\n      <td>26.598843</td>\n      <td>26.816401</td>\n      <td>94319100</td>\n      <td>0.0</td>\n      <td>0.0</td>\n      <td>0.0</td>\n    </tr>\n  </tbody>\n</table>\n</div>"
     },
     "execution_count": 12,
     "metadata": {},
     "output_type": "execute_result"
    }
   ],
   "source": [
    "#period is overridden by start\n",
    "history = ticker.history(period=\"1y\", start=\"2020-01-01\", interval=\"1d\")\n",
    "print(f'Got a dataframe from date {history.index[0]} to {history.index[-1]}')\n",
    "history.head()"
   ],
   "metadata": {
    "collapsed": false,
    "ExecuteTime": {
     "end_time": "2024-02-25T05:07:15.264438Z",
     "start_time": "2024-02-25T05:07:14.884482Z"
    }
   },
   "id": "e0adc603d9e7068a",
   "execution_count": 12
  },
  {
   "cell_type": "code",
   "outputs": [
    {
     "name": "stderr",
     "output_type": "stream",
     "text": [
      "GDX: No price data found, symbol may be delisted (period=1y)\n"
     ]
    },
    {
     "ename": "IndexError",
     "evalue": "index 0 is out of bounds for axis 0 with size 0",
     "output_type": "error",
     "traceback": [
      "\u001B[0;31m---------------------------------------------------------------------------\u001B[0m",
      "\u001B[0;31mIndexError\u001B[0m                                Traceback (most recent call last)",
      "Cell \u001B[0;32mIn[13], line 3\u001B[0m\n\u001B[1;32m      1\u001B[0m \u001B[38;5;66;03m# error when passes from\u001B[39;00m\n\u001B[1;32m      2\u001B[0m history \u001B[38;5;241m=\u001B[39m ticker\u001B[38;5;241m.\u001B[39mhistory(period\u001B[38;5;241m=\u001B[39m\u001B[38;5;124m\"\u001B[39m\u001B[38;5;124m1y\u001B[39m\u001B[38;5;124m\"\u001B[39m, end\u001B[38;5;241m=\u001B[39m\u001B[38;5;124m\"\u001B[39m\u001B[38;5;124m2020-01-01\u001B[39m\u001B[38;5;124m\"\u001B[39m, interval\u001B[38;5;241m=\u001B[39m\u001B[38;5;124m\"\u001B[39m\u001B[38;5;124m1d\u001B[39m\u001B[38;5;124m\"\u001B[39m)\n\u001B[0;32m----> 3\u001B[0m \u001B[38;5;28mprint\u001B[39m(\u001B[38;5;124mf\u001B[39m\u001B[38;5;124m'\u001B[39m\u001B[38;5;124mGot a dataframe from date \u001B[39m\u001B[38;5;132;01m{\u001B[39;00mhistory\u001B[38;5;241m.\u001B[39mindex[\u001B[38;5;241m0\u001B[39m]\u001B[38;5;132;01m}\u001B[39;00m\u001B[38;5;124m to \u001B[39m\u001B[38;5;132;01m{\u001B[39;00mhistory\u001B[38;5;241m.\u001B[39mindex[\u001B[38;5;241m-\u001B[39m\u001B[38;5;241m1\u001B[39m]\u001B[38;5;132;01m}\u001B[39;00m\u001B[38;5;124m'\u001B[39m)\n\u001B[1;32m      4\u001B[0m history\u001B[38;5;241m.\u001B[39mhead()\n",
      "File \u001B[0;32m~/PycharmProjects/yfinance_guide_and_sample_code/venv/lib/python3.9/site-packages/pandas/core/indexes/base.py:5389\u001B[0m, in \u001B[0;36mIndex.__getitem__\u001B[0;34m(self, key)\u001B[0m\n\u001B[1;32m   5386\u001B[0m \u001B[38;5;28;01mif\u001B[39;00m is_integer(key) \u001B[38;5;129;01mor\u001B[39;00m is_float(key):\n\u001B[1;32m   5387\u001B[0m     \u001B[38;5;66;03m# GH#44051 exclude bool, which would return a 2d ndarray\u001B[39;00m\n\u001B[1;32m   5388\u001B[0m     key \u001B[38;5;241m=\u001B[39m com\u001B[38;5;241m.\u001B[39mcast_scalar_indexer(key)\n\u001B[0;32m-> 5389\u001B[0m     \u001B[38;5;28;01mreturn\u001B[39;00m \u001B[43mgetitem\u001B[49m\u001B[43m(\u001B[49m\u001B[43mkey\u001B[49m\u001B[43m)\u001B[49m\n\u001B[1;32m   5391\u001B[0m \u001B[38;5;28;01mif\u001B[39;00m \u001B[38;5;28misinstance\u001B[39m(key, \u001B[38;5;28mslice\u001B[39m):\n\u001B[1;32m   5392\u001B[0m     \u001B[38;5;66;03m# This case is separated from the conditional above to avoid\u001B[39;00m\n\u001B[1;32m   5393\u001B[0m     \u001B[38;5;66;03m# pessimization com.is_bool_indexer and ndim checks.\u001B[39;00m\n\u001B[1;32m   5394\u001B[0m     \u001B[38;5;28;01mreturn\u001B[39;00m \u001B[38;5;28mself\u001B[39m\u001B[38;5;241m.\u001B[39m_getitem_slice(key)\n",
      "\u001B[0;31mIndexError\u001B[0m: index 0 is out of bounds for axis 0 with size 0"
     ]
    }
   ],
   "source": [
    "# error when passes from\n",
    "history = ticker.history(period=\"1y\", end=\"2020-01-01\", interval=\"1d\")\n",
    "print(f'Got a dataframe from date {history.index[0]} to {history.index[-1]}')\n",
    "history.head()"
   ],
   "metadata": {
    "collapsed": false,
    "ExecuteTime": {
     "end_time": "2024-02-25T05:07:15.361337Z",
     "start_time": "2024-02-25T05:07:15.062117Z"
    }
   },
   "id": "92f3ff2db43fc264",
   "execution_count": 13
  },
  {
   "cell_type": "code",
   "outputs": [
    {
     "data": {
      "text/plain": "{'currency': 'USD',\n 'symbol': 'GDX',\n 'exchangeName': 'PCX',\n 'instrumentType': 'ETF',\n 'firstTradeDate': 1148304600,\n 'regularMarketTime': 1708722000,\n 'hasPrePostMarketData': True,\n 'gmtoffset': -18000,\n 'timezone': 'EST',\n 'exchangeTimezoneName': 'America/New_York',\n 'regularMarketPrice': 26.66,\n 'chartPreviousClose': 27.31,\n 'priceHint': 2,\n 'currentTradingPeriod': {'pre': {'timezone': 'EST',\n   'start': 1708678800,\n   'end': 1708698600,\n   'gmtoffset': -18000},\n  'regular': {'timezone': 'EST',\n   'start': 1708698600,\n   'end': 1708722000,\n   'gmtoffset': -18000},\n  'post': {'timezone': 'EST',\n   'start': 1708722000,\n   'end': 1708736400,\n   'gmtoffset': -18000}},\n 'dataGranularity': '1d',\n 'range': '1y',\n 'validRanges': ['1d',\n  '5d',\n  '1mo',\n  '3mo',\n  '6mo',\n  '1y',\n  '2y',\n  '5y',\n  '10y',\n  'ytd',\n  'max']}"
     },
     "execution_count": 14,
     "metadata": {},
     "output_type": "execute_result"
    }
   ],
   "source": [
    "ticker.history_metadata"
   ],
   "metadata": {
    "collapsed": false,
    "ExecuteTime": {
     "end_time": "2024-02-25T05:07:21.642075Z",
     "start_time": "2024-02-25T05:07:21.611921Z"
    }
   },
   "id": "ccd0299d4457883c",
   "execution_count": 14
  }
 ],
 "metadata": {
  "kernelspec": {
   "display_name": "Python 3",
   "language": "python",
   "name": "python3"
  },
  "language_info": {
   "codemirror_mode": {
    "name": "ipython",
    "version": 2
   },
   "file_extension": ".py",
   "mimetype": "text/x-python",
   "name": "python",
   "nbconvert_exporter": "python",
   "pygments_lexer": "ipython2",
   "version": "2.7.6"
  }
 },
 "nbformat": 4,
 "nbformat_minor": 5
}
